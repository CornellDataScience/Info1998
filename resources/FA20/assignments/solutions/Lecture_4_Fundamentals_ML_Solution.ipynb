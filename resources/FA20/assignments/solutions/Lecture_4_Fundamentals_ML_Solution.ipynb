{
 "cells": [
  {
   "cell_type": "markdown",
   "metadata": {},
   "source": [
    "# Fundamentals of Machine Learning Part 1"
   ]
  },
  {
   "cell_type": "markdown",
   "metadata": {},
   "source": [
    "### NETID: <fill in here\\>"
   ]
  },
  {
   "cell_type": "code",
   "execution_count": 1,
   "metadata": {},
   "outputs": [],
   "source": [
    "import numpy as np\n",
    "import pandas as pd\n",
    "import sklearn\n",
    "from sklearn.linear_model import LinearRegression\n",
    "from sklearn.model_selection import train_test_split\n",
    "import matplotlib.pyplot as plt"
   ]
  },
  {
   "cell_type": "code",
   "execution_count": 2,
   "metadata": {},
   "outputs": [],
   "source": [
    "# Import the data. Make sure that lecture4data.csv is in the same folder as this file!\n",
    "original_data = pd.read_csv('lecture4data.csv')"
   ]
  },
  {
   "cell_type": "markdown",
   "metadata": {},
   "source": []
  },
  {
   "cell_type": "markdown",
   "metadata": {},
   "source": [
    "# Problem  1: Python Practice"
   ]
  },
  {
   "cell_type": "code",
   "execution_count": 3,
   "metadata": {},
   "outputs": [],
   "source": [
    "problem_1_data = original_data.copy()"
   ]
  },
  {
   "cell_type": "markdown",
   "metadata": {},
   "source": [
    "### a) Print out the first few rows of `problem_1_data`"
   ]
  },
  {
   "cell_type": "code",
   "execution_count": 4,
   "metadata": {},
   "outputs": [
    {
     "data": {
      "text/html": [
       "<div>\n",
       "<style scoped>\n",
       "    .dataframe tbody tr th:only-of-type {\n",
       "        vertical-align: middle;\n",
       "    }\n",
       "\n",
       "    .dataframe tbody tr th {\n",
       "        vertical-align: top;\n",
       "    }\n",
       "\n",
       "    .dataframe thead th {\n",
       "        text-align: right;\n",
       "    }\n",
       "</style>\n",
       "<table border=\"1\" class=\"dataframe\">\n",
       "  <thead>\n",
       "    <tr style=\"text-align: right;\">\n",
       "      <th></th>\n",
       "      <th>name</th>\n",
       "      <th>city</th>\n",
       "      <th>state</th>\n",
       "      <th>adm_rate</th>\n",
       "      <th>undergrads</th>\n",
       "      <th>cost</th>\n",
       "      <th>compl_4</th>\n",
       "      <th>median_hh_inc</th>\n",
       "      <th>median_earnings</th>\n",
       "    </tr>\n",
       "  </thead>\n",
       "  <tbody>\n",
       "    <tr>\n",
       "      <th>0</th>\n",
       "      <td>Alabama A &amp; M University</td>\n",
       "      <td>Normal</td>\n",
       "      <td>AL</td>\n",
       "      <td>0.6538</td>\n",
       "      <td>4505</td>\n",
       "      <td>20809</td>\n",
       "      <td>0.1104</td>\n",
       "      <td>49720.22</td>\n",
       "      <td>29900</td>\n",
       "    </tr>\n",
       "    <tr>\n",
       "      <th>1</th>\n",
       "      <td>University of Alabama at Birmingham</td>\n",
       "      <td>Birmingham</td>\n",
       "      <td>AL</td>\n",
       "      <td>0.6043</td>\n",
       "      <td>11269</td>\n",
       "      <td>22232</td>\n",
       "      <td>0.3173</td>\n",
       "      <td>55735.22</td>\n",
       "      <td>40200</td>\n",
       "    </tr>\n",
       "    <tr>\n",
       "      <th>2</th>\n",
       "      <td>University of Alabama in Huntsville</td>\n",
       "      <td>Huntsville</td>\n",
       "      <td>AL</td>\n",
       "      <td>0.8120</td>\n",
       "      <td>5829</td>\n",
       "      <td>20999</td>\n",
       "      <td>0.1848</td>\n",
       "      <td>58688.62</td>\n",
       "      <td>45600</td>\n",
       "    </tr>\n",
       "    <tr>\n",
       "      <th>3</th>\n",
       "      <td>Alabama State University</td>\n",
       "      <td>Montgomery</td>\n",
       "      <td>AL</td>\n",
       "      <td>0.4639</td>\n",
       "      <td>4740</td>\n",
       "      <td>18100</td>\n",
       "      <td>0.1216</td>\n",
       "      <td>46065.20</td>\n",
       "      <td>26700</td>\n",
       "    </tr>\n",
       "    <tr>\n",
       "      <th>4</th>\n",
       "      <td>The University of Alabama</td>\n",
       "      <td>Tuscaloosa</td>\n",
       "      <td>AL</td>\n",
       "      <td>0.5359</td>\n",
       "      <td>31005</td>\n",
       "      <td>27205</td>\n",
       "      <td>0.4135</td>\n",
       "      <td>57928.41</td>\n",
       "      <td>42700</td>\n",
       "    </tr>\n",
       "  </tbody>\n",
       "</table>\n",
       "</div>"
      ],
      "text/plain": [
       "                                  name        city state  adm_rate  \\\n",
       "0             Alabama A & M University      Normal    AL    0.6538   \n",
       "1  University of Alabama at Birmingham  Birmingham    AL    0.6043   \n",
       "2  University of Alabama in Huntsville  Huntsville    AL    0.8120   \n",
       "3             Alabama State University  Montgomery    AL    0.4639   \n",
       "4            The University of Alabama  Tuscaloosa    AL    0.5359   \n",
       "\n",
       "   undergrads   cost  compl_4  median_hh_inc  median_earnings  \n",
       "0        4505  20809   0.1104       49720.22            29900  \n",
       "1       11269  22232   0.3173       55735.22            40200  \n",
       "2        5829  20999   0.1848       58688.62            45600  \n",
       "3        4740  18100   0.1216       46065.20            26700  \n",
       "4       31005  27205   0.4135       57928.41            42700  "
      ]
     },
     "execution_count": 4,
     "metadata": {},
     "output_type": "execute_result"
    }
   ],
   "source": [
    "problem_1_data.head()"
   ]
  },
  {
   "cell_type": "markdown",
   "metadata": {},
   "source": [
    "### b) Add a new column to `problem_1_data` called `education_profit_ratio` that holds each schools' `median_earnings` divided by its `cost`."
   ]
  },
  {
   "cell_type": "code",
   "execution_count": 5,
   "metadata": {},
   "outputs": [
    {
     "data": {
      "text/html": [
       "<div>\n",
       "<style scoped>\n",
       "    .dataframe tbody tr th:only-of-type {\n",
       "        vertical-align: middle;\n",
       "    }\n",
       "\n",
       "    .dataframe tbody tr th {\n",
       "        vertical-align: top;\n",
       "    }\n",
       "\n",
       "    .dataframe thead th {\n",
       "        text-align: right;\n",
       "    }\n",
       "</style>\n",
       "<table border=\"1\" class=\"dataframe\">\n",
       "  <thead>\n",
       "    <tr style=\"text-align: right;\">\n",
       "      <th></th>\n",
       "      <th>name</th>\n",
       "      <th>city</th>\n",
       "      <th>state</th>\n",
       "      <th>adm_rate</th>\n",
       "      <th>undergrads</th>\n",
       "      <th>cost</th>\n",
       "      <th>compl_4</th>\n",
       "      <th>median_hh_inc</th>\n",
       "      <th>median_earnings</th>\n",
       "      <th>education_profit_ratio</th>\n",
       "    </tr>\n",
       "  </thead>\n",
       "  <tbody>\n",
       "    <tr>\n",
       "      <th>0</th>\n",
       "      <td>Alabama A &amp; M University</td>\n",
       "      <td>Normal</td>\n",
       "      <td>AL</td>\n",
       "      <td>0.6538</td>\n",
       "      <td>4505</td>\n",
       "      <td>20809</td>\n",
       "      <td>0.1104</td>\n",
       "      <td>49720.22</td>\n",
       "      <td>29900</td>\n",
       "      <td>1.436878</td>\n",
       "    </tr>\n",
       "    <tr>\n",
       "      <th>1</th>\n",
       "      <td>University of Alabama at Birmingham</td>\n",
       "      <td>Birmingham</td>\n",
       "      <td>AL</td>\n",
       "      <td>0.6043</td>\n",
       "      <td>11269</td>\n",
       "      <td>22232</td>\n",
       "      <td>0.3173</td>\n",
       "      <td>55735.22</td>\n",
       "      <td>40200</td>\n",
       "      <td>1.808204</td>\n",
       "    </tr>\n",
       "    <tr>\n",
       "      <th>2</th>\n",
       "      <td>University of Alabama in Huntsville</td>\n",
       "      <td>Huntsville</td>\n",
       "      <td>AL</td>\n",
       "      <td>0.8120</td>\n",
       "      <td>5829</td>\n",
       "      <td>20999</td>\n",
       "      <td>0.1848</td>\n",
       "      <td>58688.62</td>\n",
       "      <td>45600</td>\n",
       "      <td>2.171532</td>\n",
       "    </tr>\n",
       "    <tr>\n",
       "      <th>3</th>\n",
       "      <td>Alabama State University</td>\n",
       "      <td>Montgomery</td>\n",
       "      <td>AL</td>\n",
       "      <td>0.4639</td>\n",
       "      <td>4740</td>\n",
       "      <td>18100</td>\n",
       "      <td>0.1216</td>\n",
       "      <td>46065.20</td>\n",
       "      <td>26700</td>\n",
       "      <td>1.475138</td>\n",
       "    </tr>\n",
       "    <tr>\n",
       "      <th>4</th>\n",
       "      <td>The University of Alabama</td>\n",
       "      <td>Tuscaloosa</td>\n",
       "      <td>AL</td>\n",
       "      <td>0.5359</td>\n",
       "      <td>31005</td>\n",
       "      <td>27205</td>\n",
       "      <td>0.4135</td>\n",
       "      <td>57928.41</td>\n",
       "      <td>42700</td>\n",
       "      <td>1.569564</td>\n",
       "    </tr>\n",
       "  </tbody>\n",
       "</table>\n",
       "</div>"
      ],
      "text/plain": [
       "                                  name        city state  adm_rate  \\\n",
       "0             Alabama A & M University      Normal    AL    0.6538   \n",
       "1  University of Alabama at Birmingham  Birmingham    AL    0.6043   \n",
       "2  University of Alabama in Huntsville  Huntsville    AL    0.8120   \n",
       "3             Alabama State University  Montgomery    AL    0.4639   \n",
       "4            The University of Alabama  Tuscaloosa    AL    0.5359   \n",
       "\n",
       "   undergrads   cost  compl_4  median_hh_inc  median_earnings  \\\n",
       "0        4505  20809   0.1104       49720.22            29900   \n",
       "1       11269  22232   0.3173       55735.22            40200   \n",
       "2        5829  20999   0.1848       58688.62            45600   \n",
       "3        4740  18100   0.1216       46065.20            26700   \n",
       "4       31005  27205   0.4135       57928.41            42700   \n",
       "\n",
       "   education_profit_ratio  \n",
       "0                1.436878  \n",
       "1                1.808204  \n",
       "2                2.171532  \n",
       "3                1.475138  \n",
       "4                1.569564  "
      ]
     },
     "execution_count": 5,
     "metadata": {},
     "output_type": "execute_result"
    }
   ],
   "source": [
    "problem_1_data[\"education_profit_ratio\"] = problem_1_data[\"median_earnings\"]/problem_1_data[\"cost\"]\n",
    "problem_1_data.head()"
   ]
  },
  {
   "cell_type": "markdown",
   "metadata": {},
   "source": [
    "### c) (OPTIONAL) Briefly describe what `cost_single_brackets`, `cost_double_brackets`, and `multiple_columns` look like (what their shapes/dimensions are).\n",
    "\n",
    "<b>Hint</b>: You can use Python's `type` function to tell the type of an objective. For example, `print(type(dylanIsCool))` will print out the type of `dylanIsCool`. You can also try printing out the object to see what it looks like."
   ]
  },
  {
   "cell_type": "code",
   "execution_count": 6,
   "metadata": {},
   "outputs": [],
   "source": [
    "multiple_columns = problem_1_data[['cost', 'median_earnings']]\n",
    "cost_single_brackets = problem_1_data['cost']\n",
    "cost_double_brackets = problem_1_data[['cost']]"
   ]
  },
  {
   "cell_type": "markdown",
   "metadata": {},
   "source": [
    "ANSWER: `multiple_columns` is a dataframe (2-dimensional) with 2 columns. `cost_double_brackets` is a dataframe (2-dimensional) with 1 column. `cost_single_brackets` is a single column (1-dimensional!)."
   ]
  },
  {
   "cell_type": "markdown",
   "metadata": {},
   "source": [
    "# Basics of Machine Learning\n",
    "\n",
    "So far we have discussed the importance of data visualization and data preprocessing. These steps are important in preparing the datasets. Now, we will start our machine learning section of the course. We have already discussed how a machine learning model is like a function, and we will now explain a bit more using __linear regression__ models. Before we begin, we should import some useful python."
   ]
  },
  {
   "cell_type": "markdown",
   "metadata": {},
   "source": [
    "This dataset contains information on different colleges across the US. The full dataset was assembled from https://collegescorecard.ed.gov/data/ and this version was trimmed down to a few important columns and cleaned to removed schools with missing data.\n",
    "\n",
    "We will look at adm_rate (admission rate), undergrads (number of undergrads), cost (cost to attand the college for a year), compl_4 (percent of students graduated in 4 years), median_hh_inc (median household income of students), and median_earnings (median earnings 10 years after starting college).\n",
    "\n",
    "We want to predict median_earnings using other columns in the data set. In other words, we have some inputs from the dataframe (such as cost), and we want to output another column in the dataframe (median_earnings)."
   ]
  },
  {
   "cell_type": "markdown",
   "metadata": {},
   "source": [
    "# Section 1: Intro"
   ]
  },
  {
   "cell_type": "markdown",
   "metadata": {},
   "source": [
    "To keep things clean throughout this Jupyter Notebook, in each section, we first make a copy of the original data. You won't have to do this in your own projects."
   ]
  },
  {
   "cell_type": "code",
   "execution_count": 7,
   "metadata": {},
   "outputs": [
    {
     "data": {
      "text/html": [
       "<div>\n",
       "<style scoped>\n",
       "    .dataframe tbody tr th:only-of-type {\n",
       "        vertical-align: middle;\n",
       "    }\n",
       "\n",
       "    .dataframe tbody tr th {\n",
       "        vertical-align: top;\n",
       "    }\n",
       "\n",
       "    .dataframe thead th {\n",
       "        text-align: right;\n",
       "    }\n",
       "</style>\n",
       "<table border=\"1\" class=\"dataframe\">\n",
       "  <thead>\n",
       "    <tr style=\"text-align: right;\">\n",
       "      <th></th>\n",
       "      <th>name</th>\n",
       "      <th>city</th>\n",
       "      <th>state</th>\n",
       "      <th>adm_rate</th>\n",
       "      <th>undergrads</th>\n",
       "      <th>cost</th>\n",
       "      <th>compl_4</th>\n",
       "      <th>median_hh_inc</th>\n",
       "      <th>median_earnings</th>\n",
       "    </tr>\n",
       "  </thead>\n",
       "  <tbody>\n",
       "    <tr>\n",
       "      <th>0</th>\n",
       "      <td>Alabama A &amp; M University</td>\n",
       "      <td>Normal</td>\n",
       "      <td>AL</td>\n",
       "      <td>0.6538</td>\n",
       "      <td>4505</td>\n",
       "      <td>20809</td>\n",
       "      <td>0.1104</td>\n",
       "      <td>49720.22</td>\n",
       "      <td>29900</td>\n",
       "    </tr>\n",
       "    <tr>\n",
       "      <th>1</th>\n",
       "      <td>University of Alabama at Birmingham</td>\n",
       "      <td>Birmingham</td>\n",
       "      <td>AL</td>\n",
       "      <td>0.6043</td>\n",
       "      <td>11269</td>\n",
       "      <td>22232</td>\n",
       "      <td>0.3173</td>\n",
       "      <td>55735.22</td>\n",
       "      <td>40200</td>\n",
       "    </tr>\n",
       "    <tr>\n",
       "      <th>2</th>\n",
       "      <td>University of Alabama in Huntsville</td>\n",
       "      <td>Huntsville</td>\n",
       "      <td>AL</td>\n",
       "      <td>0.8120</td>\n",
       "      <td>5829</td>\n",
       "      <td>20999</td>\n",
       "      <td>0.1848</td>\n",
       "      <td>58688.62</td>\n",
       "      <td>45600</td>\n",
       "    </tr>\n",
       "    <tr>\n",
       "      <th>3</th>\n",
       "      <td>Alabama State University</td>\n",
       "      <td>Montgomery</td>\n",
       "      <td>AL</td>\n",
       "      <td>0.4639</td>\n",
       "      <td>4740</td>\n",
       "      <td>18100</td>\n",
       "      <td>0.1216</td>\n",
       "      <td>46065.20</td>\n",
       "      <td>26700</td>\n",
       "    </tr>\n",
       "    <tr>\n",
       "      <th>4</th>\n",
       "      <td>The University of Alabama</td>\n",
       "      <td>Tuscaloosa</td>\n",
       "      <td>AL</td>\n",
       "      <td>0.5359</td>\n",
       "      <td>31005</td>\n",
       "      <td>27205</td>\n",
       "      <td>0.4135</td>\n",
       "      <td>57928.41</td>\n",
       "      <td>42700</td>\n",
       "    </tr>\n",
       "  </tbody>\n",
       "</table>\n",
       "</div>"
      ],
      "text/plain": [
       "                                  name        city state  adm_rate  \\\n",
       "0             Alabama A & M University      Normal    AL    0.6538   \n",
       "1  University of Alabama at Birmingham  Birmingham    AL    0.6043   \n",
       "2  University of Alabama in Huntsville  Huntsville    AL    0.8120   \n",
       "3             Alabama State University  Montgomery    AL    0.4639   \n",
       "4            The University of Alabama  Tuscaloosa    AL    0.5359   \n",
       "\n",
       "   undergrads   cost  compl_4  median_hh_inc  median_earnings  \n",
       "0        4505  20809   0.1104       49720.22            29900  \n",
       "1       11269  22232   0.3173       55735.22            40200  \n",
       "2        5829  20999   0.1848       58688.62            45600  \n",
       "3        4740  18100   0.1216       46065.20            26700  \n",
       "4       31005  27205   0.4135       57928.41            42700  "
      ]
     },
     "execution_count": 7,
     "metadata": {},
     "output_type": "execute_result"
    }
   ],
   "source": [
    "section_1_data = original_data.copy()\n",
    "section_1_data.head()"
   ]
  },
  {
   "cell_type": "markdown",
   "metadata": {},
   "source": [
    "Now, let's start machine learning! We'll choose a set of inputs, and then use machine learning to predict median_earnings using that set of inputs"
   ]
  },
  {
   "cell_type": "code",
   "execution_count": 8,
   "metadata": {},
   "outputs": [],
   "source": [
    "inputs = section_1_data[['cost']]\n",
    "outputs = section_1_data['median_earnings']"
   ]
  },
  {
   "cell_type": "code",
   "execution_count": 9,
   "metadata": {},
   "outputs": [
    {
     "name": "stdout",
     "output_type": "stream",
     "text": [
      "<class 'pandas.core.frame.DataFrame'>\n"
     ]
    },
    {
     "data": {
      "text/html": [
       "<div>\n",
       "<style scoped>\n",
       "    .dataframe tbody tr th:only-of-type {\n",
       "        vertical-align: middle;\n",
       "    }\n",
       "\n",
       "    .dataframe tbody tr th {\n",
       "        vertical-align: top;\n",
       "    }\n",
       "\n",
       "    .dataframe thead th {\n",
       "        text-align: right;\n",
       "    }\n",
       "</style>\n",
       "<table border=\"1\" class=\"dataframe\">\n",
       "  <thead>\n",
       "    <tr style=\"text-align: right;\">\n",
       "      <th></th>\n",
       "      <th>cost</th>\n",
       "    </tr>\n",
       "  </thead>\n",
       "  <tbody>\n",
       "    <tr>\n",
       "      <th>0</th>\n",
       "      <td>20809</td>\n",
       "    </tr>\n",
       "    <tr>\n",
       "      <th>1</th>\n",
       "      <td>22232</td>\n",
       "    </tr>\n",
       "    <tr>\n",
       "      <th>2</th>\n",
       "      <td>20999</td>\n",
       "    </tr>\n",
       "    <tr>\n",
       "      <th>3</th>\n",
       "      <td>18100</td>\n",
       "    </tr>\n",
       "    <tr>\n",
       "      <th>4</th>\n",
       "      <td>27205</td>\n",
       "    </tr>\n",
       "  </tbody>\n",
       "</table>\n",
       "</div>"
      ],
      "text/plain": [
       "    cost\n",
       "0  20809\n",
       "1  22232\n",
       "2  20999\n",
       "3  18100\n",
       "4  27205"
      ]
     },
     "execution_count": 9,
     "metadata": {},
     "output_type": "execute_result"
    }
   ],
   "source": [
    "print(type(inputs))\n",
    "inputs.head(5)"
   ]
  },
  {
   "cell_type": "code",
   "execution_count": 10,
   "metadata": {},
   "outputs": [
    {
     "name": "stdout",
     "output_type": "stream",
     "text": [
      "<class 'pandas.core.series.Series'>\n"
     ]
    },
    {
     "data": {
      "text/plain": [
       "0    29900\n",
       "1    40200\n",
       "2    45600\n",
       "3    26700\n",
       "4    42700\n",
       "Name: median_earnings, dtype: int64"
      ]
     },
     "execution_count": 10,
     "metadata": {},
     "output_type": "execute_result"
    }
   ],
   "source": [
    "print(type(outputs))\n",
    "outputs[:5]"
   ]
  },
  {
   "cell_type": "code",
   "execution_count": 11,
   "metadata": {},
   "outputs": [],
   "source": [
    "ML_object_that_predicts = LinearRegression()"
   ]
  },
  {
   "cell_type": "markdown",
   "metadata": {},
   "source": [
    "We called a function in sklearn called `LinearRegression` and stored the result in `ML_object_that_predicts`. `ML_object_that_predicts` is an object with several useful functions. You can access these functions through `ML_object_that_predicts.<insert function name here>`. As its name implies, we'll use these functions to make predictions.\n",
    "\n",
    "To do this, we're use the `fit` function and `predict` functions. We'll go into what fitting is later. To predict, give `ML_object_that_predicts` a set of inputs, and it'll spit out a set of predictions based on those inputs."
   ]
  },
  {
   "cell_type": "code",
   "execution_count": 12,
   "metadata": {},
   "outputs": [
    {
     "data": {
      "text/html": [
       "<div>\n",
       "<style scoped>\n",
       "    .dataframe tbody tr th:only-of-type {\n",
       "        vertical-align: middle;\n",
       "    }\n",
       "\n",
       "    .dataframe tbody tr th {\n",
       "        vertical-align: top;\n",
       "    }\n",
       "\n",
       "    .dataframe thead th {\n",
       "        text-align: right;\n",
       "    }\n",
       "</style>\n",
       "<table border=\"1\" class=\"dataframe\">\n",
       "  <thead>\n",
       "    <tr style=\"text-align: right;\">\n",
       "      <th></th>\n",
       "      <th>REAL median_income</th>\n",
       "      <th>PREDICTED median_income</th>\n",
       "    </tr>\n",
       "  </thead>\n",
       "  <tbody>\n",
       "    <tr>\n",
       "      <th>0</th>\n",
       "      <td>36200</td>\n",
       "      <td>35659.150942</td>\n",
       "    </tr>\n",
       "    <tr>\n",
       "      <th>1</th>\n",
       "      <td>42700</td>\n",
       "      <td>44239.451395</td>\n",
       "    </tr>\n",
       "    <tr>\n",
       "      <th>2</th>\n",
       "      <td>42500</td>\n",
       "      <td>37177.409277</td>\n",
       "    </tr>\n",
       "    <tr>\n",
       "      <th>3</th>\n",
       "      <td>42800</td>\n",
       "      <td>42462.534625</td>\n",
       "    </tr>\n",
       "    <tr>\n",
       "      <th>4</th>\n",
       "      <td>35200</td>\n",
       "      <td>45324.623556</td>\n",
       "    </tr>\n",
       "    <tr>\n",
       "      <th>5</th>\n",
       "      <td>45800</td>\n",
       "      <td>41478.088340</td>\n",
       "    </tr>\n",
       "    <tr>\n",
       "      <th>6</th>\n",
       "      <td>49200</td>\n",
       "      <td>48904.428228</td>\n",
       "    </tr>\n",
       "    <tr>\n",
       "      <th>7</th>\n",
       "      <td>31100</td>\n",
       "      <td>44439.499303</td>\n",
       "    </tr>\n",
       "    <tr>\n",
       "      <th>8</th>\n",
       "      <td>43900</td>\n",
       "      <td>36473.381025</td>\n",
       "    </tr>\n",
       "    <tr>\n",
       "      <th>9</th>\n",
       "      <td>21400</td>\n",
       "      <td>42818.760286</td>\n",
       "    </tr>\n",
       "  </tbody>\n",
       "</table>\n",
       "</div>"
      ],
      "text/plain": [
       "   REAL median_income  PREDICTED median_income\n",
       "0               36200             35659.150942\n",
       "1               42700             44239.451395\n",
       "2               42500             37177.409277\n",
       "3               42800             42462.534625\n",
       "4               35200             45324.623556\n",
       "5               45800             41478.088340\n",
       "6               49200             48904.428228\n",
       "7               31100             44439.499303\n",
       "8               43900             36473.381025\n",
       "9               21400             42818.760286"
      ]
     },
     "execution_count": 12,
     "metadata": {},
     "output_type": "execute_result"
    }
   ],
   "source": [
    "known_input, future_input, known_output, future_output = train_test_split(inputs, outputs, test_size=0.2, random_state=42)\n",
    "\n",
    "ML_object_that_predicts.fit(known_input, known_output) # tell it known stuff\n",
    "\n",
    "predictions = ML_object_that_predicts.predict(future_input) # given future input, predict future output!\n",
    "\n",
    "# compare actual median_earnings and the predicted median_earnings\n",
    "pd.DataFrame({\"REAL median_income\":future_output, \"PREDICTED median_income\":predictions}).reset_index(drop=True).head(10)"
   ]
  },
  {
   "cell_type": "markdown",
   "metadata": {},
   "source": [
    "Now we'll call the `score` function of `ML_object_that_predicts`. This returns a \"score\", which is a measure of how accurate the predictions are. The best score is 1, and negative scores are really bad."
   ]
  },
  {
   "cell_type": "code",
   "execution_count": 13,
   "metadata": {},
   "outputs": [
    {
     "name": "stdout",
     "output_type": "stream",
     "text": [
      "Score: 0.17036266107284015\n"
     ]
    }
   ],
   "source": [
    "print(\"Score:\", ML_object_that_predicts.score(future_input, future_output))"
   ]
  },
  {
   "cell_type": "markdown",
   "metadata": {},
   "source": [
    "Let's quickly visualize what we just did. The blue points are the true values, and the black points (which are close together, so they look like a line) are our predictions. Our predictions aren't super accurate, but they're somewhat close for most points."
   ]
  },
  {
   "cell_type": "code",
   "execution_count": 14,
   "metadata": {},
   "outputs": [
    {
     "data": {
      "image/png": "[encoded data removed]",
      "text/plain": [
       "<Figure size 432x288 with 1 Axes>"
      ]
     },
     "metadata": {
      "needs_background": "light"
     },
     "output_type": "display_data"
    }
   ],
   "source": [
    "plt.scatter(future_input, future_output)\n",
    "plt.plot(future_input, predictions, 'k', linewidth=4)\n",
    "plt.legend([\"Predictions\",\"Actual Values\"])\n",
    "plt.title('Cost of Attendance vs Median Earnings')\n",
    "plt.xlabel('Cost of Attendance')\n",
    "plt.ylabel('Median Earnings')\n",
    "plt.show()"
   ]
  },
  {
   "cell_type": "markdown",
   "metadata": {},
   "source": [
    "### Summary:\n",
    "\n",
    "sklearn has an object called `ML_object_that_predicts`. We \"fit\" it on some inputs and outputs. Then, we give `ML_object_that_predicts` some more inputs, and it predicts outputs.\n",
    "\n",
    "### What we don't know:\n",
    "\n",
    "What's \"fitting\"?\n",
    "\n",
    "Why do we split the dataset up?\n",
    "\n",
    "How does the model make predictions?\n",
    "\n",
    "How do we increase the model's score (how do we make our model better)?"
   ]
  },
  {
   "cell_type": "markdown",
   "metadata": {},
   "source": [
    "# Section 2: Fitting / Training"
   ]
  },
  {
   "cell_type": "code",
   "execution_count": 15,
   "metadata": {},
   "outputs": [],
   "source": [
    "section_2_data = original_data.copy()"
   ]
  },
  {
   "cell_type": "markdown",
   "metadata": {},
   "source": [
    "The inputs are called \"features\", and the output is called the \"target\".\n",
    "\n",
    "`ML_object_that_predicts` is a \"model\""
   ]
  },
  {
   "cell_type": "code",
   "execution_count": 16,
   "metadata": {},
   "outputs": [],
   "source": [
    "features = section_2_data[['cost']]\n",
    "target = section_2_data['median_earnings']\n",
    "model = LinearRegression()"
   ]
  },
  {
   "cell_type": "markdown",
   "metadata": {},
   "source": [
    "In reality, we will train a model on known data, and that model is our product -- we're done with it, and we ship it out to be used. The user will give it new data, and the model will predict the corresponding outputs.\n",
    "We emulate that by splitting our data into \"known\" data and \"new\" data. There're a lot of synonyms for known data and new data, and we'll introduce a couple today."
   ]
  },
  {
   "cell_type": "code",
   "execution_count": 17,
   "metadata": {},
   "outputs": [
    {
     "name": "stdout",
     "output_type": "stream",
     "text": [
      "Score: 0.17036266107284015\n"
     ]
    }
   ],
   "source": [
    "from sklearn.model_selection import train_test_split\n",
    "known_data, new_data, known_output, goal_output = train_test_split(features, target, test_size=0.2, random_state=42)\n",
    "\n",
    "# Here, we call the values we are trying to predict the \"goal_output\".\n",
    "# Our goal is to make a model that, when given known_output, can try to predict goal_output.\n",
    "\n",
    "model.fit(known_data, known_output) # train/fit on known inputs\n",
    "predictions = model.predict(new_data) # predict on new data\n",
    "\n",
    "print(\"Score:\", model.score(new_data, goal_output))"
   ]
  },
  {
   "cell_type": "markdown",
   "metadata": {},
   "source": [
    "### Summary\n",
    "`LinearRegression()` returns a \"model\", which is an object that we first train, then use to predict values. To train, we call `model.fit` with known features and their corresponding outputs. To predict, we call `model.predict` on some new set of data, which it wasn't trained on\n",
    "\n",
    "### What we still don't know\n",
    "\n",
    "How does the model make predictions?\n",
    "\n",
    "How do we increase the model's score (how do we make our model better)?"
   ]
  },
  {
   "cell_type": "markdown",
   "metadata": {},
   "source": [
    "# Section 3: Models"
   ]
  },
  {
   "cell_type": "code",
   "execution_count": 18,
   "metadata": {},
   "outputs": [],
   "source": [
    "section_3_data = original_data.copy()"
   ]
  },
  {
   "cell_type": "code",
   "execution_count": 19,
   "metadata": {},
   "outputs": [
    {
     "data": {
      "text/plain": [
       "LinearRegression()"
      ]
     },
     "execution_count": 19,
     "metadata": {},
     "output_type": "execute_result"
    }
   ],
   "source": [
    "features = section_3_data[['cost','adm_rate']]\n",
    "target = section_3_data['median_earnings']\n",
    "x_train, x_test, y_train, y_test = train_test_split(features, target, test_size=0.2, random_state=42)\n",
    "model = LinearRegression()\n",
    "model.fit(x_train, y_train)"
   ]
  },
  {
   "cell_type": "markdown",
   "metadata": {},
   "source": [
    "Running the following cell will pull up a description of `model`."
   ]
  },
  {
   "cell_type": "code",
   "execution_count": 20,
   "metadata": {},
   "outputs": [],
   "source": [
    "# if the popup annoys you, then feel free to comment out the following line\n",
    "model?"
   ]
  },
  {
   "cell_type": "code",
   "execution_count": 21,
   "metadata": {},
   "outputs": [
    {
     "data": {
      "text/plain": [
       "array([ 3.14511519e-01, -8.76543392e+03])"
      ]
     },
     "execution_count": 21,
     "metadata": {},
     "output_type": "execute_result"
    }
   ],
   "source": [
    "model.coef_"
   ]
  },
  {
   "cell_type": "code",
   "execution_count": 22,
   "metadata": {},
   "outputs": [
    {
     "data": {
      "text/plain": [
       "37049.972009516816"
      ]
     },
     "execution_count": 22,
     "metadata": {},
     "output_type": "execute_result"
    }
   ],
   "source": [
    "model.intercept_"
   ]
  },
  {
   "cell_type": "markdown",
   "metadata": {},
   "source": [
    "`model` is a linear regression model of the form $y = B_1*x_1 + B_2*x_2 + k$, where:\n",
    "\n",
    "$y = $ median_earnings, our target\n",
    "\n",
    "$x_1 = $ cost\n",
    "\n",
    "$B_1 = 3.14511519e-01$, the coefficient on cost\n",
    "\n",
    "$x_2 = $ admission rate\n",
    "\n",
    "$B_2 = -8.76543392e+03$, the coefficient on admission rate\n",
    "\n",
    "$k = 37049.972$, the intercept. \n",
    "\n",
    "We won't talk too much about the intercept in this class, but if you're interested in learning more, feel free to ask us after class.\n",
    "\n",
    "Say you have information about a school's cost and admission rate. Then, `model` can use the school's cost and admission rate to predict the school's median earnings. How does it do that? It calculates $predicted\\_median\\_earnings = B_1*cost + B_2 * x_2$\n",
    "\n",
    "Let's try this out on an example."
   ]
  },
  {
   "cell_type": "code",
   "execution_count": 23,
   "metadata": {},
   "outputs": [
    {
     "data": {
      "text/html": [
       "<div>\n",
       "<style scoped>\n",
       "    .dataframe tbody tr th:only-of-type {\n",
       "        vertical-align: middle;\n",
       "    }\n",
       "\n",
       "    .dataframe tbody tr th {\n",
       "        vertical-align: top;\n",
       "    }\n",
       "\n",
       "    .dataframe thead th {\n",
       "        text-align: right;\n",
       "    }\n",
       "</style>\n",
       "<table border=\"1\" class=\"dataframe\">\n",
       "  <thead>\n",
       "    <tr style=\"text-align: right;\">\n",
       "      <th></th>\n",
       "      <th>name</th>\n",
       "      <th>city</th>\n",
       "      <th>state</th>\n",
       "      <th>adm_rate</th>\n",
       "      <th>undergrads</th>\n",
       "      <th>cost</th>\n",
       "      <th>compl_4</th>\n",
       "      <th>median_hh_inc</th>\n",
       "      <th>median_earnings</th>\n",
       "    </tr>\n",
       "  </thead>\n",
       "  <tbody>\n",
       "    <tr>\n",
       "      <th>1</th>\n",
       "      <td>University of Alabama at Birmingham</td>\n",
       "      <td>Birmingham</td>\n",
       "      <td>AL</td>\n",
       "      <td>0.6043</td>\n",
       "      <td>11269</td>\n",
       "      <td>22232</td>\n",
       "      <td>0.3173</td>\n",
       "      <td>55735.22</td>\n",
       "      <td>40200</td>\n",
       "    </tr>\n",
       "  </tbody>\n",
       "</table>\n",
       "</div>"
      ],
      "text/plain": [
       "                                  name        city state  adm_rate  \\\n",
       "1  University of Alabama at Birmingham  Birmingham    AL    0.6043   \n",
       "\n",
       "   undergrads   cost  compl_4  median_hh_inc  median_earnings  \n",
       "1       11269  22232   0.3173       55735.22            40200  "
      ]
     },
     "execution_count": 23,
     "metadata": {},
     "output_type": "execute_result"
    }
   ],
   "source": [
    "section_3_data.loc[1:1]"
   ]
  },
  {
   "cell_type": "code",
   "execution_count": 24,
   "metadata": {},
   "outputs": [],
   "source": [
    "example_cost = 22232\n",
    "example_admission_rate = 0.6043"
   ]
  },
  {
   "cell_type": "code",
   "execution_count": 25,
   "metadata": {},
   "outputs": [
    {
     "name": "stdout",
     "output_type": "stream",
     "text": [
      "38745.240382799544\n"
     ]
    }
   ],
   "source": [
    "B1 = model.coef_[0]\n",
    "B2 = model.coef_[1]\n",
    "k = model.intercept_\n",
    "manually_predicted_median_earnings = B1 * example_cost + B2 * example_admission_rate + k\n",
    "print(manually_predicted_median_earnings)"
   ]
  },
  {
   "cell_type": "code",
   "execution_count": 26,
   "metadata": {},
   "outputs": [
    {
     "data": {
      "text/plain": [
       "38745.240382799544"
      ]
     },
     "execution_count": 26,
     "metadata": {},
     "output_type": "execute_result"
    }
   ],
   "source": [
    "model.predict([[example_cost,example_admission_rate]])[0]"
   ]
  },
  {
   "cell_type": "markdown",
   "metadata": {},
   "source": [
    "The two results were the same. From this, we can conclude that `model.predict` is really just outputting $B_1*x_1 + B_2*x_2 + k$.\n",
    "\n",
    "(When we look at other algorithms in later lectures, the equation will be different. However, the general idea is the same: `model.fit` created an equation, and `model.predict` uses that equation)"
   ]
  },
  {
   "cell_type": "markdown",
   "metadata": {},
   "source": [
    "### Summary\n",
    "Our `model` is an object. When we train it (by calling `model.fit`), we're setting its parameters (for example, $B_1$, $B_2$, and k). When we predict (by calling `model.predict(new_data)`), `model` is applying a function to each row of `new_data` in order to get a prediction.\n",
    "\n",
    "\n",
    "### What we still don't know\n",
    "\n",
    "How do we increase the model's score (how do we make our model better)?"
   ]
  },
  {
   "cell_type": "markdown",
   "metadata": {},
   "source": [
    "## Problem 2\n",
    "\n",
    "Use 'cost' and 'compl_4' to predict 'median_earnings'.\n",
    "\n",
    "Use a train test split of 25% as a test set (not 20%, which all the previous examples used).\n",
    "\n",
    "Print out the median_earnings predicted for the test set. Also print out the model's score."
   ]
  },
  {
   "cell_type": "code",
   "execution_count": 27,
   "metadata": {},
   "outputs": [],
   "source": [
    "problem_2_data = original_data.copy()"
   ]
  },
  {
   "cell_type": "code",
   "execution_count": 28,
   "metadata": {},
   "outputs": [
    {
     "name": "stdout",
     "output_type": "stream",
     "text": [
      "[34954.72536418 40410.85713332 36480.81798438 40138.62848108\n",
      " 44187.0968993  37404.7894275  50467.6814512  45120.43926512\n",
      " 36343.56624722 37055.77481674 40138.62848108 36930.10985987\n",
      " 53875.9399609  49155.88377157 51740.46069704 49034.16269532\n",
      " 46855.4578778  51532.08050656 42197.87445029 41591.11294869\n",
      " 33819.9718554  33140.16726042 46220.43415905 39612.23017235\n",
      " 36008.11681982 37730.3379836  39306.14875674 50114.08248327\n",
      " 51323.71050948 50568.54576145 54324.01230879 40609.20313398\n",
      " 36128.72617035 47126.8003334  39757.08030641 37638.30465889\n",
      " 41028.23646945 43284.12120672 43195.85220328 35484.51222084\n",
      " 45844.8896195  43968.30961328 32261.1038189  46444.51404203\n",
      " 46149.49446143 39747.37345318 51910.26065266 37731.58329593\n",
      " 34624.48131749 47916.40768869 46604.77790805 44970.03942474\n",
      " 35697.25923089 35357.51294008 39156.80974131 34970.63772653\n",
      " 40853.56479543 45646.56640339 45143.91498001 44057.59173691\n",
      " 41680.15781661 35788.71064293 53651.35005525 41318.05106997\n",
      " 45035.35199857 32720.32208233 41461.96317284 44008.66110581\n",
      " 41820.11285128 35415.85180643 33368.45772435 37736.54102871\n",
      " 41307.87536533 48916.46871271 35283.85382045 42936.64086601\n",
      " 46301.54763347 43059.53743097 44465.68043441 37073.28014556\n",
      " 46597.49485304 43500.55991606 36744.38414951 38272.49041594\n",
      " 48932.29012965 46029.75445106 35490.91973951 42543.77954551\n",
      " 35920.02604131 54755.14165198 36068.65815436 45217.54551654\n",
      " 35471.76320869 47941.50175716 45450.14530248 35252.70348707\n",
      " 34593.60335343 52232.83561132 33697.80724557 34131.32374313\n",
      " 37668.1562459  43071.6506265  45090.41771273 44989.61356886\n",
      " 37403.25309106 39000.58782828 55149.44096846 46745.42552191\n",
      " 44199.3642008  47095.69557213 48422.33393003 48567.74805697\n",
      " 37129.14084587 49884.6383844  53576.15233399 40079.1531706\n",
      " 40532.74537358 43238.94250456 36936.90607739 39755.73019238\n",
      " 34916.92252702 47544.34563665 41474.35013539 33495.67014185\n",
      " 46396.48419885 40874.85550104 47587.60890049 39115.81217249\n",
      " 38408.77220728 36165.5833132  53376.83292344 52890.49868275\n",
      " 37128.89126409 47268.73663277 43618.36336632 50912.47991492\n",
      " 36490.7539663  42708.90873195 35580.01744203 34315.32016832\n",
      " 41622.98864342 40990.08071277 38014.3372408  42709.62303237\n",
      " 43327.66869906 42584.29307522 49365.55950944 42119.85490608\n",
      " 39690.32593816 41964.65777059 45387.68706867 46583.4893351\n",
      " 39433.88092641 42624.63250677 52673.21468594 46210.97482421\n",
      " 51442.117928   46593.67469998 41087.20655275 34331.36738242\n",
      " 49403.11209912 38374.32766918 51290.35384621 35428.12450585\n",
      " 47833.80964912 53066.18880561 34928.75122897 36756.66231312\n",
      " 43725.59661754 33173.58895183 41716.02449429 41562.12603891\n",
      " 55356.85694239 33081.80587459 36540.17396816 46563.29543259\n",
      " 36836.6541305  49143.93780632 36213.24044949 32852.36390838\n",
      " 47064.10937129 49045.00119718 40312.19502318 41600.53963992\n",
      " 49824.19645964 46871.04703633 44464.75506064 44303.55363033\n",
      " 35354.84895524 39829.21775013 33598.80927419 36627.52013112\n",
      " 38470.8035049  44520.69284706 45394.20625092 41117.0807255\n",
      " 36748.1246169  45638.49935689 47763.95775705 55439.78491512\n",
      " 52194.55213284 38514.7526186  40682.62299777 51795.25990668\n",
      " 40684.44023118 46912.73192196 34305.43089111 35982.81221416\n",
      " 45572.14734498 43876.8385464  35740.53875176 54048.50504016\n",
      " 36171.01289158 33830.0247     35014.78159027 38033.90818593\n",
      " 39922.44708291 49512.50157771 37103.33181127 36715.94244228\n",
      " 44813.6884555  41348.18121948 35883.02798308 46927.36759052\n",
      " 50171.01666595 41305.69901623 36230.74691391 40015.76782799\n",
      " 51350.10818908 51281.07959818 37935.83219052 35201.39123207\n",
      " 44887.59902448 40478.80131346 38236.18680447 53680.59993921\n",
      " 37003.37328623 42280.19432499 38760.88740831 55377.80218979\n",
      " 35370.34969864 55646.02020424 34803.6910416  40892.15828715\n",
      " 35123.39500558 43602.37125203 56020.82639369 44983.07433116\n",
      " 40250.61485298 38669.72122483 44055.39213636 39928.34051241\n",
      " 42602.22721081 41536.81057113 41283.97150937 31154.53956794\n",
      " 46599.48964568 38364.69230534 52184.1831451  46053.50739704\n",
      " 44279.42870943 42303.2376335  34640.87745387 54281.83971815\n",
      " 35662.59082947 48936.0456552  39163.31333523 55554.51402675\n",
      " 36459.5406049  37240.9506586  41792.85435915 41256.75412822\n",
      " 42587.51492303 35569.70841886 36108.19460529 34108.6881196\n",
      " 39253.00314684 36819.25766689 45652.88104581 46844.65315515\n",
      " 45755.69730568 38434.78045606 34954.36624849 36039.92302228\n",
      " 39012.4249916  39285.04860513 56104.4989157  42521.5522064\n",
      " 40802.34468471 54600.46080459 37838.84566342 37991.91468774\n",
      " 38571.95910434 34567.4781757  35876.88863469 44366.61550104\n",
      " 39744.79707923 37631.12733937 45583.11456869 34073.67812467\n",
      " 41644.97772376 36735.93846502 40681.52566151 35234.55661236\n",
      " 36036.68051957 39974.05322665 35553.42375024 36480.37964991\n",
      " 37428.93640098 51495.86517468 36722.81567965 35990.97873371\n",
      " 39000.58782828 37390.72114662 42880.09504782 40637.56422175\n",
      " 44544.3755718 ]\n",
      "0.27687750853181603\n"
     ]
    }
   ],
   "source": [
    "# Fill in this cell with your code. We've provided helpful psuedocode.\n",
    "\n",
    "# define X = the cost and compl_4 columns\n",
    "# define Y = median_earnings\n",
    "X = problem_2_data[[\"cost\", \"compl_4\"]]\n",
    "Y = problem_2_data[\"median_earnings\"]\n",
    "\n",
    "# split X and Y into train and test sets (using sklearn)\n",
    "x_train, x_test, y_train, y_test = train_test_split(X, Y, test_size=0.2, random_state=42)\n",
    "\n",
    "# create your model\n",
    "model = LinearRegression()\n",
    "\n",
    "# fit your model\n",
    "model.fit(x_train, y_train)\n",
    "\n",
    "# predict and print out the median earnings for the test set\n",
    "\n",
    "predictions = model.predict(x_test)\n",
    "print(predictions)\n",
    "\n",
    "# print out the score\n",
    "print(model.score(x_test,y_test))"
   ]
  },
  {
   "cell_type": "markdown",
   "metadata": {},
   "source": [
    "# Section 4: Validation and Testing"
   ]
  },
  {
   "cell_type": "code",
   "execution_count": 29,
   "metadata": {},
   "outputs": [],
   "source": [
    "section_4_data = original_data.copy()"
   ]
  },
  {
   "cell_type": "code",
   "execution_count": 30,
   "metadata": {},
   "outputs": [
    {
     "name": "stdout",
     "output_type": "stream",
     "text": [
      "training score: 0.769963851281587\n",
      "validation score: 0.15056033082220388\n"
     ]
    }
   ],
   "source": [
    "X = section_4_data.drop([\"name\",\"median_earnings\"], axis=1) # use all columns except name and median_earnings\n",
    "X = pd.get_dummies(X) # transform categorical columns so we can use them in linear regression\n",
    "Y = section_4_data[\"median_earnings\"]\n",
    "\n",
    "x_train, x_test, y_train, y_test = train_test_split(X, Y, test_size=0.2, random_state=42)\n",
    "\n",
    "model = LinearRegression()\n",
    "model.fit(x_train, y_train) # train on train set\n",
    "\n",
    "print(\"training score:\", model.score(x_train,y_train)) # how accurately did model capture training set relationship?\n",
    "print(\"validation score:\", model.score(x_test,y_test)) # how well can model predict new things?"
   ]
  },
  {
   "cell_type": "markdown",
   "metadata": {},
   "source": [
    "## Problem 3\n",
    "\n",
    "### Replace the 'None' values below with appropriate values to create a train-validate-test split."
   ]
  },
  {
   "cell_type": "code",
   "execution_count": 31,
   "metadata": {},
   "outputs": [
    {
     "name": "stdout",
     "output_type": "stream",
     "text": [
      "training score: 0.19366896107689402\n",
      "validation score: 0.18357286237483061\n"
     ]
    }
   ],
   "source": [
    "problem_3_data = original_data.copy()\n",
    "X = problem_3_data[[\"cost\"]] # TODO\n",
    "Y = problem_3_data[\"median_earnings\"]\n",
    "x_not_test, x_test, y_not_test, y_test = train_test_split(X, Y, test_size=0.2, random_state=42) # TODO\n",
    "x_train, x_valid, y_train, y_valid = train_test_split(x_not_test, y_not_test, test_size=0.2, random_state=42) # TODO\n",
    "\n",
    "model = LinearRegression()\n",
    "\n",
    "# training\n",
    "model.fit(x_train, y_train) # TODO\n",
    "\n",
    "print(\"training score:\", model.score(x_train,y_train))\n",
    "print(\"validation score:\", model.score(x_valid,y_valid))"
   ]
  },
  {
   "cell_type": "code",
   "execution_count": 32,
   "metadata": {},
   "outputs": [
    {
     "name": "stdout",
     "output_type": "stream",
     "text": [
      "testing score: 0.16982795845022036\n"
     ]
    }
   ],
   "source": [
    "print(\"testing score:\", model.score(x_test,y_test))"
   ]
  },
  {
   "cell_type": "markdown",
   "metadata": {},
   "source": [
    "## Problem 4\n",
    "\n",
    "Use 'median_earnings' to predict 'median_earnings'.\n",
    "\n",
    "Remember to create a train-test split (use whatever percentage of test set you want).\n",
    "\n",
    "Print out the coefficients. Print out the model's score. Briefly explain why you got the coefficients and accuracy that you got."
   ]
  },
  {
   "cell_type": "code",
   "execution_count": 33,
   "metadata": {},
   "outputs": [],
   "source": [
    "problem_4_data = original_data.copy()"
   ]
  },
  {
   "cell_type": "code",
   "execution_count": 34,
   "metadata": {},
   "outputs": [
    {
     "data": {
      "text/plain": [
       "LinearRegression()"
      ]
     },
     "execution_count": 34,
     "metadata": {},
     "output_type": "execute_result"
    }
   ],
   "source": [
    "# split data and create model\n",
    "X = problem_4_data[[\"median_earnings\"]]\n",
    "Y = problem_4_data[\"median_earnings\"]\n",
    "x_train, x_test, y_train, y_test = train_test_split(X, Y, test_size=0.2)\n",
    "model = LinearRegression()\n",
    "model.fit(x_train, y_train)"
   ]
  },
  {
   "cell_type": "code",
   "execution_count": 35,
   "metadata": {},
   "outputs": [
    {
     "name": "stdout",
     "output_type": "stream",
     "text": [
      "coefficient: [1.]\n",
      "score: 1.0\n"
     ]
    }
   ],
   "source": [
    "# print out coefficient and score\n",
    "print(\"coefficient:\", model.coef_)\n",
    "print(\"score:\", model.score(x_test,y_test))"
   ]
  },
  {
   "cell_type": "markdown",
   "metadata": {},
   "source": [
    "#### Briefly explain why you got the coefficients and score that you got. \n",
    "\n",
    "ANSWER: The coefficient was 1, because the input (median_earnings) is one times the output (median_earnings). Because this relationship exists, we got a perfect score of 1. However, note that this linear regression is nonsensical; there's no reason we'd use machine learning to predict median_earnings if we already know the median_earnings."
   ]
  },
  {
   "cell_type": "markdown",
   "metadata": {},
   "source": [
    "## Problem 5 (optional)\n",
    "\n",
    "Linear regression does well with variables that are correlated. Look up how to print out the correlation matrix of a pandas dataframe.\n",
    "\n",
    "Looking at the correlation matrix, pick at least 3 features that have a low (between -0.5 and 0.5) correlation with median_earnings and plot scatterplots of each of them against median_earnings.\n",
    "Using these scatterplot, pick one of the features and try a few transformations that might increase its correlation with median_earnings. That is, create new features (columns) and see what their correlation with median_earnings is.\n",
    "\n",
    "Create a model using one of these new features, as well as other features that are well correlated with median_earnings, as features. Print out the score."
   ]
  },
  {
   "cell_type": "code",
   "execution_count": 36,
   "metadata": {},
   "outputs": [],
   "source": [
    "problem_5_data = original_data.copy()"
   ]
  },
  {
   "cell_type": "code",
   "execution_count": 37,
   "metadata": {},
   "outputs": [],
   "source": [
    "# print out correlation matrix"
   ]
  },
  {
   "cell_type": "code",
   "execution_count": 38,
   "metadata": {},
   "outputs": [],
   "source": [
    "# make scatter plots"
   ]
  },
  {
   "cell_type": "code",
   "execution_count": null,
   "metadata": {},
   "outputs": [],
   "source": []
  },
  {
   "cell_type": "code",
   "execution_count": null,
   "metadata": {},
   "outputs": [],
   "source": []
  },
  {
   "cell_type": "code",
   "execution_count": null,
   "metadata": {},
   "outputs": [],
   "source": []
  },
  {
   "cell_type": "code",
   "execution_count": 39,
   "metadata": {},
   "outputs": [],
   "source": [
    "# create new features"
   ]
  },
  {
   "cell_type": "code",
   "execution_count": null,
   "metadata": {},
   "outputs": [],
   "source": []
  },
  {
   "cell_type": "code",
   "execution_count": null,
   "metadata": {},
   "outputs": [],
   "source": []
  },
  {
   "cell_type": "code",
   "execution_count": null,
   "metadata": {},
   "outputs": [],
   "source": []
  },
  {
   "cell_type": "code",
   "execution_count": 40,
   "metadata": {},
   "outputs": [],
   "source": [
    "# create model"
   ]
  },
  {
   "cell_type": "code",
   "execution_count": null,
   "metadata": {},
   "outputs": [],
   "source": []
  },
  {
   "cell_type": "code",
   "execution_count": 41,
   "metadata": {},
   "outputs": [],
   "source": [
    "# get score"
   ]
  },
  {
   "cell_type": "code",
   "execution_count": null,
   "metadata": {},
   "outputs": [],
   "source": []
  }
 ],
 "metadata": {
  "kernelspec": {
   "display_name": "Python 3",
   "language": "python",
   "name": "python3"
  },
  "language_info": {
   "codemirror_mode": {
    "name": "ipython",
    "version": 3
   },
   "file_extension": ".py",
   "mimetype": "text/x-python",
   "name": "python",
   "nbconvert_exporter": "python",
   "pygments_lexer": "ipython3",
   "version": "3.8.3"
  },
  "notebookId": "^EG=G=gSDql5SN"
 },
 "nbformat": 4,
 "nbformat_minor": 2
}
