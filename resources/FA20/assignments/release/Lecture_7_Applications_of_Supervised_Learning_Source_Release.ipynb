{
    "metadata": {
        "kernelspec": {
            "display_name": "Python 3",
            "language": "python",
            "name": "python3"
        },
        "language_info": {
            "codemirror_mode": {
                "name": "ipython",
                "version": 3
            },
            "file_extension": ".py",
            "mimetype": "text/x-python",
            "name": "python",
            "nbconvert_exporter": "python",
            "pygments_lexer": "ipython3",
            "version": "3.8.1"
        },
        "notebookId": "^EG=G=bpDp\\gp"
    },
    "nbformat": 4,
    "nbformat_minor": 4,
    "cells": [
        {
            "cell_type": "markdown",
            "metadata": {},
            "source": [
                "# NETID: <fill in here\\>"
            ]
        },
        {
            "cell_type": "markdown",
            "metadata": {},
            "source": [
                "# Applications of Supervised Learning"
            ]
        },
        {
            "cell_type": "markdown",
            "metadata": {},
            "source": [
                "Last class we covered a popular machine learning model used for classification: K-Nearest Neighbors (KNN). In this lecture we are goint to cover two new kinds of models: Decision Trees and Logistic Regression. These models are useful in classification and each carry their own usefulness."
            ]
        },
        {
            "cell_type": "markdown",
            "metadata": {},
            "source": [
                "# Decision Trees"
            ]
        },
        {
            "cell_type": "markdown",
            "metadata": {},
            "source": [
                "The decision tree algorithm can be used to do both classification as well as regression and has the advantage of not assuming a linear model. Decisions trees are usually easy to represent visually which makes it easy to understand how the model actually works. "
            ]
        },
        {
            "cell_type": "markdown",
            "metadata": {},
            "source": [
                "### Geometric Intuition\n",
                "![image](https://docs.microsoft.com/en-us/azure/machine-learning/studio/media/algorithm-choice/image5.png)"
            ]
        },
        {
            "cell_type": "markdown",
            "metadata": {},
            "source": [
                "### Mathemtical Intuition\n",
                "The **hard** part is really to construct this tree from the data set. The heart of the CART algorithm lies in deciding how/where to split the data (choosing the right feature). The idea is to associate a **quantitative** measure the quality of a split because then we simply choose the best feature to split.\n",
                "\n",
                "A very common measure is the Shannon entropy:\n",
                "Given a discrete probablity distribution $(p_1, p_2,...p_n)$. The shannon entropy $E(p_1, p_2,...p_n)$ is:\n",
                "$$-\\sum_{i = 1}^n p_ilog_2(p_i)$$\n",
                "\n",
                "The goal of the algorithm is to take the necessary steps to minimize this entropy, by choosing the right features at every stage to accomplish this."
            ]
        },
        {
            "cell_type": "code",
            "execution_count": 1,
            "metadata": {},
            "outputs": [],
            "source": [
                "# import necessary packages\n",
                "import pandas as pd\n",
                "from sklearn.metrics import accuracy_score\n",
                "from sklearn.model_selection import train_test_split\n",
                "from sklearn.tree import DecisionTreeClassifier\n",
                "from sklearn.neighbors import KNeighborsClassifier\n",
                "from sklearn import tree\n",
                "from sklearn import datasets"
            ]
        },
        {
            "cell_type": "markdown",
            "metadata": {},
            "source": [
                "### Breast Cancer Diagnosis\n",
                "The following dataset contains information about digitized images of a fine needle aspirate (FNA) of a breast mass. Each row in our dataset contains data for a patient. The 'diagnosis' column tells us the outcomne of whether or not a patient was diagnosis was benign (b) or malignant (m)|."
            ]
        },
        {
            "cell_type": "code",
            "execution_count": 2,
            "metadata": {},
            "outputs": [],
            "source": [
                "df = pd.read_csv('lecture7example.csv')\n",
                "X=df.drop(['id', 'diagnosis', 'Unnamed: 32'], axis=1)\n",
                "Y=df['diagnosis']\n",
                "df.head()\n"
            ]
        },
        {
            "cell_type": "code",
            "execution_count": 3,
            "metadata": {},
            "outputs": [],
            "source": [
                "X_train, X_test, Y_train, Y_test = train_test_split(X, Y, test_size=0.33)"
            ]
        },
        {
            "cell_type": "markdown",
            "metadata": {},
            "source": [
                "Last week, we built a KNN classifier or this problem. In the code below we created a test-train split of our data and trained a KNN classifer. As we learned last class, accuracy_score() calculates the ratio of correct prediction we make."
            ]
        },
        {
            "cell_type": "code",
            "execution_count": 4,
            "metadata": {},
            "outputs": [],
            "source": [
                "#Knearest neighbors\n",
                "knn = KNeighborsClassifier()\n",
                "knn.fit(X_train, Y_train)\n",
                "knn_pred_train = knn.predict(X_train)\n",
                "knn_pred_test = knn.predict(X_test)\n",
                "print(\"Train Accuracy: \", accuracy_score(Y_train, knn_pred_train))\n",
                "print(\"Test Accuracy: \", accuracy_score(Y_test, knn_pred_test))\n"
            ]
        },
        {
            "cell_type": "markdown",
            "metadata": {},
            "source": [
                "## Problem 1a)\n",
                "Our knn-classifier performed pretty well at predicting which cases are malignant and wich are benign. Now we are going to see how a decision tree peforms. In the next cell, train the decision tree classifier on our training data and calulate the training accuracy and testing accuracy."
            ]
        },
        {
            "cell_type": "code",
            "execution_count": 5,
            "metadata": {},
            "outputs": [],
            "source": [
                "# Creates the Decision Tree Classifier\n",
                "model=tree.DecisionTreeClassifier(max_depth=5)\n",
                "\n",
                "#TODO: train the model\n",
                "model.fit(X_train,Y_train)\n",
                "\n",
                "#TODO: Calculate the training and testing accuracy\n",
                "dtree_pred_train = model.predict(\"FILL IN HERE\")\n",
                "dtree_pred_test = model.predict(\"FILL IN HERE\") \n",
                "print(\"Train Accuracy: \", accuracy_score(\"FILL IN HERE\", \"FILL IN HERE\"))\n",
                "print(\"Test Accuracy: \", accuracy_score(\"FILL IN HERE\", \"FILL IN HERE\"))\n"
            ]
        },
        {
            "cell_type": "markdown",
            "metadata": {},
            "source": [
                "## Problem 1b)\n",
                "Interpret the accuracy values you found to with the DecisionTreeClassifier with max depth of 5. Please make sure to answer the following questions:\n",
                "1. How do these scores differ with the scores of the KNN classifier?\n",
                "2. Is the model underfitting or overfitiing our data?\n",
                "3. How do the scores change as we vary the max_depth of our tree?"
            ]
        },
        {
            "cell_type": "markdown",
            "metadata": {},
            "source": [
                "Fill in answer here: "
            ]
        },
        {
            "cell_type": "markdown",
            "metadata": {},
            "source": [
                "# Logistic Regression"
            ]
        },
        {
            "cell_type": "markdown",
            "metadata": {},
            "source": [
                "Logistic regression, like linear regression, is a generalized linear model. However, the final output of a logistic regression model is not continuous; it's binary (0 or 1). The following sections will explain how this works."
            ]
        },
        {
            "cell_type": "markdown",
            "metadata": {},
            "source": [
                "### What is Conditional Probability?\n",
                "Conditional probability is the probability that an event (A) will occur given that some condition (B) is true. For example, say you want to find the probability that a student will take the bus as opposed to walking to class today (A) given that it's snowing heavily outside (B). The probability that the student will take the bus when it's snowing is likely higher than the probability that s/he would take the bus on some other day. "
            ]
        },
        {
            "cell_type": "markdown",
            "metadata": {},
            "source": [
                "### An Overview\n",
                "The goal of logistic regression is to take a set of datapoints and classify them. This means that we expect to have discrete outputs representing a set of classes. In simple logistic regression, this must be a binary set: our classes must be one of only two possible values. Here are some things that are sometimes modeled as binary classes:\n",
                "\n",
                "<li> Sick or Not Sick </li>\n",
                "<li> Rainy or Dry </li> \n",
                "<li> Democrat or Republican </li> \n",
                "\n",
                "The objective is to find an equation that is able to take input data and classify it into one of the two classes. Luckily, the logistic equation is for just such a task. "
            ]
        },
        {
            "cell_type": "markdown",
            "metadata": {},
            "source": [
                "The <b>logistic equation</b> is the basis of the logistic regression model. It looks like this:\n",
                "![image](https://wikimedia.org/api/rest_v1/media/math/render/svg/5e648e1dd38ef843d57777cd34c67465bbca694f)\n",
                "\n",
                "The t in the equation is some linear combination of n variables, or a linear function in an n-dimensional feature space. The formulation of t therefore has the form ax+b. In fitting a logistic regression model, the goal is therefore to minimize error in the logistic equation with the chosen t (of the form ax+b)  by tuning a and b. \n",
                "\n",
                "\n",
                "The logistic equation (also known as the sigmoid function) works as follows:\n",
                "1. Takes an input of n variables\n",
                "2. Takes a linear combination of the variables as parameter t (this is another way of saying t has the form ax+b)\n",
                "3. Outputs a value given the input and parameter t\n",
                "\n",
                "The output of the logistic equation is always between 0 and 1. \n",
                "\n",
                "A visualization of the outputs of the logistic equation is as below (note that this is but one possible output of a logit regression model):\n",
                "![image](https://upload.wikimedia.org/wikipedia/commons/8/88/Logistic-curve.svg)"
            ]
        },
        {
            "cell_type": "markdown",
            "metadata": {},
            "source": [
                "# Income Prediction\n",
                "We'll use logistic regression to predict whether annual income is greater than $50k based on census data. You can read more about the dataset <a href=\"https://www.kaggle.com/uciml/adult-census-income\">here</a>."
            ]
        },
        {
            "cell_type": "code",
            "execution_count": 7,
            "metadata": {},
            "outputs": [],
            "source": [
                "from sklearn.preprocessing import LabelEncoder\n",
                "from sklearn.linear_model import LogisticRegression"
            ]
        },
        {
            "cell_type": "code",
            "execution_count": 8,
            "metadata": {
                "scrolled": true
            },
            "outputs": [],
            "source": [
                "inc_data = pd.read_csv('https://archive.ics.uci.edu/ml/machine-learning-databases/adult/adult.data', header = None, names = ['age', 'workclass', 'fnlwgt', 'education', 'education.num', 'marital.status', 'occupation', 'relationship', 'race', 'sex', 'capital.gain', 'capital.loss', 'hours.per.week', 'native.country', 'income'])\n",
                "# drop null values\n",
                "inc_data = inc_data.dropna()\n",
                "inc_data.head()\n"
            ]
        },
        {
            "cell_type": "markdown",
            "metadata": {},
            "source": [
                "### Problem 2a: \n",
                "Our goal is to predict whether a person's income is less than <=50K  or >50K. Right now the data in the income column is stored as a string. Convert the data in that column to 1 or 0 where 1 indicates an income above 50K"
            ]
        },
        {
            "cell_type": "code",
            "execution_count": 9,
            "metadata": {},
            "outputs": [],
            "source": [
                "# Fill in Answer here\n",
                "\n",
                "\n",
                "\n",
                "\n"
            ]
        },
        {
            "cell_type": "markdown",
            "metadata": {},
            "source": [
                "Instead of manually converting all categorical data to quantitative data, we will use the LabelEncoder function."
            ]
        },
        {
            "cell_type": "code",
            "execution_count": 13,
            "metadata": {},
            "outputs": [],
            "source": [
                "# the column is present in both categorical and numeric form\n",
                "del inc_data['education']\n",
                "\n",
                "# convert all features to categorical integer values\n",
                "enc = LabelEncoder()\n",
                "for i in inc_data.columns:\n",
                "    inc_data[i] = enc.fit_transform(inc_data[i])"
            ]
        },
        {
            "cell_type": "markdown",
            "metadata": {},
            "source": [
                "### Problem 2b:\n",
                "\n",
                "Build a logistic regression model predicting income based on other income related factors (i.e. Education). You should split the dataset into a training set and a test set as covered previously in the course, fit the model on the observations in the training set, and predict the target variable for the test set. Save your predictions in a variable named \"predictions\"."
            ]
        },
        {
            "cell_type": "code",
            "execution_count": 11,
            "metadata": {
                "scrolled": true
            },
            "outputs": [],
            "source": [
                "# TODO separate your income X (features) and your income Y (target)\n",
                "\n",
                "# TODO train test split your data with 20% being used for testing\n",
                "incX_train, incX_test, incY_train, incY_test = \"FILL IN HERE\"\n",
                "\n",
                "# This is the function we use to create the kNN model (default k=5)\n",
                "model = LogisticRegression()\n",
                "\n",
                "# TODO fit the model using the train data\n",
                "\n",
                "# TODO store the predictions for the training and test set\n",
                "pred_train = \"FILL IN HERE\"\n",
                "pred_test = \"FILL IN HERE\"\n",
                "\n",
                "print(\"Test Accuracy: \", accuracy_score(\"Fill In Here\", \"Fill In Here\"))\n",
                "print(\"Training Accuracy: \", accuracy_score(\"Fill In Here\", \"Fill In Here\"))\n"
            ]
        },
        {
            "cell_type": "markdown",
            "metadata": {},
            "source": [
                "### Problem 2c:\n",
                "Let's see how a decision tree classifier performs with different max_depth values. Comlplete the followoing code so we find the max_depth that gives us the best test accuracy."
            ]
        },
        {
            "cell_type": "code",
            "execution_count": 18,
            "metadata": {},
            "outputs": [],
            "source": [
                "best_depth = 1 #Keep track of depth that produces tree with highest accuracy\n",
                "best_accuracy = 0 #The best accuracy from a given tree\n",
                "for k in range(1,100):\n",
                "    model=tree.DecisionTreeClassifier(max_depth=k)\n",
                "    #Fill in code here\n",
                "    "
            ]
        },
        {
            "cell_type": "markdown",
            "metadata": {},
            "source": [
                "### Problem 2d:\n",
                "Using the most accurate model found in part (c), estimate the error of your model by using 5-fold cross validation. Consult the documentation found [here](https://scikit-learn.org/stable/modules/generated/sklearn.model_selection.KFold.html)."
            ]
        },
        {
            "cell_type": "code",
            "execution_count": 22,
            "metadata": {},
            "outputs": [],
            "source": [
                "from sklearn.model_selection import KFold\n",
                "from sklearn.metrics import mean_squared_error\n",
                "\n",
                "#Fill in code here\n"
            ]
        },
        {
            "cell_type": "markdown",
            "metadata": {},
            "source": [
                "### Problem 2e:\n",
                "We want to hear about some lecture feedback and find some ways to improve as our lecture attendance has been dropping (don't worry we understand, zoom just doesn't hit the same as in-person). Please give us some feedback about either the lectures, TA's, the course structure in general, or some thoughts you'd like us to know. "
            ]
        },
        {
            "cell_type": "markdown",
            "metadata": {},
            "source": [
                "Response: "
            ]
        },
        {
            "cell_type": "markdown",
            "metadata": {},
            "source": [
                "### Problem 3 (Optional Advanced Problem)\n",
                "Random Forests are essentially many decision trees combined. The training algorithm for random forests applies the general technique of bootstrap aggregating, or bagging, to tree learners. Given a training set X = x1, ..., xn with responses Y = y1, ..., yn, bagging repeatedly (B times) selects a random sample with replacement of the training set and fits trees to these samples:\n",
                "\n",
                "For b = 1, ..., B:\n",
                "    Sample, with replacement, n training examples from X, Y; call these Xb, Yb.\n",
                "    Train a classification or regression tree fb on Xb, Yb.\n",
                "After training, predictions for unseen samples x' can be made by averaging the predictions from all the individual regression trees on x':\n",
                "\n",
                "Implememnt a Random forest classifier by creating and training 20 decision trees with max_depth 5. Let the predictions be chosen through majority voting on the total training data. Does your model perform better than using a single decision tree?\n",
                "\n",
                "#### Note: the sampling with \"replacement\" is important  "
            ]
        },
        {
            "cell_type": "code",
            "execution_count": 24,
            "metadata": {},
            "outputs": [],
            "source": [
                "import random\n",
                "\n",
                "#Randomize order of training elements for each tree\n",
                "def rand_sample(size):\n",
                "    indices = []\n",
                "    for i in range(size):\n",
                "        indices.append(random.randint(0,size-1))\n",
                "    return indices\n",
                "\n",
                "#Load the whole dataset into X_train and Y_train and initialize a variable tree_preds to contain each tree's prediction\n",
                "X_train = X\n",
                "Y_train = Y\n",
                "tree_preds = []\n",
                "\n",
                "#Create 20 Decision Trees for the lecture 7 dataset\n",
                "for t in range(20):\n",
                "    model = tree.DecisionTreeClassifier(max_depth=5)\n",
                "    sample = rand_sample(df.shape[0])\n",
                "    X_train_tree = X_train.iloc[sample]\n",
                "    Y_train_tree = Y_train.iloc[sample]\n",
                "    #FILL In Code Here\n",
                "    \n",
                "print(\"Accuracy of one decision tree: \", \"FILL IN HERE\")\n",
                "print(\"Accuracy of the random decision forest: \", \"FILL IN HERE\")\n"
            ]
        },
        {
            "cell_type": "code",
            "execution_count": null,
            "metadata": {},
            "outputs": [],
            "source": []
        }
    ]
}