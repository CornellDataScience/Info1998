{
    "metadata": {
        "kernelspec": {
            "display_name": "Python 3",
            "language": "python",
            "name": "python3"
        },
        "language_info": {
            "codemirror_mode": {
                "name": "ipython",
                "version": 3
            },
            "file_extension": ".py",
            "mimetype": "text/x-python",
            "name": "python",
            "nbconvert_exporter": "python",
            "pygments_lexer": "ipython3",
            "version": "3.8.1"
        },
        "notebookId": "^EG=G=bpDp\\gp"
    },
    "nbformat": 4,
    "nbformat_minor": 4,
    "cells": [
        {
            "cell_type": "markdown",
            "metadata": {},
            "source": [
                "# Data Visualization\n",
                "Now that we have a basic understanding of Python and data manipulation, it is time to learn how to represent data visually!\n",
                "<br>\n",
                "<br>\n",
                "This lecture is comprised of the following components:\n",
                "<br>\n",
                "<ul>\n",
                "<li>Importance of Data Visualization\n",
                "<li>Introduction to `matplotlib` and `seaborn`\n",
                "<li>Basic visualization techniques\n",
                "<li>Visualization Tips and Tricks\n",
                "<li>Advanced visualization techniques\n",
                "</ul>"
            ]
        },
        {
            "cell_type": "markdown",
            "metadata": {},
            "source": [
                "\n",
                "__________\n",
                "## Importance of Data Visualization"
            ]
        },
        {
            "cell_type": "markdown",
            "metadata": {},
            "source": [
                "As has been widely established, it is much easier for the human brain to comprehend and process information when it is in the form of graphs, charts, etc. than when it is presented in esoteric spreadsheets and verbose reports. Therefore, when working with large amounts of data, it is crucial to step back and make sense of the data - and data visualization helps do just that!\n",
                "\n",
                "More specifically, Data Visualization is important for the following reasons:\n",
                "<ul>\n",
                "<li><u>Informative</u>: A lot can be told in just a small space!\n",
                "<li><u>Appealing</u>: A visualization is much more visually appealing than loads of data\n",
                "<li><u>Efficient</u>: It helps in universal communication!\n",
                "<li><u>Predictive</u>: It is much easier to observe patterns and predict certain trends via a visualization\n",
                "</ul>\n",
                "\n",
                "Note that there are typically two types of visualizations: <b>distributional</b> (using histograms or box plots to assess the distribution of a variable) and <b>correlational</b> (using line plots or scatter plots to understand the relationship between two variables).\n",
                "_____"
            ]
        },
        {
            "cell_type": "markdown",
            "metadata": {},
            "source": [
                "## Introduction to matplotlib & seaborn\n",
                "<a href=\"https://matplotlib.org/\">`matplotlib`</a> is one of the most popular plotting libraries for Python! For those of you who have experience with MATLAB, matplotlib has a similar overall design as MATLAB's graphical plotting. \n",
                "<br>\n",
                "While we will cover matplotlib in further detail below, <a href=\"https://s3.amazonaws.com/assets.datacamp.com/blog_assets/Python_Matplotlib_Cheat_Sheet.pdf\">'The matplotlib cheatsheet'</a> is a good resource to keep handy!"
            ]
        },
        {
            "cell_type": "code",
            "execution_count": 1,
            "metadata": {},
            "outputs": [],
            "source": [
                "import matplotlib.pyplot as plt\n",
                "%matplotlib inline"
            ]
        },
        {
            "cell_type": "markdown",
            "metadata": {},
            "source": [
                "<a href=\"https://seaborn.pydata.org/introduction.html#introduction\">`seaborn`</a> is a Python library, based on top of `matplotlib`. In essence, `seaborn` is complimentary to Matplotlib for the purposes of statistical graphing."
            ]
        },
        {
            "cell_type": "code",
            "execution_count": 2,
            "metadata": {},
            "outputs": [],
            "source": [
                "import seaborn as sns"
            ]
        },
        {
            "cell_type": "markdown",
            "metadata": {},
            "source": [
                "____\n",
                "## Basic Visualization Techniques\n",
                "For the following demonstrations, we'll use the famous built-in '<b>iris</b>' dataset!"
            ]
        },
        {
            "cell_type": "code",
            "execution_count": 3,
            "metadata": {},
            "outputs": [],
            "source": [
                "import pandas as pd\n",
                "import numpy as np\n",
                "from sklearn import datasets\n",
                "iris = datasets.load_iris()\n",
                "# Extracting septal and petal widths and lengths\n",
                "X = pd.DataFrame(iris.data,columns=['Sepal Length','Sepal Width','Petal Length','Petal Width']) #Name columns according to sklearn API\n",
                "Y = pd.DataFrame(iris.target)"
            ]
        },
        {
            "cell_type": "markdown",
            "metadata": {},
            "source": [
                "### Bar Graph\n",
                "A bar graph is one of the most common techniques and is widely used to convey information in an easy to understand manner! \n",
                "<br><br>\n",
                "It is used to display data that has been classified into nominal or ordinal categories. It represents the respective frequencies/magnitudes for these categories in a comparitve manner. Typically, one axis has numeric values (which may be the frequencies in most cases) and the other axis has the categories.\n",
                "<br><br>\n",
                "The bar graph for the dataset has been plotted below:"
            ]
        },
        {
            "cell_type": "code",
            "execution_count": 4,
            "metadata": {},
            "outputs": [],
            "source": [
                "# Dividing the data into categories (Note how .mean() is being used here!)\n",
                "bar1 = (X['Sepal Length']).mean()\n",
                "bar2 = (X['Sepal Width']).mean()\n",
                "\n",
                "# Adding the two bars and assigning attributes\n",
                "plt.bar([0,1],[bar1,bar2],align='center')\n",
                "\n",
                "# Add a suitable title\n",
                "plt.title('Average of Sepal Features Bar Graph')\n",
                "\n",
                "# Adding suitable labels to the axes\n",
                "plt.xticks([0,1],['Sepal Length','Sepal Width'])\n",
                "plt.ylabel('Average (cm)')\n",
                "\n",
                "# Render the plot\n",
                "# plt.savefig('bargraph.png',bbox_inches='tight')\n",
                "plt.show()\n"
            ]
        },
        {
            "cell_type": "markdown",
            "metadata": {},
            "source": [
                "Great! We have a bar graph that compares the average length and width of sepals in the given dataset.\n",
                "<br><br>\n",
                "<b>Note: </b>Always try to understand why we use the attributes that we do. In the case above, we used align as an attribute. Try changing its value from 'center' to 'edge'; 'edge', as you may have already observed, aligns the left edges of the bars with the x positions. Similarly, try to experiment with some other attributes!\n",
                "### Histogram\n",
                "A histogram is very similar to a bar graph - but it represents a <b>continuous</b> variable on its x-axis rather than discrete units like a bar graph. Because it is continuous, we need to specify how many bars we need in total, and in order to do so, we need to set the width of each bar, called <b>bin size</b>.\n",
                "<br><br>\n",
                "While we will use a random number (i.e. 150) as our bin size for ease of demonstration, choosing the correct bin size can be very important at times. It also has some <a href=\"http://www.statisticshowto.com/choose-bin-sizes-statistics/\">interesting statistical reasoning</a> behind it!\n",
                "### Example 1:\n",
                "Enter the code to make a histogram with a title and axis labels, and a bin size of 150. The X axis would be have the 'Sepal Width' column, and the Y axis would have the frequency."
            ]
        },
        {
            "cell_type": "code",
            "execution_count": 5,
            "metadata": {},
            "outputs": [],
            "source": [
                "# Use .hist() and add necessary arguments in the parenthesis - this should be only 1 line!\n",
                "# Refer to https://matplotlib.org/3.1.0/api/_as_gen/matplotlib.pyplot.hist.html\n",
                "\n",
                "# Add a title\n",
                "\n",
                "# Add x and y labels\n",
                "\n",
                "# Show the plot!"
            ]
        },
        {
            "cell_type": "markdown",
            "metadata": {},
            "source": [
                "### Density Plot\n",
                "While histograms are popular, density plots are also favored for several reasons\n",
                "<ul>\n",
                "<li>Histogram shape varies wildly depending on the bin size\n",
                "<li>Density plots smooth out outliers and local fluctuations\n",
                "</ul>\n",
                "The second point can be a weakness however, since local fluctuations can be very important. Let's look at an example (we'll be using `seaborn` now!):"
            ]
        },
        {
            "cell_type": "code",
            "execution_count": 7,
            "metadata": {},
            "outputs": [],
            "source": [
                "density = sns.kdeplot(X['Sepal Width'])\n",
                "\n",
                "plt.title ('Sepal Width Density Plot')\n",
                "plt.xlabel('Sepal Width Value')\n",
                "plt.ylabel('Density')\n",
                "\n",
                "plt.show()\n"
            ]
        },
        {
            "cell_type": "markdown",
            "metadata": {},
            "source": [
                "The smoothing parameter for the density plot can be adjusted by changing something called the <b>smoothing bandwidth</b> in order to adjust for sensitivity to fluctuations."
            ]
        },
        {
            "cell_type": "code",
            "execution_count": 8,
            "metadata": {},
            "outputs": [],
            "source": [
                "plt.subplot()\n",
                "# A plot with REALLY high bandwith\n",
                "sns.kdeplot(X['Sepal Width'], bw=10)\n",
                "\n",
                "plt.title ('Sepal Width Density Plot: Bandwidth = 10')\n",
                "plt.xlabel('Sepal Width Value')\n",
                "plt.ylabel('Density')\n",
                "\n",
                "plt.show()\n",
                "\n",
                "\n",
                "plt.subplot()\n",
                "# A plot with REALLY low bandwidth\n",
                "sns.kdeplot(X['Sepal Width'], bw=0.0000001)\n",
                "\n",
                "plt.title ('Sepal Width Density Plot: Bandwith = 0.0000001')\n",
                "plt.xlabel('Sepal Width Value')\n",
                "plt.ylabel('Density')\n",
                "\n",
                "plt.show()\n"
            ]
        },
        {
            "cell_type": "markdown",
            "metadata": {},
            "source": [
                "As you can see, the bandwidth value can have a drastic effect on the resulting graph. These are extreme examples, however; appropriate values for bandwidth differ case by case.\n",
                "### Box Plot\n",
                "A box plot shows the max, min, and the median values of one feature from a given dataset. It is a great tool when a quick summarization is necessary or when the spread of data needs to be shown. For example, it can be used to visualize test scores.<br>\n",
                "<br>\n",
                "An important point to note is that an <b>outlier</b> is a data point that is 1.5 times above the upper quartile or 1.5 times below the lower quartile."
            ]
        },
        {
            "cell_type": "code",
            "execution_count": 9,
            "metadata": {},
            "outputs": [],
            "source": [
                "bp = plt.boxplot([X['Sepal Length'],X['Sepal Width']])\n",
                "\n",
                "plt.title('Sepal Features Boxplot')\n",
                "plt.xticks([1,2],['Sepal Length','Sepal Width'])\n",
                "plt.xlim([0,3])\n",
                "plt.ylim([1,9])\n",
                "\n",
                "plt.show()\n"
            ]
        },
        {
            "cell_type": "markdown",
            "metadata": {},
            "source": [
                "### Violin Plot\n",
                "A violin plot is very similar to a box plot. The only big difference is that while box plot has a box (which represents IQR: Inter Quartile Range, a range between 25% percentile and 75% percentile of the values) and two whiskers to represent maximum and minimum, violin plot has a three lines that indicates max (100% percentile), median (50% percentile), and min (0% percentile) and also has a <b>probability density distribution</b> of the data at different values along the line."
            ]
        },
        {
            "cell_type": "code",
            "execution_count": 10,
            "metadata": {},
            "outputs": [],
            "source": [
                "plt.violinplot([X['Sepal Length'],X['Sepal Width']],showextrema=True,showmedians=True)\n",
                "\n",
                "plt.title('Sepal Features Violin Plot')\n",
                "plt.xticks([1,2],['Sepal Length','Sepal Width'])\n",
                "plt.ylabel('Spread')\n",
                "\n",
                "plt.show()\n"
            ]
        },
        {
            "cell_type": "markdown",
            "metadata": {},
            "source": [
                "### Scatter Plot\n",
                "Scatter plots can be very useful for visualizing information for two or more features (that correspond to the number of dimensions). They are very useful for extrapolating information.\n",
                "#### 2D Scatter Plot"
            ]
        },
        {
            "cell_type": "code",
            "execution_count": 11,
            "metadata": {},
            "outputs": [],
            "source": [
                "plt.scatter(X['Sepal Length'],X['Sepal Width'], c=Y.values.ravel()) #Colored by species\n",
                "\n",
                "plt.title('The Sepal Features')\n",
                "plt.xlabel('Sepal Length')\n",
                "plt.ylabel('Sepal Width')\n",
                "\n",
                "plt.show()\n"
            ]
        },
        {
            "cell_type": "markdown",
            "metadata": {},
            "source": [
                "We can see that the negative linear correlation is in fact not an apt representation of the data. It is better to understand it in terms of clusters.\n",
                "<br><br>\n",
                "It is noticeable that\n",
                "<ul>\n",
                "<li>There is a clear clustering behavior for setosa (light blue)</li>\n",
                "<li>Versicolor and virginica is not clearly separated (brown/orange)</li>\n",
                "</ul>\n",
                "This kind of information is valuable in assessing what kind of model to choose, and what kind of additional analysis that needs to take before we are sure of what to do with our dataset. It is possible, however, to further embellish our visual analysis by using a 3d plot and adding in another feature.\n",
                "\n",
                "#### 3D Scatter Plot"
            ]
        },
        {
            "cell_type": "code",
            "execution_count": 12,
            "metadata": {},
            "outputs": [],
            "source": [
                "from mpl_toolkits.mplot3d import Axes3D\n",
                "fig = plt.figure()\n",
                "ax = fig.add_subplot(111,projection='3d')\n",
                "\n",
                "ax.scatter(X['Sepal Length'],X['Sepal Width'],X['Petal Length'],c=Y.values.ravel())\n",
                "\n",
                "ax.set_title('The Sepal Features')\n",
                "ax.set_xlabel('Sepal Length')\n",
                "ax.set_ylabel('Sepal Width')\n",
                "ax.set_zlabel('Petal Length')\n",
                "\n",
                "plt.show()\n"
            ]
        },
        {
            "cell_type": "markdown",
            "metadata": {},
            "source": [
                "Looking at this 3d scatterplot, we can see that the versicolor and virginica is actually much more separable, unlike what was indicated in our previous 2d plot. We can therefore conclude that these three features are enough to implement an effective classifier.\n",
                "### Heat Map\n",
                "Another plot for visualizing density is a heat map. Heat maps are a bivariate distribution which assigns colors to different regions depending on the density (or frequency or magnitude, depending on which feature you are trying to visualize) of values in that region."
            ]
        },
        {
            "cell_type": "code",
            "execution_count": 13,
            "metadata": {},
            "outputs": [],
            "source": [
                "Z, hmx, hmy = np.histogram2d(X['Sepal Length'],X['Sepal Width'])\n",
                "\n",
                "plt.title('Heatmap')\n",
                "plt.xlabel('Sepal Length')\n",
                "plt.ylabel('Sepal Width')\n",
                "plt.pcolormesh(hmx,hmy,Z.T)\n",
                "\n",
                "plt.show()\n"
            ]
        },
        {
            "cell_type": "markdown",
            "metadata": {},
            "source": [
                "### Correlation Plot\n",
                "Similar to a heat map is a correlation plot. However, instead of looking two variables to find their corrleation, we examine all the variables to determine which are correlated. "
            ]
        },
        {
            "cell_type": "code",
            "execution_count": 14,
            "metadata": {},
            "outputs": [],
            "source": [
                "# get the correlation matrix\n",
                "corr = X.corr()\n",
                "\n",
                "fig = plt.figure()\n",
                "ax = fig.add_subplot(111)\n",
                "ax.matshow(corr)\n",
                "\n",
                "ax.set_xticks(range(len(corr.columns)))\n",
                "ax.set_xticklabels(corr.columns)\n",
                "for tick in ax.get_xticklabels():\n",
                "        tick.set_rotation(45)\n",
                "\n",
                "ax.set_yticks(range(len(corr.columns)))\n",
                "ax.set_yticklabels(corr.columns)\n",
                "\n",
                "plt.show()\n"
            ]
        },
        {
            "cell_type": "markdown",
            "metadata": {},
            "source": [
                "### Contour Map\n",
                "<b>Contours</b> are lines drawn in the map to show the areas with equal altitude from the ground level. Contour maps are, thus, the data visualization technique in which we draw multiple contours that connect the data points at the same height (in terms of frequency or magnitude) and to examine which data points or clusters are the <b>global maxima</b> and <b>global minima</b>, as well as the overall trend of the <i>distribution</i> and <i>elevation</i> of the given dataset.\n",
                "<br><br>\n",
                "It is important to notice that the heatmap and contour mapping is analogous to histograms vs density plots. As such, we must be wary of the advantages and disadvantages of both types of plots.\n",
                "\n",
                "Contour plots are useful when deciding which parameters to use (defining the number of clusters) for clustering algorithms or Gaussian Naive Bayes."
            ]
        },
        {
            "cell_type": "code",
            "execution_count": 15,
            "metadata": {},
            "outputs": [],
            "source": [
                "xlist = np.linspace(-3.0, 3.0, 3)\n",
                "ylist = np.linspace(-3.0, 3.0, 4)\n",
                "x, y = np.meshgrid(xlist, ylist)\n",
                "z = np.sin(x**2 +2*x*y+ y**2)\n",
                "\n",
                "contour = plt.contour (x,y,z,linestyles='dashed')\n",
                "\n",
                "plt.title('Contour Plot of a Function')\n",
                "plt.xlabel('x')\n",
                "plt.ylabel('y')\n",
                "plt.clabel(contour, inline=False)\n",
                "\n",
                "plt.show()\n"
            ]
        },
        {
            "cell_type": "markdown",
            "metadata": {},
            "source": [
                "_____\n",
                "### Example 2:\n",
                "Download the temperatures dataset from the course website and make sure it is in the same folder as this file. Now pick one of the above graph types to visualize one or more columns from the temperatures dataset. Hint: the `drop_duplicates` function may come in handy to reduce the number of points."
            ]
        },
        {
            "cell_type": "code",
            "execution_count": 16,
            "metadata": {},
            "outputs": [
                {
                    "ename": "SyntaxError",
                    "evalue": "invalid syntax (<ipython-input-16-14f8e281fe5f>, line 3)",
                    "output_type": "error",
                    "traceback": [
                        "\u001b[0;36m  File \u001b[0;32m\"<ipython-input-16-14f8e281fe5f>\"\u001b[0;36m, line \u001b[0;32m3\u001b[0m\n\u001b[0;31m    temps =\u001b[0m\n\u001b[0m            ^\u001b[0m\n\u001b[0;31mSyntaxError\u001b[0m\u001b[0;31m:\u001b[0m invalid syntax\n"
                    ]
                }
            ],
            "source": [
                "# Read CSV\n",
                "temps = \n",
                "\n",
                "# Dropping duplicates for you!\n",
                "temps_unique = temps.drop_duplicates(subset=['City', 'Country', 'Latitude', 'Longitude'], keep='last')"
            ]
        },
        {
            "cell_type": "markdown",
            "metadata": {},
            "source": [
                "____\n",
                "## Visualization Tips and Tricks\n",
                "### Changing colors\n",
                "Let's take the bar graph we programmed earlier and change its color!\n",
                "<br><br>\n",
                "It's fairly straightforward to do so: Use the attribute `color` when you're creating the barplot, and specify the color of choice! Here's an example that turns the bar plot black."
            ]
        },
        {
            "cell_type": "code",
            "execution_count": 21,
            "metadata": {},
            "outputs": [],
            "source": [
                "bar1 = (X['Sepal Length']).mean()\n",
                "bar2 = (X['Sepal Width']).mean()\n",
                "plt.bar([0,1],[bar1,bar2],align='center', color='black') # Try playing around with this!\n",
                "\n",
                "plt.title('Average of Sepal Features Bar Graph')\n",
                "plt.xticks([0,1],['Sepal Length','Sepal Width'])\n",
                "plt.ylabel('Average (cm)')\n",
                "\n",
                "plt.show()\n"
            ]
        },
        {
            "cell_type": "markdown",
            "metadata": {},
            "source": [
                "We can also change the color map, which changes the color scheme for a variable that is being plotted using color. \n",
                "<br><br>\n",
                "Let's look at our previous scatterplot example and use the attribute `cmap` when you're creating the plot, and specify the map of choice!"
            ]
        },
        {
            "cell_type": "code",
            "execution_count": 22,
            "metadata": {},
            "outputs": [],
            "source": [
                "plt.scatter(X['Sepal Length'],X['Sepal Width'],c=Y.values.ravel(),cmap=plt.cm.Paired) #Colored by species using a color map\n",
                "\n",
                "plt.title('The Sepal Features')\n",
                "plt.xlabel('Sepal Length')\n",
                "plt.ylabel('Sepal Width')\n",
                "\n",
                "plt.show()\n"
            ]
        },
        {
            "cell_type": "markdown",
            "metadata": {},
            "source": [
                "Now this is pretty neat, but we still don't know what each color maps to. To fix this, we can add a legend.  \n",
                "<br><br>\n",
                "To do this, we will have to assign a specific label to each plotted data point. The simplest way to do this is to split our data into groups by color so we can assign the label to each group. Then, we can call the `legend` function to create a legend from the labels. "
            ]
        },
        {
            "cell_type": "code",
            "execution_count": 23,
            "metadata": {},
            "outputs": [],
            "source": [
                "colors = plt.cm.get_cmap('Paired')\n",
                "\n",
                "for species in np.unique(Y[0]):\n",
                "    ix = np.where(Y[0] == species)\n",
                "    plt.scatter(X['Sepal Length'].loc[ix],X['Sepal Width'].loc[ix], c = colors(species), label = iris.target_names[species])\n",
                "\n",
                "plt.title('The Sepal Features')\n",
                "plt.xlabel('Sepal Length')\n",
                "plt.ylabel('Sepal Width')\n",
                "plt.legend()\n",
                "\n",
                "plt.show()\n"
            ]
        },
        {
            "cell_type": "markdown",
            "metadata": {},
            "source": [
                "A legend would also be nice for the heatmap we looked at earlier. \n",
                "<br><br>\n",
                "Luckily this is much easier to do, we only need to pass the graph into the `colorbar` function. We can also pass in a color map using the `cmap` attribute again. The `vmin` and `vmax` attributes refer to the bounds of the range."
            ]
        },
        {
            "cell_type": "code",
            "execution_count": 24,
            "metadata": {},
            "outputs": [],
            "source": [
                "corr = X.corr()\n",
                "\n",
                "fig = plt.figure()\n",
                "ax = fig.add_subplot(111)\n",
                "fig.colorbar(ax.matshow(corr, cmap='RdBu', vmin=-1, vmax=1))\n",
                "\n",
                "ax.set_xticks(range(len(corr.columns)))\n",
                "ax.set_xticklabels(corr.columns)\n",
                "for tick in ax.get_xticklabels():\n",
                "        tick.set_rotation(45)\n",
                "\n",
                "ax.set_yticks(range(len(corr.columns)))\n",
                "ax.set_yticklabels(corr.columns)\n",
                "\n",
                "plt.show()\n"
            ]
        },
        {
            "cell_type": "markdown",
            "metadata": {},
            "source": [
                "### Subplots"
            ]
        },
        {
            "cell_type": "code",
            "execution_count": 25,
            "metadata": {},
            "outputs": [],
            "source": [
                "# Creating dummy data\n",
                "x = np.linspace(0, 3*np.pi, 500)\n",
                "y = np.sin(x**1.5)"
            ]
        },
        {
            "cell_type": "markdown",
            "metadata": {},
            "source": [
                "#### Two subplots"
            ]
        },
        {
            "cell_type": "code",
            "execution_count": 26,
            "metadata": {},
            "outputs": [],
            "source": [
                "f, (ax1, ax2) = plt.subplots(1, 2, sharey=True)\n",
                "ax1.plot(x, y)\n",
                "ax2.scatter(x, y)\n",
                "\n",
                "plt.show()\n"
            ]
        },
        {
            "cell_type": "markdown",
            "metadata": {},
            "source": [
                "#### Four subplots\n"
            ]
        },
        {
            "cell_type": "code",
            "execution_count": 27,
            "metadata": {},
            "outputs": [],
            "source": [
                "fig, axes = plt.subplots(2, 2, subplot_kw=dict(polar=True))\n",
                "axes[0, 0].plot(x, y)\n",
                "axes[1, 1].scatter(x, y)\n",
                "\n",
                "plt.show()\n"
            ]
        },
        {
            "cell_type": "markdown",
            "metadata": {},
            "source": [
                "### Multiple plots on the same axis\n",
                "Sometimes, it's useful to plot multiple graphs on the same axes. For example, plotting the scores of two students on the same graph for ease of comparison. While this sounds like a tricky concept, its more straightforward than you'd think!"
            ]
        },
        {
            "cell_type": "code",
            "execution_count": 28,
            "metadata": {},
            "outputs": [],
            "source": [
                "plt.plot([3,4,3,6], [1,3,5,8], 'bo')\n",
                "plt.plot([5,6,7,8], [4,4,3,2], 'ro') \n",
                "# You can add any number of plots this way!\n",
                "\n",
                "plt.show()\n"
            ]
        },
        {
            "cell_type": "markdown",
            "metadata": {},
            "source": [
                "### Error Bars"
            ]
        },
        {
            "cell_type": "markdown",
            "metadata": {},
            "source": [
                "We are also introducing error bars, which were designed to overcome one of main challenges of data visualization: to represent the uncertainty of the data. Error bars add a whisker to a data point, which indicates a possible ranges of values that the data point can potentially take, rather than designating one definite value."
            ]
        },
        {
            "cell_type": "code",
            "execution_count": 29,
            "metadata": {},
            "outputs": [],
            "source": [
                "x = np.arange(0,1,0.1)\n",
                "y = np.sin(np.exp(x))\n",
                "error = 0.05 + 0.05*x\n",
                "\n",
                "plt.errorbar(x,y,xerr=error,fmt='-o')\n",
                "\n",
                "plt.title('Error Bars for an Arbitrary Function')\n",
                "plt.xlabel('x')\n",
                "plt.ylabel('y')\n",
                "\n",
                "plt.show()\n"
            ]
        },
        {
            "cell_type": "markdown",
            "metadata": {},
            "source": [
                "_____\n",
                "### Example 3:\n",
                "Tweak your previous graph (or create a new one) so it includes one of the above tips and tricks."
            ]
        },
        {
            "cell_type": "code",
            "execution_count": 30,
            "metadata": {},
            "outputs": [],
            "source": [
                ""
            ]
        },
        {
            "cell_type": "markdown",
            "metadata": {},
            "source": [
                "____\n",
                "## Advanced Visualization Techniques\n",
                "There are plenty of other visualization packages such as: \n",
                "\n",
                "\n",
                "Languages such as D3 that have much more creative control and can create some pretty cool visualizations: http://www.r2d3.us/covid-19/. "
            ]
        },
        {
            "cell_type": "markdown",
            "metadata": {},
            "source": [
                "### Animation\n",
                "There are additional visual tools that you can use, that for the scope of this course we will only mention. Please refer to these links:\n",
                "<br><br>\n",
                "https://matplotlib.org/api/animation_api.html\n",
                "<br>\n",
                "https://matplotlib.org/2.0.0/mpl_toolkits/index.html\n",
                "### Making Maps\n",
                "You should have downloaded a zip file called Canada_AL26335. Unzip that and make sure the folder is in the same directory as this notebook. Included in the folder you downloaded should be a .shp file (this is a type of file that contains geographic vector data). Performing pip3 install pyshp will install the shapefile python library. "
            ]
        },
        {
            "cell_type": "code",
            "execution_count": 33,
            "metadata": {},
            "outputs": [],
            "source": [
                "#Map Data can be obtained here: https://www.igismap.com/canada-shapefile-download-free-adminstrative-boundaries-provinces-and-territories/\n",
                "#Map Data Manipulation\n",
                "import shapefile as shp\n",
                "sns.set(style='whitegrid', palette='pastel', color_codes=True)\n",
                "sns.mpl.rc('figure', figsize=(10,6))\n",
                "shp_path = './Canada_AL26335/Canada_AL263.shp'\n",
                "sf = shp.Reader(shp_path)\n",
                "def read_shapefile(sf):\n",
                "    \"\"\"\n",
                "    Read a shapefile into a Pandas dataframe with a 'coords' \n",
                "    column holding the geometry information. This uses the pyshp\n",
                "    package\n",
                "    \"\"\"\n",
                "    fields = [x[0] for x in sf.fields][1:]\n",
                "    shps = [s.points for s in sf.shapes()]\n",
                "    #Quebec's data is messed up so I manually entered the records for it\n",
                "    dat = [sf.record(0)]\n",
                "    dat.append(sf.record(1))\n",
                "    dat.append(sf.record(2))\n",
                "    dat.append(sf.record(3))\n",
                "    dat.append(sf.record(4))\n",
                "    dat.append(sf.record(5))\n",
                "    dat.append(sf.record(6))\n",
                "    dat.append(sf.record(7))\n",
                "    dat.append(sf.record(8))\n",
                "    dat.append(sf.record(9))\n",
                "    dat.append(sf.record(9))\n",
                "    dat.append(sf.record(11))\n",
                "    dat.append(sf.record(12))\n",
                "    dat[10][0] = '61549'\n",
                "    dat[10][2] = 'Quebec'\n",
                "    dat[10][3] = 'Quebec'\n",
                "    dat[10][4] = 'Quebec'\n",
                "    dat[10][8] = 'Q176'\n",
                "    dat[10][9] = 'en:Quebec'\n",
                "    dat[10][13] = 'CA-QC'\n",
                "    print(dat[10])\n",
                "    df = pd.DataFrame(columns=fields, data=dat)\n",
                "    df = df.assign(coords=shps)\n",
                "    return df\n",
                "\n",
                "df = read_shapefile(sf)\n",
                "print(df.name)\n",
                "\n",
                "#Plotting 1 Province \n",
                "def plot_shape(id, s=None):\n",
                "    \"\"\" PLOTS A SINGLE SHAPE \"\"\"\n",
                "    plt.figure()\n",
                "    ax = plt.axes()\n",
                "    ax.set_aspect('equal')\n",
                "    shape_ex = sf.shape(id)\n",
                "    x_lon = np.zeros((len(shape_ex.points),1))\n",
                "    y_lat = np.zeros((len(shape_ex.points),1))\n",
                "    for ip in range(len(shape_ex.points)):\n",
                "        x_lon[ip] = shape_ex.points[ip][0]\n",
                "        y_lat[ip] = shape_ex.points[ip][1]\n",
                "    plt.plot(x_lon,y_lat) \n",
                "    x0 = np.mean(x_lon)\n",
                "    y0 = np.mean(y_lat)\n",
                "    plt.text(x0, y0, s, fontsize=10)\n",
                "    # use bbox (bounding box) to set plot limits\n",
                "    plt.xlim(shape_ex.bbox[0],shape_ex.bbox[2])\n",
                "    return x0, y0\n",
                "\n",
                "province = 'Ontario'\n",
                "prov_id = df[df.name == province].index[0]\n",
                "plot_shape(prov_id, province)\n"
            ]
        },
        {
            "cell_type": "markdown",
            "metadata": {},
            "source": [
                "____\n",
                "## References\n",
                "https://matplotlib.org/api/_as_gen/matplotlib.pyplot.subplots.html"
            ]
        }
    ]
}