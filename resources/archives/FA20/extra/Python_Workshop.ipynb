{
 "cells": [
  {
   "cell_type": "markdown",
   "metadata": {},
   "source": [
    "## Python Basics\n",
    "Basic Python data structures are lists which can act as arrays, stacks, queues; dictionaries which are hashtables; sets.\n",
    "Python lists are very versatile as compared to Java lists as you can include values of different types in one list (same with dictionaries). "
   ]
  },
  {
   "cell_type": "code",
   "execution_count": 8,
   "metadata": {},
   "outputs": [
    {
     "name": "stdout",
     "output_type": "stream",
     "text": [
      "[0, 0, 0, 0, 0]\n",
      "[1, 2]\n",
      "[1, (2, 3), 'a', 'b']\n",
      "1\n",
      "(1, 2, 'a')\n"
     ]
    }
   ],
   "source": [
    "lst = [0]*5\n",
    "print(lst)\n",
    "lst = []\n",
    "lst = list(range(5))\n",
    "print(lst[1:3])\n",
    "lst = [1,(2,3),'a','b']\n",
    "print(lst)\n",
    "grades = [apples, oranges, bananas]\n",
    "lst = [('Ben', 2), ('Emily', 5), ('Joe',6), ('Jerry', 3)]\n",
    "summation = 0\n",
    "for item in lst:\n",
    "    summation += item[1]\n",
    "apples = {'Ben': 2, 'Emily': 5, 'Joe': 6, 'Jerry': 3}\n",
    "dictionary['Emily']\n",
    "for key in dictionary.keys():\n",
    "    summation += dictionary[key]\n",
    "tup = ('Ben', 2)\n",
    "tup[1] += 1\n",
    "apples['Ben'] += 1"
   ]
  },
  {
   "cell_type": "code",
   "execution_count": 30,
   "metadata": {},
   "outputs": [
    {
     "name": "stdout",
     "output_type": "stream",
     "text": [
      "{'a': 1, 1: (2, 3), 2: 'abc'}\n",
      "1\n"
     ]
    }
   ],
   "source": [
    "dictionary = {}\n",
    "dictionary['a'] = 1\n",
    "dictionary[1] = (2,3)\n",
    "dictionary[2] = 'abc'\n",
    "print(dictionary)\n",
    "print(dictionary['a'])"
   ]
  },
  {
   "cell_type": "code",
   "execution_count": 31,
   "metadata": {},
   "outputs": [
    {
     "name": "stdout",
     "output_type": "stream",
     "text": [
      "{1, 2}\n",
      "{1, 2}\n"
     ]
    }
   ],
   "source": [
    "setter = set()\n",
    "setter.add(1)\n",
    "setter.add(2)\n",
    "print(setter)\n",
    "setter.add(1)\n",
    "print(setter)"
   ]
  },
  {
   "cell_type": "markdown",
   "metadata": {},
   "source": [
    "Here are some basic functions and operations you can perform with lists (as well as general python syntax)"
   ]
  },
  {
   "cell_type": "code",
   "execution_count": 33,
   "metadata": {},
   "outputs": [
    {
     "name": "stdout",
     "output_type": "stream",
     "text": [
      "[1, (2, 3), 'a', 'b', '2', 'hi']\n",
      "[1, (2, 3), 'a', 'b', '2']\n",
      "[1, (2, 3), 'a', 'b', '2', '2']\n",
      "1\n",
      "(2, 3)\n",
      "a\n",
      "b\n",
      "2\n",
      "2\n",
      "1\n",
      "what's up\n",
      "a\n",
      "b\n",
      "2\n",
      "what's up\n"
     ]
    }
   ],
   "source": [
    "lst.append('hi')\n",
    "print(lst)\n",
    "lst.pop()\n",
    "print(lst)\n",
    "lst += '2'\n",
    "print(lst)\n",
    "for item in lst:\n",
    "    print(item)\n",
    "for item in range(len(lst)):\n",
    "    if item%2 == 0:\n",
    "        print(lst[item])\n",
    "    elif item%3 == 0:\n",
    "        print(lst[item])\n",
    "    else:\n",
    "        print(\"what's up\")\n",
    "        "
   ]
  },
  {
   "cell_type": "markdown",
   "metadata": {},
   "source": [
    "# Numpy\n",
    "Numpy is a package that contains many routines for fast matrix and vector operations. Behind the scenes, rather than executing slow Python code, numpy functions often execute code that is compiled and highly optimized (using C).\n",
    "\n",
    "If you are not familiar with the Numpy package, you can read an overview of it <a href=\"https://docs.scipy.org/doc/numpy-dev/user/quickstart.html\">here</a>, and find a full API <a href=\"https://docs.scipy.org/doc/numpy/reference/\">here</a>. \n",
    "If you have anaconda already installed, this library should already be installed and you can import it directly. Otherwise you would normally do pip3 install 'library name'."
   ]
  },
  {
   "cell_type": "code",
   "execution_count": 10,
   "metadata": {},
   "outputs": [
    {
     "data": {
      "text/plain": [
       "array([[1, 2, 3],\n",
       "       [4, 5, 6]])"
      ]
     },
     "execution_count": 10,
     "metadata": {},
     "output_type": "execute_result"
    }
   ],
   "source": [
    "import numpy as np\n",
    "X = np.array([[1,2,3], [4,5,6]])\n",
    "X"
   ]
  },
  {
   "cell_type": "markdown",
   "metadata": {},
   "source": [
    "Unlike normal python lists, numpy arrays must contain a homogenous value set, meaning they can't have values of different types: "
   ]
  },
  {
   "cell_type": "code",
   "execution_count": 11,
   "metadata": {},
   "outputs": [
    {
     "ename": "TypeError",
     "evalue": "Field elements must be 2- or 3-tuples, got ''a''",
     "output_type": "error",
     "traceback": [
      "\u001b[0;31m---------------------------------------------------------------------------\u001b[0m",
      "\u001b[0;31mTypeError\u001b[0m                                 Traceback (most recent call last)",
      "\u001b[0;32m<ipython-input-11-e4b3cb0b43ce>\u001b[0m in \u001b[0;36m<module>\u001b[0;34m\u001b[0m\n\u001b[0;32m----> 1\u001b[0;31m \u001b[0mY\u001b[0m \u001b[0;34m=\u001b[0m \u001b[0mnp\u001b[0m\u001b[0;34m.\u001b[0m\u001b[0marray\u001b[0m\u001b[0;34m(\u001b[0m\u001b[0;34m[\u001b[0m\u001b[0;36m1\u001b[0m\u001b[0;34m,\u001b[0m\u001b[0;36m2\u001b[0m\u001b[0;34m,\u001b[0m\u001b[0;36m3\u001b[0m\u001b[0;34m]\u001b[0m\u001b[0;34m,\u001b[0m \u001b[0;34m[\u001b[0m\u001b[0;34m'a'\u001b[0m\u001b[0;34m,\u001b[0m \u001b[0;34m'b'\u001b[0m\u001b[0;34m,\u001b[0m \u001b[0;34m'c'\u001b[0m\u001b[0;34m]\u001b[0m\u001b[0;34m)\u001b[0m\u001b[0;34m\u001b[0m\u001b[0;34m\u001b[0m\u001b[0m\n\u001b[0m",
      "\u001b[0;31mTypeError\u001b[0m: Field elements must be 2- or 3-tuples, got ''a''"
     ]
    }
   ],
   "source": [
    "Y = np.array([1,2,3], ['a', 'b', 'c'])"
   ]
  },
  {
   "cell_type": "markdown",
   "metadata": {},
   "source": [
    "The first homework assignment already teaches a lot of functions that you'll need in this class and is a good reference for when you're doing future homework assignments. For this workshop I'll go over some functions not in the homework that are still useful and nice to know. (No need to memorize these things, you'll use them more and more and get the hang of the syntax and which functions are important to know)."
   ]
  },
  {
   "cell_type": "code",
   "execution_count": 13,
   "metadata": {},
   "outputs": [
    {
     "name": "stdout",
     "output_type": "stream",
     "text": [
      "This is a numpy vector:[3 4 5]. It's shape is (3,)\n",
      "This is a column vector (matrix):\n",
      "[[3]\n",
      " [4]\n",
      " [5]]. It's shape is (3, 1)\n",
      "This is a row vector (matrix):[[3 4 5]]. It's shape is (1, 3)\n"
     ]
    }
   ],
   "source": [
    "v1=np.array([3,4,5])\n",
    "print(\"This is a numpy vector:{}. It's shape is {}\".format(v1, v1.shape))\n",
    "v2=v1.reshape((3,1))\n",
    "print(\"This is a column vector (matrix):\\n{}. It's shape is {}\".format(v2, v2.shape))\n",
    "v3=v1.reshape((1,3))\n",
    "print(\"This is a row vector (matrix):{}. It's shape is {}\".format(v3,v3.shape))"
   ]
  },
  {
   "cell_type": "code",
   "execution_count": 42,
   "metadata": {},
   "outputs": [
    {
     "name": "stdout",
     "output_type": "stream",
     "text": [
      "This is not what we want when we add v2 and v1: \n",
      "[[ 6  7  8]\n",
      " [ 7  8  9]\n",
      " [ 8  9 10]]\n",
      "This is what we want: [ 6  8 10]\n"
     ]
    }
   ],
   "source": [
    "v4=v2+v1\n",
    "print(\"This is not what we want when we add v2 and v1: \\n{}\".format(v4))\n",
    "v5 = v2.flatten() + v1 \n",
    "print(\"This is what we want: {}\".format(v5))"
   ]
  },
  {
   "cell_type": "markdown",
   "metadata": {},
   "source": [
    "As you can see, numpy is actually pretty smart and in instances where matrix operations can't technically be done, it takes a smart guess as to what you want to do with the matrices. In the past example, you can't add a (3,1) matrix to a (1,3) matrix normally, but numpy guesses that you want to form a (3,3) matrix so it transforms both into (3,3) matrices and then adds them. Sometimes it's useful and sometimes it'll cause a bug if you don't know what you're really doing with the code. "
   ]
  },
  {
   "cell_type": "code",
   "execution_count": 43,
   "metadata": {},
   "outputs": [
    {
     "name": "stdout",
     "output_type": "stream",
     "text": [
      "(3, 3)\n",
      "2\n",
      "9\n"
     ]
    }
   ],
   "source": [
    "print(\"Dimensions of the matrix\".format(v4.shape))\n",
    "print(\"What Dimension matrix: {}\".format(v4.ndim))\n",
    "print(\"Number of elements: {}\".format(v4.size))"
   ]
  },
  {
   "cell_type": "code",
   "execution_count": 14,
   "metadata": {},
   "outputs": [
    {
     "name": "stdout",
     "output_type": "stream",
     "text": [
      "[[[0. 0. 0. 0.]\n",
      "  [0. 0. 0. 0.]\n",
      "  [0. 0. 0. 0.]\n",
      "  [0. 0. 0. 0.]]\n",
      "\n",
      " [[0. 0. 0. 0.]\n",
      "  [0. 0. 0. 0.]\n",
      "  [0. 0. 0. 0.]\n",
      "  [0. 0. 0. 0.]]\n",
      "\n",
      " [[0. 0. 0. 0.]\n",
      "  [0. 0. 0. 0.]\n",
      "  [0. 0. 0. 0.]\n",
      "  [0. 0. 0. 0.]]]\n"
     ]
    }
   ],
   "source": [
    "three_D = np.zeros((3, 4, 4))\n",
    "print(three_D)"
   ]
  },
  {
   "cell_type": "markdown",
   "metadata": {},
   "source": [
    "The lecture covers dot products but what about element-wise multiplication and cross products?"
   ]
  },
  {
   "cell_type": "code",
   "execution_count": 56,
   "metadata": {},
   "outputs": [
    {
     "name": "stdout",
     "output_type": "stream",
     "text": [
      "Element wise multiplication: [  6  24  54  96 150]\n",
      "Dot Product/Normal Matrix Multiplication: 330\n",
      "[[1 2]\n",
      " [3 4]]\n",
      "[[4 5]\n",
      " [5 6]]\n",
      "Cross Product: [-3 -2]\n"
     ]
    }
   ],
   "source": [
    "arr1 = np.array([2,4,6,8,10])\n",
    "arr2 = np.array([3,6,9,12,15])\n",
    "X = np.array([[1,2], [3,4]])\n",
    "Y = np.array([[4,5],[5,6]])\n",
    "print(\"Element wise multiplication: {}\".format(arr1*arr2))\n",
    "print(\"Dot Product/Normal Matrix Multiplication: {}\".format(np.dot(arr1, arr2)))\n",
    "print(X)\n",
    "print(Y)\n",
    "print(\"Cross Product: {}\".format(np.cross(X, Y)))"
   ]
  },
  {
   "cell_type": "code",
   "execution_count": 58,
   "metadata": {},
   "outputs": [
    {
     "name": "stdout",
     "output_type": "stream",
     "text": [
      "Some syntactic sugar: \n",
      "[[1 3]\n",
      " [2 4]]\n"
     ]
    }
   ],
   "source": [
    "print(\"Some syntactic sugar: \\n{}\".format(X.T)"
   ]
  },
  {
   "cell_type": "markdown",
   "metadata": {},
   "source": [
    "## Additional Resources\n",
    "If you want to learn Python for coding interviews, data structures, algorithms:\n",
    "\n",
    "https://leetcode.com/\n",
    "\n",
    "https://www.geeksforgeeks.org/\n",
    "\n",
    "If you want to learn beginner Python:\n",
    "\n",
    "Take CS 1110\n",
    "\n",
    "or watch this https://www.youtube.com/watch?v=Z1Yd7upQsXY&list=PLBZBJbE_rGRWeh5mIBhD-hhDwSEDxogDg (basic python \n",
    "tutorial similar to this)\n",
    "\n",
    "As for things data science and machine learning related, we'll give recommendations throughout the course for further self-study or hopefully give you the knowledge for googling (the best recommendation). If you want more, come to office hours and we can recommend more material. For now here's some stuff:\n",
    "\n",
    "https://towardsdatascience.com/\n",
    "\n",
    "https://www.kaggle.com/"
   ]
  },
  {
   "cell_type": "code",
   "execution_count": null,
   "metadata": {},
   "outputs": [],
   "source": []
  }
 ],
 "metadata": {
  "kernelspec": {
   "display_name": "Python 3",
   "language": "python",
   "name": "python3"
  },
  "language_info": {
   "codemirror_mode": {
    "name": "ipython",
    "version": 3
   },
   "file_extension": ".py",
   "mimetype": "text/x-python",
   "name": "python",
   "nbconvert_exporter": "python",
   "pygments_lexer": "ipython3",
   "version": "3.8.1"
  }
 },
 "nbformat": 4,
 "nbformat_minor": 4
}
