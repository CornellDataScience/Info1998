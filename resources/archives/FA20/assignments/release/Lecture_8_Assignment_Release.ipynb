{
    "metadata": {
        "colab": {
            "collapsed_sections": [],
            "name": "Lecture 8 Assignment.ipynb",
            "provenance": []
        },
        "kernelspec": {
            "display_name": "Python 3",
            "language": "python",
            "name": "python3"
        },
        "language_info": {
            "codemirror_mode": {
                "name": "ipython",
                "version": 3
            },
            "file_extension": ".py",
            "mimetype": "text/x-python",
            "name": "python",
            "nbconvert_exporter": "python",
            "pygments_lexer": "ipython3",
            "version": "3.7.3"
        },
        "notebookId": "^EG=bpDp\\gp"
    },
    "nbformat": 4,
    "nbformat_minor": 1,
    "cells": [
        {
            "cell_type": "markdown",
            "metadata": {
                "colab_type": "text",
                "id": "FBANStEOVCzg"
            },
            "source": [
                "# NET ID:"
            ]
        },
        {
            "cell_type": "markdown",
            "metadata": {
                "colab_type": "text",
                "id": "zXFxwASKVCzj"
            },
            "source": [
                "# Lecture 8: Linear Classifiers and Model Validation"
            ]
        },
        {
            "cell_type": "markdown",
            "metadata": {
                "colab_type": "text",
                "id": "zIdbDd6XVCzk"
            },
            "source": [
                "##### This week we're introducing linear classifiers, namely the **Perceptron**, and then delving deeper into **Model Validation**.\n",
                "\n",
                "### Excercises 1, 2, 3, 5, 6, and 7 are required. Exercises 4, 8, and 9 are optional.\n",
                "\n",
                "That's a little more than we normally have, so as long as you get _most_ of the notebook correct, you'll receive full score on this assignment."
            ]
        },
        {
            "cell_type": "markdown",
            "metadata": {
                "colab_type": "text",
                "id": "rki22g-wVCzk"
            },
            "source": [
                "## Perceptron\n",
                "\n",
                "Perceptron was developed by American psychologist Frank Rosenblatt in 1957 at the **Cornell** Aeronautical Laboratory. Shout-out to one of our greatest alumni!\n",
                "\n",
                "Perceptron is a linear binary classifier. So the underlying assumption about the dataset is that there are two labels - i.e. binary labels (conventionally, +1 and -1), and that the two classes should be classified with a linear hyperplane (Although, keep in mind that the [Multi-Layer Perceptron (MLP)](https://en.wikipedia.org/wiki/Multilayer_perceptron) is applicable to non-linearly separable data. We won't cover MLP in this course as it is part of Artificial Neural Networks (ANN), which is not in our scope).\n",
                "\n",
                "<img src=\"https://jtsulliv.github.io/images/perceptron/linsep_new.png?raw=True\" alt=\"linsep.png\" style=\"width: 60%;\"/>"
            ]
        },
        {
            "cell_type": "markdown",
            "metadata": {
                "colab_type": "text",
                "id": "54ykzcCcVCzl"
            },
            "source": [
                "The Perceptron \"learns\" a series of weights, each of which corresponds to each input feature, i.e. X of our data. For example, we are given a dataset of dog and cat. The input feature set consists of three columns: weight $x_1$, height $x_2$, and length $x_3$ of each animal. Then Perceptron will keep track of three different weights: $w_1$, $w_2$, and $w_3$. Each pair of input features and weights is multiplied and summed up: $s = w_1*x_1 + w_2*x_2 + w_3*x_3$. If the summed-up result $s$ is greater than a certain threshold, then we predict one class, and if it is less than the threshold, then we predict the other. For example, if our threshold is 0, then we can set it as: if $s > 0$, then the given input feature is a description of (+1) label (i.e. a dog), and if $s < 0$, then it is (-1) label (i.e. a cat). Then Perceptron will check if the predictions made were correct. If some of them were not, then the weights are updated accordingly. This process continues for a certain number of \"epochs,\" or iterations. The end goal is to classify every point correctly by finding a *perfect* linear hyperplane.\n",
                "\n",
                "The final step is to check if our predictions were classified correctly. If they were not, then the weights are updated using a learning rate. This process continues for a certain number of iterations, known as \u201cepochs.\u201d The goal is to determine the weights that produce a linear decision boundary that correctly classifies the predictions.\n",
                "\n",
                "<img src=\"https://cdn-images-1.medium.com/max/1600/1*n6sJ4yZQzwKL9wnF5wnVNg.png\" alt=\"perceptron.png\" style=\"width: 50%;\"/>"
            ]
        },
        {
            "cell_type": "markdown",
            "metadata": {
                "colab_type": "text",
                "id": "hx_NFQDIVCzm"
            },
            "source": [
                "## Demo: Perceptron Learning Algorithm\n",
                "This algorithm is simple and provides a great intuition for how to use your data to find a great linear binary classifier. The perceptron algorithm is an __iterative__ algorithm. This means that we will constantly update our classifer __w__ until it performs well on our training data. Intuitively, we want use the points that our incorrectly classifies to help develop a better classifer. Lets see how our model improves across iterations:"
            ]
        },
        {
            "cell_type": "code",
            "execution_count": 1,
            "metadata": {
                "colab": {},
                "colab_type": "code",
                "id": "TAyJZHn7VCzn"
            },
            "outputs": [],
            "source": [
                "# import necessary packages\n",
                "import numpy as np\n",
                "import matplotlib.pyplot as plt\n",
                "import pandas as pd"
            ]
        },
        {
            "cell_type": "code",
            "execution_count": 2,
            "metadata": {
                "colab": {},
                "colab_type": "code",
                "id": "wyYdsuycVCzq"
            },
            "outputs": [],
            "source": [
                "#Plots our data points and Classifier\n",
                "def plot_perceptron(w):\n",
                "    plt.scatter(X[:,0], X[:,1], color = c)\n",
                "    left = min(X[:,0])\n",
                "    right = max(X[:,0])\n",
                "    if w[2] != 0:\n",
                "        plt.plot(np.linspace(left, right, num=50), [-(w[2] + w[0]*x)/w[1] for x in np.linspace(left, right, num=50)])\n",
                "    plt.xlabel('x1')\n",
                "    plt.ylabel('x2')\n",
                "    plt.title('Perceptron Learning Example')\n",
                "    plt.show()\n",
                "    plt.close()"
            ]
        },
        {
            "cell_type": "code",
            "execution_count": 3,
            "metadata": {
                "colab": {},
                "colab_type": "code",
                "id": "B2zhY8F8VCzu"
            },
            "outputs": [
                {
                    "data": {
                        "image/png": "[encoded data removed]",
                        "text/plain": [
                            "<Figure size 432x288 with 1 Axes>"
                        ]
                    },
                    "metadata": {
                        "needs_background": "light"
                    },
                    "output_type": "display_data"
                }
            ],
            "source": [
                "n = 100 # number of data points\n",
                "X = np.random.randn(n,2) \n",
                "offset = np.ones((n,1))\n",
                "X = np.hstack((X, offset))\n",
                "w_true = np.random.randn(3,1) \n",
                "\n",
                "y = np.sign(X.dot(w_true))\n",
                "c = []\n",
                "for i in range(n):\n",
                "    if y[i] > 0:\n",
                "        c.append('r')\n",
                "    else:\n",
                "        c.append('b')\n",
                "plot_perceptron(w_true)"
            ]
        },
        {
            "cell_type": "markdown",
            "metadata": {
                "colab_type": "text",
                "id": "uc6CtkeTVCzx"
            },
            "source": [
                "#### As you can see above, our goal is to find the line above that linearly separates our blue data points from our red data points. Let's use the perceptron algorithm to do this:"
            ]
        },
        {
            "cell_type": "code",
            "execution_count": 4,
            "metadata": {
                "colab": {},
                "colab_type": "code",
                "id": "tXFHzeCfVCzy"
            },
            "outputs": [
                {
                    "data": {
                        "image/png": "[encoded data removed]",
                        "text/plain": [
                            "<Figure size 432x288 with 1 Axes>"
                        ]
                    },
                    "metadata": {
                        "needs_background": "light"
                    },
                    "output_type": "display_data"
                }
            ],
            "source": [
                "#initialize random normal vector w\n",
                "w = np.random.randn(3)\n",
                "#function that returns the index of a point that is missclassifed\n",
                "def find_missclassified(w):\n",
                "    for it in range(10000):\n",
                "        i = np.random.randint(0, n) \n",
                "        if y[i]*(X[i,:].dot(w)) <= 0:\n",
                "            return i\n",
                "    return None\n",
                "plot_perceptron(w)"
            ]
        },
        {
            "cell_type": "code",
            "execution_count": 5,
            "metadata": {
                "colab": {},
                "colab_type": "code",
                "id": "08W7pH2mVCz2"
            },
            "outputs": [
                {
                    "name": "stdout",
                    "output_type": "stream",
                    "text": [
                        "49\n",
                        "Updating perceptron\n"
                    ]
                },
                {
                    "data": {
                        "image/png": "[encoded data removed]",
                        "text/plain": [
                            "<Figure size 432x288 with 1 Axes>"
                        ]
                    },
                    "metadata": {
                        "needs_background": "light"
                    },
                    "output_type": "display_data"
                }
            ],
            "source": [
                "#Run this cell once at a time to see how our classifier improves at each iteration\n",
                "point = find_missclassified(w)\n",
                "print(point)\n",
                "if point is None:\n",
                "    print(\"Perfect Classifier!!!\")\n",
                "    plot_perceptron(w)\n",
                "else:\n",
                "    print(\"Updating perceptron\")\n",
                "    w = w + y[point]*X[point, :]\n",
                "    plot_perceptron(w)"
            ]
        },
        {
            "cell_type": "markdown",
            "metadata": {
                "colab_type": "text",
                "id": "JQQtmNx5VCz5"
            },
            "source": [
                "Slowly but surely our classifier is getting better! The intuition behind the perceptron is that we use the incorrectly classified points to change __w__ in order to make better guesses."
            ]
        },
        {
            "cell_type": "markdown",
            "metadata": {
                "colab_type": "text",
                "id": "_iH8kAlpVCz6"
            },
            "source": [
                "## Example 1: Perceptron Learning"
            ]
        },
        {
            "cell_type": "markdown",
            "metadata": {
                "colab_type": "text",
                "id": "i5zFK0LwVCz7"
            },
            "source": [
                "Let's create a perceptron to predict whether someone has breast cancer. This is no different from what you've done with models before, but we're going to write our code inside a function so we can reuse it later."
            ]
        },
        {
            "cell_type": "code",
            "execution_count": 6,
            "metadata": {
                "colab": {},
                "colab_type": "code",
                "id": "ATy1xsQWVCz8"
            },
            "outputs": [],
            "source": [
                "from sklearn.datasets import load_breast_cancer\n",
                "from sklearn.model_selection import train_test_split\n",
                "from sklearn.linear_model import Perceptron\n",
                "from sklearn.metrics import accuracy_score\n",
                "\n",
                "\"\"\"\n",
                "test_size: a float between 0 and 1 indicating the size of the train set\n",
                "\"\"\"\n",
                "def classifier_accuracy(classifier, features, goal, n_training_points, n_testing_points=None):\n",
                "    \n",
                "    if n_training_points > len(goal):\n",
                "        raise ValueError(\"bad input to classifier_accuracy: number of training points requested is greater than length of dataset\")\n",
                "    if n_training_points <= 0:\n",
                "        raise ValueError(\"bad input to classifier_accuracy: number of training points requested must be greater than 0\")\n",
                "    \n",
                "    if n_testing_points is None:\n",
                "        n_testing_points = len(goal) - n_training_points\n",
                "    \n",
                "    if n_testing_points > len(goal):\n",
                "        raise ValueError(\"bad input to classifier_accuracy: number of testing points requested is greater than length of dataset\")\n",
                "    if n_testing_points < 0:\n",
                "        raise ValueError(\"bad input to classifier_accuracy: number of testing points requested must be greater than 0\")\n",
                "    \n",
                "    if n_training_points + n_testing_points > len(goal):\n",
                "        raise ValueError(\"bad input to classifier_accuracy: number of training + testing points requested is greater than length of dataset\")\n",
                "    \n",
                "    n_total_points = n_training_points + n_testing_points\n",
                "    \n",
                "    if n_training_points + n_testing_points < len(goal):\n",
                "        indices = np.random.choice(len(features), n_total_points)\n",
                "        features = features[indices,:]\n",
                "        goal = goal[indices]\n",
                "    \n",
                "    test_size = n_testing_points / n_total_points\n",
                "    \n",
                "    ###############################################################################\n",
                "    ##### Don't touch anything in this cell above this line! Only add code below.\n",
                "    ###############################################################################\n",
                "    \n",
                "    #FILL HERE: Make a train test split with a test size of test_size\n",
                "\n",
                "    #FILL HERE: train the classifier\n",
                "    classifier.fit(\"FILL HERE\", \"FILL HERE\")\n",
                "\n",
                "    #FILL HERE: Compute your model's train and test accuracy using accuracy_score\n",
                "    \n",
                "    return None, None  #FILL HERE: Return that accuracy \n",
                "\n",
                "\n",
                "X, y = load_breast_cancer(return_X_y=True)\n",
                "# we train on 400 of the ~500 data points, equivalent to 20% test set\n",
                "train, test = classifier_accuracy(Perceptron(), X, y, 400) \n",
                "print(\"train accuracy:\\t\", train)\n",
                "print(\"test accuracy:\\t\", test)\n"
            ]
        },
        {
            "cell_type": "markdown",
            "metadata": {},
            "source": [
                "# Example 2: Data Limitations of Cross Validation Pt. 1 - Train Size"
            ]
        },
        {
            "cell_type": "markdown",
            "metadata": {},
            "source": [
                "Cross validation is an extraordinarily powerful technique and is used in almost every supervised learning problem. But, it does have its limitations -- some problems are inherent to supervised learning, and cross validation can't fix those issues.\n",
                "\n",
                "One such limitation has to do with the size of the train set (i.e. how many points we pass into `model.fit`). Let's explore this limitation."
            ]
        },
        {
            "cell_type": "markdown",
            "metadata": {},
            "source": [
                "The code block below may include Python constructs that you're not familiar with. That's okay -- **we don't expect you to be able to understand all the code**, and that's not the point of this example. Just **set n_training_points** by replacing \"FILL IN HERE\", and **analyze the average accuracy** outputted. If you get an error, read the error message and change your number accordingly.\n",
                "\n",
                "**Make sure to try both small (single digits) and big (triple digits) values of n_training_points!**"
            ]
        },
        {
            "cell_type": "code",
            "execution_count": 7,
            "metadata": {},
            "outputs": [],
            "source": [
                "X, y = load_breast_cancer(return_X_y=True)\n",
                "\n",
                "# TODO try setting n_training_points to a few different numbers. If you get an error, read the error message and change your number accordingly.\n",
                "n_training_points = \"FILL IN HERE\" \n",
                "\n",
                "n_testing_points = 100\n",
                "accs = []\n",
                "for i in range(1000):\n",
                "    for _ in range(50):\n",
                "        try:\n",
                "            train_acc, test_acc = classifier_accuracy(Perceptron(), X, y, n_training_points, n_testing_points)\n",
                "            accs.append(test_acc)\n",
                "            break\n",
                "        except ValueError as e:\n",
                "            if \"bad input to classifier_accuracy:\" in str(e):\n",
                "                raise e\n",
                "            continue\n",
                "\n",
                "print(\"avg. accuracy:\", round(np.mean(accs),4))\n"
            ]
        },
        {
            "cell_type": "markdown",
            "metadata": {},
            "source": [
                "## Analysis\n",
                "\n",
                "##### What is the relationship between # of training points and average accuracy?"
            ]
        },
        {
            "cell_type": "markdown",
            "metadata": {},
            "source": [
                "\n",
                "< FILL IN HERE >"
            ]
        },
        {
            "cell_type": "markdown",
            "metadata": {},
            "source": [
                "# Example 3: Data Limitations of Cross Validation Pt. 2 - Test Set Size"
            ]
        },
        {
            "cell_type": "markdown",
            "metadata": {},
            "source": [
                "What about test size (i.e. how many points we pass into our scoring function)? Do we also need a large test set?\n",
                "\n",
                "Let's see what happens when we vary the size of the test set.\n",
                "\n",
                "**In this problem, you will produce and analyze some scatterplots. We've provided most of the code; the bulk of your work will be in interpreting graphs.**\n",
                "\n",
                "The dataset is about phone prices. We're trying to classify each phone into one of four price bins."
            ]
        },
        {
            "cell_type": "markdown",
            "metadata": {},
            "source": [
                "The following block of code loops through test sizes varying from from 5 points to 50 points (with a fixed number of training points). For _each_ of these test sizes, it runs classifier_accuracy 500 times and finds summary statistics of those 500 runs. Recall that this is similar to what we did with cross-validation, except instead of producing one value, we're looping through different test sizes and producing a value for each test size."
            ]
        },
        {
            "cell_type": "code",
            "execution_count": 8,
            "metadata": {},
            "outputs": [],
            "source": [
                "from scipy import stats\n",
                "from sklearn.tree import DecisionTreeClassifier\n",
                "\n",
                "# setting up the configuration\n",
                "num_iters_per_test_size = 500 # for each test size, we'll collect 500 accuracies\n",
                "test_sizes = list(range(5,50,5))\n",
                "cellphone_df = pd.read_csv(\"phone.csv\")\n",
                "goal = cellphone_df[\"price_range\"]\n",
                "features = cellphone_df.drop(columns=[\"price_range\"]).to_numpy()\n",
                "\n",
                "# will store summary statistics about train and test accuracy \n",
                "train_acc_stats = []\n",
                "test_acc_stats = []\n",
                "for test_size in test_sizes:\n",
                "    tree = DecisionTreeClassifier()\n",
                "    accs = [classifier_accuracy(tree, features, goal, 1500, test_size) for i in range(num_iters_per_test_size)]\n",
                "    train_acc_stats.append(stats.describe([x[0] for x in accs])) # train accuracy statistics\n",
                "    test_acc_stats.append(stats.describe([x[1] for x in accs])) # test accuracy statistics"
            ]
        },
        {
            "cell_type": "code",
            "execution_count": 9,
            "metadata": {},
            "outputs": [],
            "source": [
                "\"\"\"\n",
                "Pass in one of the following:\n",
                "- \"nobs\"\n",
                "- \"min\"\n",
                "- \"max\"\n",
                "- \"mean\"\n",
                "- \"variance\"\n",
                "- \"kurtosis\"\n",
                "\n",
                "Returns two arrays: one for train accuracy statistics and one for test accuracy statistics.\n",
                "For example, get_summary_statistics(\"mean\") will return:\n",
                "1) the cross-validation train accuracy for each test size in `test_sizes`\n",
                "2) the cross-validation test accuracy for each test size in `test_sizes`\n",
                "\"\"\"\n",
                "def get_summary_statistics(summary_statistic_name):\n",
                "    index = 0\n",
                "    if summary_statistic_name == \"nobs\":\n",
                "        index = 0\n",
                "    elif summary_statistic_name == \"min\":\n",
                "        index = 1\n",
                "    elif summary_statistic_name == \"max\":\n",
                "        index = 1\n",
                "    elif summary_statistic_name == \"mean\":\n",
                "        index = 2\n",
                "    elif summary_statistic_name == \"variance\":\n",
                "        index = 3\n",
                "    elif summary_statistic_name == \"kurtosis\":\n",
                "        index = 5\n",
                "    elif summary_statistic_name == \"constant\":\n",
                "        return [1 for i in train_acc_stats], [1 for i in test_acc_stats]\n",
                "    else:\n",
                "        return None, None\n",
                "    train_statistics = [stat[index] for stat in train_acc_stats]\n",
                "    test_statistics = [stat[index] for stat in test_acc_stats]\n",
                "    if summary_statistic_name == \"min\":\n",
                "        train_statistics = [minmax[0] for minmax in train_statistics]\n",
                "        test_statistics = [minmax[0] for minmax in test_statistics]\n",
                "    elif summary_statistic_name == \"max\":\n",
                "        train_statistics = [minmax[1] for minmax in train_statistics]\n",
                "        test_statistics = [minmax[1] for minmax in test_statistics]\n",
                "    return train_statistics, test_statistics"
            ]
        },
        {
            "cell_type": "markdown",
            "metadata": {},
            "source": [
                "Below is some starter code for producing the scatterplots. All you need to do is change \"constant\" to one of the following summary statistic names:\n",
                "- \"nobs\"\n",
                "- \"min\"\n",
                "- \"max\"\n",
                "- \"mean\"\n",
                "- \"variance\"\n",
                "- \"kurtosis\"\n",
                "\n",
                "and that summary statistic will be graphed below for different test sizes."
            ]
        },
        {
            "cell_type": "code",
            "execution_count": 10,
            "metadata": {},
            "outputs": [],
            "source": [
                "summary_statistic_name = \"constant\" # TODO replace this with the name of a summary statistic \n",
                "\n",
                "train_yaxis, test_yaxis = get_summary_statistics(summary_statistic_name)\n",
                "\n",
                "if train_yaxis is None:\n",
                "    print(\"\\\"\" + summary_statistic_name + \"\\\" is not a valid statistic name! Make sure you spelled it correctly\")\n",
                "else:\n",
                "    fig, axes = plt.subplots(1,2, sharex=True, sharey=True)\n",
                "    fig.set_figwidth(15)\n",
                "    fig.subplots_adjust(hspace=0.5)\n",
                "    # fig.\n",
                "    axes[0].scatter(test_sizes,train_yaxis)\n",
                "    axes[0].set_title(\"Train accuracy \" + summary_statistic_name, fontsize=16)\n",
                "    axes[0].set_xlabel(\"Test size\", fontsize=16)\n",
                "    axes[0].set_ylabel(summary_statistic_name, fontsize=16)\n",
                "\n",
                "    axes[1].scatter(test_sizes,test_yaxis)\n",
                "    axes[1].set_title(\"Test accuracy \" + summary_statistic_name, fontsize=16)\n",
                "    axes[1].set_xlabel(\"Test size\", fontsize=16)\n",
                "    axes[1].set_ylabel(summary_statistic_name, fontsize=16)\n",
                "\n",
                "    plt.show()\n"
            ]
        },
        {
            "cell_type": "markdown",
            "metadata": {},
            "source": [
                "## Analysis\n",
                "\n",
                "##### Which is better, a small test set or a large test set? Why is it better? What could be causing this problem in small/large test sets?\n"
            ]
        },
        {
            "cell_type": "markdown",
            "metadata": {},
            "source": [
                "\n",
                "< FILL IN HERE >"
            ]
        },
        {
            "cell_type": "markdown",
            "metadata": {},
            "source": [
                "# Example 4: Application to final project (optional)"
            ]
        },
        {
            "cell_type": "markdown",
            "metadata": {},
            "source": [
                "Try finding the variance of your accuracies for a model in your final project, just like in example 3."
            ]
        },
        {
            "cell_type": "markdown",
            "metadata": {},
            "source": [
                "# Example 5: Selection Bias in Cross Validation"
            ]
        },
        {
            "cell_type": "markdown",
            "metadata": {},
            "source": [
                "Below, we use a decision tree to classify try to predict whether a phone both has talk time >= 20 and does not have 3G."
            ]
        },
        {
            "cell_type": "code",
            "execution_count": 11,
            "metadata": {},
            "outputs": [],
            "source": [
                "cellphone_df = pd.read_csv(\"phone.csv\")\n",
                "features = cellphone_df[['battery_power']]\n",
                "goal = (cellphone_df[\"talk_time\"] >= 20) & (cellphone_df[\"three_g\"] == False)"
            ]
        },
        {
            "cell_type": "code",
            "execution_count": 12,
            "metadata": {},
            "outputs": [
                {
                    "name": "stdout",
                    "output_type": "stream",
                    "text": [
                        "Accuracy: 0.9765\n"
                    ]
                }
            ],
            "source": [
                "from sklearn.tree import DecisionTreeClassifier\n",
                "from sklearn.model_selection import KFold\n",
                "from sklearn.metrics import confusion_matrix\n",
                "from contextlib import suppress\n",
                "\n",
                "accuracies, positive_predictive_values, negative_predictive_values = [],[],[]\n",
                "n_folds = 10\n",
                "kf = KFold(n_folds, random_state=42)\n",
                "for train_index, test_index in kf.split(features):\n",
                "    X_train, X_test = features.iloc[train_index], features.iloc[test_index]\n",
                "    y_train, y_test = goal[train_index], goal[test_index]\n",
                "    tree = DecisionTreeClassifier()\n",
                "    tree.fit(X_train, y_train)\n",
                "    pred = tree.predict(X_test)\n",
                "    \n",
                "    #true negative, false positive, false negative, true positive\n",
                "    tn, fp, fn, tp = confusion_matrix(y_test, pred, labels=[False,True]).ravel()\n",
                "    \n",
                "    accuracies.append((tn + tp) / len(y_test))\n",
                "    if tp + fn > 0:\n",
                "        positive_predictive_values.append(tp / (tp + fn))\n",
                "    if tn + fp > 0:\n",
                "        negative_predictive_values.append(tn / (tn + fp))\n",
                "    \n",
                "cv_accuracy = np.mean(accuracies)\n",
                "\n",
                "print(\"Accuracy:\", cv_accuracy)"
            ]
        },
        {
            "cell_type": "markdown",
            "metadata": {},
            "source": [
                "That's an amazing accuracy! Now, let's look closer at our accuracy breakdown. \n",
                "\n",
                "We'll look at the **positive predictive value** and the **negative predictive value**. The positive predictive value is the accuracy score if we only look at samples with a true label of \"True\", and the negative predictive value is the accuracy score if we only look at samples with a true label of \"False\". \n",
                "\n",
                "So, the question _\"Out of the phones that have a talk time >= 20 but don't have 3G, what percent do we predict correctly?\"_ corresponds to the positive predictive value."
            ]
        },
        {
            "cell_type": "code",
            "execution_count": 13,
            "metadata": {},
            "outputs": [
                {
                    "name": "stdout",
                    "output_type": "stream",
                    "text": [
                        "accuracy for positive samples 0.0\n",
                        "accuracy for negative samples 0.9898311501391218\n"
                    ]
                }
            ],
            "source": [
                "cv_positive_predictive_value = np.mean(positive_predictive_values)\n",
                "cv_negative_predictive_value = np.mean(negative_predictive_values)\n",
                "\n",
                "print(\"accuracy for positive samples\",  cv_positive_predictive_value)\n",
                "print(\"accuracy for negative samples\", cv_negative_predictive_value)"
            ]
        },
        {
            "cell_type": "markdown",
            "metadata": {},
            "source": [
                "### Uh oh. We have a positive predictive value of 0%. How could this be, when our accuracy score is so high?\n",
                "\n",
                "_Hint 1_: We use just `battery_power` to predict, and get a 98% accuracy. That seems wrong. How did our model have such a high accuracy? What contributed to that accuracy?\n",
                "\n",
                "_Hint 2_: How do our predictions look? How does the goal look?"
            ]
        },
        {
            "cell_type": "markdown",
            "metadata": {},
            "source": [
                "##Answer\n",
                "\n",
                "< FILL IN HERE > \n",
                "\n"
            ]
        },
        {
            "cell_type": "markdown",
            "metadata": {},
            "source": [
                "# Example 6: A Common Mistake"
            ]
        },
        {
            "cell_type": "markdown",
            "metadata": {},
            "source": [
                "The following piece of code contains a (fatal) issue. Find it! (No need to correct the error -- just state what it is.)"
            ]
        },
        {
            "cell_type": "code",
            "execution_count": 14,
            "metadata": {},
            "outputs": [
                {
                    "name": "stdout",
                    "output_type": "stream",
                    "text": [
                        "Error: 0.06140350877192982\n"
                    ]
                }
            ],
            "source": [
                "from sklearn.neighbors import KNeighborsClassifier\n",
                "from sklearn.metrics import mean_squared_error\n",
                "\n",
                "X, y = load_breast_cancer(return_X_y=True)\n",
                "X_train, X_test, y_train, y_test = train_test_split(X, y, test_size=0.2)\n",
                "\n",
                "KNN = KNeighborsClassifier()\n",
                "KNN.fit(X_train, y_train)\n",
                "\n",
                "y_pred = KNN.predict(X_test)\n",
                "\n",
                "error = mean_squared_error(y_pred, y_test)\n",
                "\n",
                "print(\"Error:\", error)"
            ]
        },
        {
            "cell_type": "markdown",
            "metadata": {},
            "source": [
                "### What's wrong?\n",
                "\n",
                "< FILL IN HERE > \n",
                "\n"
            ]
        },
        {
            "cell_type": "markdown",
            "metadata": {},
            "source": [
                "# Example 7: Model Complexity and Performance Measures"
            ]
        },
        {
            "cell_type": "markdown",
            "metadata": {},
            "source": [
                "As our models get more complex, we often need to **adjust how we measure and report model performance**. In this example, we will investigate how model complexity affects our performance measures. We will use KNN Regressors, which use a very similar concept to KNN Classifiers, to predict the battery power of a phone."
            ]
        },
        {
            "cell_type": "markdown",
            "metadata": {},
            "source": [
                "## Hypothesis: What happens to our performance measures when models get more complex?\n",
                "< FILL IN HERE \\> \n",
                "\n"
            ]
        },
        {
            "cell_type": "markdown",
            "metadata": {},
            "source": [
                "## Experimentation"
            ]
        },
        {
            "cell_type": "code",
            "execution_count": 15,
            "metadata": {},
            "outputs": [],
            "source": [
                "from sklearn.neighbors import KNeighborsRegressor\n",
                "from sklearn.model_selection import KFold\n",
                "from sklearn.metrics import accuracy_score\n",
                "from sklearn.preprocessing import scale\n",
                "# use just 500 data points to help make this demo have more obvious results\n",
                "cellphone_df = pd.read_csv(\"phone.csv\").sample(n=500, random_state=42).reset_index()\n",
                "goal = cellphone_df[\"battery_power\"]\n",
                "\n",
                "# we need to scale for KNN\n",
                "simple_features = scale(cellphone_df[[\"blue\",\"ram\"]])\n",
                "complex_features = scale(cellphone_df.drop(columns=[\"index\",\"battery_power\",\"price_range\",\"fc\",\"n_cores\",\"m_dep\"]))"
            ]
        },
        {
            "cell_type": "markdown",
            "metadata": {},
            "source": [
                "#### A simple model\n",
                "\n",
                "Create a [KNN Regressor](https://scikit-learn.org/stable/modules/generated/sklearn.neighbors.KNeighborsRegressor.html). Then, 15-Fold cross validation to measure the accuracy (look at the examples near the bottom of [KFold's documentation](https://scikit-learn.org/stable/modules/generated/sklearn.model_selection.KFold.html) for reference). \n",
                "\n",
                "In addition to calculating the average of the accuracies on each fold, also calculate the variance of those accuracies."
            ]
        },
        {
            "cell_type": "code",
            "execution_count": 16,
            "metadata": {},
            "outputs": [],
            "source": [
                "# create a KNN regressor that uses 10 neighbors\n",
                "\n",
                "# create KFold object with 15\"splits\". Use random_state=42 (similar to how we pass random_state=42 into train_test_split). \n",
                "\n",
                "simple_errors = []\n",
                "# follow examples to iterate through folds. Use saimple_features here, so that we create a simpler model\n",
                "    # fit the regressor\n",
                "    # use mean_squared_error to get the mse\n",
                "    # append accuracy on this fold to the \"simple_errors\" list\n",
                "\n",
                "# calculate and print out the average mse and the variance of the mse\n",
                "print(\"average accuracy:\", \"FILL IN HERE\") \n",
                "print(\"variance of accuracies:\", \"FILL IN HERE\") \n"
            ]
        },
        {
            "cell_type": "markdown",
            "metadata": {},
            "source": [
                "##### A complex model\n",
                "\n",
                "Do the same thing as above, but use complex_features instead of simple_features"
            ]
        },
        {
            "cell_type": "code",
            "execution_count": 17,
            "metadata": {},
            "outputs": [],
            "source": [
                "# create a KNN regressor that uses 10 neighbors\n",
                "\n",
                "# create KFold object with 15 \"splits\". Use random_state=42 again.\n",
                "\n",
                "complex_errors = []\n",
                "# follow examples to iterate through folds. Use complex_features here, so that we create a more complex model\n",
                "    # fit the regressor\n",
                "    # use mean_squared_error to get the mse\n",
                "    # append mse on this fold to the \"complex_errors\" list\n",
                "# calculate and print out the average mse and the variance of the mse\n",
                "print(\"average accuracy:\", \"FILL IN HERE\") \n",
                "print(\"variance of accuracies:\", \"FILL IN HERE\") \n"
            ]
        },
        {
            "cell_type": "code",
            "execution_count": 18,
            "metadata": {
                "scrolled": true
            },
            "outputs": [],
            "source": [
                "plt.boxplot([simple_errors, complex_errors],labels=[\"simple model\",\"complex model\"])\n",
                "plt.ylabel(\"MSE\",fontsize=16)\n",
                "plt.title(\"MSE of simple vs. complex KNNRegressor in 15-Fold CV\")\n",
                "plt.show()\n"
            ]
        },
        {
            "cell_type": "markdown",
            "metadata": {},
            "source": [
                "# Analysis"
            ]
        },
        {
            "cell_type": "markdown",
            "metadata": {},
            "source": [
                "#### Let's compare the simple and complex models. What did you observe about the mean?\n",
                "\n",
                "< FILL IN HERE > \n",
                "\n",
                "\n",
                "#### What did you observe about the variance?\n",
                "\n",
                "< FILL IN HERE >\n",
                "\n",
                "\n",
                "#### What could cause these results?\n",
                "\n",
                "< FILL IN HERE > \n",
                "\n",
                "\n",
                "#### Describe a situation in which a model with lower accuracy is more desirable than a model with higher accuracy. Be as specific as possible.\n",
                "\n",
                "< FILL IN HERE > \n",
                "\n"
            ]
        },
        {
            "cell_type": "markdown",
            "metadata": {},
            "source": [
                "## Further Musings\n",
                "So, we've encountered an issue with how we've been measuring performance, especially with complex models. \n",
                "\n",
                "#### How could we address this issue? How can we give a more holistic report of a model's performance?\n",
                "\n",
                "(This part is graded on completion and effort.)"
            ]
        },
        {
            "cell_type": "markdown",
            "metadata": {},
            "source": [
                "\n",
                "< FILL IN HERE >"
            ]
        },
        {
            "cell_type": "markdown",
            "metadata": {},
            "source": [
                "# Example 8: Model Complexity and Train Size (optional)"
            ]
        },
        {
            "cell_type": "markdown",
            "metadata": {},
            "source": [
                "Turns out, **_model complexity plays a role in choosing the train set size_**. Take some time to explore this concept. An outstanding solution would have:\n",
                "- A **Hypothesis**: As model complexity changes, how does the effectiveness of a fixed-size train set change? What happens if a model goes from super uncomplex to moderately complex? In a sentence or two, why do you believethis?\n",
                "- A **Brief Plan** (methodology) of how you'll explore/demonstrate the interaction between model complexity and train set size. How are you controlling complexity? How are you measuring the effectiveness of a train set? According to your hypothesis, what would you expect to see? If your hypothesis is wrong, what results might we see?\n",
                "- **Implementation + Results**: Implement the methodology you described above. Write code that tries out different model complexities and different test sizes. Either print out results or produce graphs (e.g. scatterplots).\n",
                "- **Conclusion**: Analyze the results. What parts of your hypothesis were correct? What parts of your hypothesis were incorrect?\n",
                "- **Further Research**: Form a few new hypotheses for (hypothetical) further research: why might there exist such a relationship between model complexity and train set size? What else would be useful to know about this relationship? Also, what experiments could you do to test these hypotheses.\n",
                "- **Error analysis**: Is there anything you didn't take into account? What could have caused your expirement to have erroneous results?\n",
                "- **Takewaways**: So, why did we do all that experimentation? Now that we understand the relationship between complexity and train size, how can you apply this knowledge to your final project?\n",
                "- An attempt to answer this **bonus question**: What if the train set is infinitely large? Briefly explain your reasoning. After you've written your answer, feel free to look up the answer (this is a bonus question, so that's okay!).\n",
                "\n",
                "For this problem, it's advised to use just one type of model; for example, you could use just linear regressions or just decision trees."
            ]
        },
        {
            "cell_type": "markdown",
            "metadata": {},
            "source": [
                "< FILL IN HERE >"
            ]
        },
        {
            "cell_type": "code",
            "execution_count": 21,
            "metadata": {},
            "outputs": [],
            "source": [
                "# < FILL IN HERE >"
            ]
        },
        {
            "cell_type": "markdown",
            "metadata": {},
            "source": [
                "###### **A note on real-world applications:** \n",
                "Most of the time, model complexity is tunable while dataset size is not. So, instead of changing train size to fit the model you want, you're usually going to be changing model complexity to fit the train size that you're stuck with."
            ]
        },
        {
            "cell_type": "markdown",
            "metadata": {},
            "source": [
                "# Example 9: Bootstrap for Measuring Variability (optional)"
            ]
        },
        {
            "cell_type": "markdown",
            "metadata": {},
            "source": [
                "You can use the bootstrap to estimate the variability of a model. Here, we'll implement a simple calculation of the variability of a model.\n",
                "\n",
                "We'll create two linear regressions: a simple one (uses 1 feature) and a complex one (uses 5 features). Then calculate the variances of their intercepts. We used phone.csv, but feel free to use another dataset if you'd prefer.\n",
                "\n",
                "Make sure all your cells are run before submitting so we can see all of the output!"
            ]
        },
        {
            "cell_type": "markdown",
            "metadata": {},
            "source": [
                "### a. Choose a dataset\n",
                "This can be a dataset from earlier in this notebook. Or, you could use your final project dataset!\n",
                "\n",
                "By the way, we probably won't have your data when looking at your solutions, so please make sure all your cells are run we can see the outputs."
            ]
        },
        {
            "cell_type": "markdown",
            "metadata": {},
            "source": [
                "### b. Measure variability\n",
                "Use [np.random.choice](https://docs.scipy.org/doc/numpy-1.15.0/reference/generated/numpy.random.choice.html) to create the bootstrap datasets.\n",
                "\n",
                "Note that you shouldn't use train_test_split anywhere in this problem, since we don't care about accuracy."
            ]
        },
        {
            "cell_type": "code",
            "execution_count": null,
            "metadata": {},
            "outputs": [],
            "source": [
                "from sklearn.linear_model import LinearRegression\n",
                "\n",
                "model_simple = LinearRegression()\n",
                "model_complex = LinearRegression()\n",
                "\n",
                "# set up any other variables you need\n",
                "\n",
                "for iter in range(100): # we'll start out with 100 iterations. Feel free to do more or less iterations if you want\n",
                "    # create the bootstrap train data. feel free to create any additional variables that you need\n",
                "    bootstrap_X_simple = \"fill in here\" \n",
                "    bootstrap_X_complex = \"fill in here\" \n",
                "    bootstrap_y = \"fill in here\" \n",
                "    \n",
                "    \n",
                "    # fit the simple model using one feature\n",
                "    model_simple.fit(bootstrap_X_simple, bootstrap_y)\n",
                "    \n",
                "    # fit the complex model using that one feature + four more features\n",
                "    model_simple.fit(bootstrap_X_complex, bootstrap_y)\n",
                "    \n",
                "    # update any variables you need to update\n",
                "\n",
                "# for each of the two regressors, display the variability of its intercept\n",
                "\n"
            ]
        },
        {
            "cell_type": "markdown",
            "metadata": {},
            "source": [
                "### c. Interpret Results\n",
                "\n",
                "Was the variance different between the simple and complex models? If so, what feature(s) contributed the most to the difference in variance? If not, what could've caused the variances to be similar?"
            ]
        },
        {
            "cell_type": "markdown",
            "metadata": {},
            "source": [
                "< FILL IN HERE >"
            ]
        }
    ]
}