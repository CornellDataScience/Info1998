{
 "cells": [
  {
   "cell_type": "markdown",
   "metadata": {
    "colab_type": "text",
    "id": "yT7xW5oCbTFj"
   },
   "source": [
    "# Data Manipulation"
   ]
  },
  {
   "cell_type": "markdown",
   "metadata": {},
   "source": [
    "Lecture 2 | February 19, 2020"
   ]
  },
  {
   "cell_type": "markdown",
   "metadata": {},
   "source": [
    "<b>NetID:</b> "
   ]
  },
  {
   "cell_type": "markdown",
   "metadata": {},
   "source": [
    "____"
   ]
  },
  {
   "cell_type": "markdown",
   "metadata": {
    "colab_type": "text",
    "id": "5MYyVlwJbTFk"
   },
   "source": [
    "## Introduction to Pandas\n",
    "\n",
    "Pandas is a primary data analysis library in Python. It offers a number of operations to aid in data exploration, cleaning and transformation, making it one of the most popular data science tools. To name a few examples of these operations, Pandas enables various methods to handle missing data and data pivoting, easy data sorting and description capabilities, fast generation of data plots, and Boolean indexing for fast image processing and other masking operations.\n",
    "\n",
    "Some of the key features of Pandas are:\n",
    "<ul>\n",
    "<li>Ingestion and manipulation of heterogeneous data types\n",
    "<li>Generating descriptive statistics on data to support exploration and communication\n",
    "<li>Data cleaning using built in pandas functions\n",
    "<li>Frequent data operations for subsetting, filtering, insertion, deletion and aggregation of data\n",
    "<li>Merging and joining multiple datasets using dataframes\n",
    "<li>Working with timestamps and time-series data\n",
    "<li>Pandas also builds upon numpy and other Python packages to provide easy-to-use data structures and data manipulation functions with integrated indexing.\n",
    "</ul>\n",
    "**Additional Recommended Resources:**\n",
    "<ul>\n",
    "<li>Pandas Documentation\n",
    "<li>Python for Data Analysis by Wes McKinney\n",
    "<li>Python Data Science Handbook by Jake VanderPlas\n",
    "</ul>\n"
   ]
  },
  {
   "cell_type": "code",
   "execution_count": null,
   "metadata": {
    "colab": {},
    "colab_type": "code",
    "collapsed": true,
    "id": "Ht3e0QWtbTFn"
   },
   "outputs": [],
   "source": [
    "import pandas as pd\n",
    "import numpy as np"
   ]
  },
  {
   "cell_type": "markdown",
   "metadata": {
    "colab_type": "text",
    "id": "aJL-GZfsbTFt"
   },
   "source": [
    "### Series\n",
    "A Pandas `Series` is a one-dimensional `ndarray` (Remember what an `ndarray` is?). We can create a `series` simply by passing a list of values."
   ]
  },
  {
   "cell_type": "code",
   "execution_count": null,
   "metadata": {
    "colab": {
     "base_uri": "https://localhost:8080/",
     "height": 104
    },
    "colab_type": "code",
    "executionInfo": {
     "elapsed": 453,
     "status": "ok",
     "timestamp": 1537910791096,
     "user": {
      "displayName": "Ethan Cohen",
      "photoUrl": "",
      "userId": "14664016717511575943"
     },
     "user_tz": 240
    },
    "id": "aT_N0FstbTFu",
    "outputId": "f63daf13-122e-413c-e731-72e841c62b5f"
   },
   "outputs": [],
   "source": [
    "first_series = pd.Series([10, 20, 30, 40])\n",
    "print(first_series)"
   ]
  },
  {
   "cell_type": "markdown",
   "metadata": {
    "colab_type": "text",
    "id": "mW-zYePmbTF4"
   },
   "source": [
    "The values don't necessarily need to be of integer type!"
   ]
  },
  {
   "cell_type": "code",
   "execution_count": null,
   "metadata": {
    "colab": {
     "base_uri": "https://localhost:8080/",
     "height": 69
    },
    "colab_type": "code",
    "executionInfo": {
     "elapsed": 381,
     "status": "ok",
     "timestamp": 1537910791635,
     "user": {
      "displayName": "Ethan Cohen",
      "photoUrl": "",
      "userId": "14664016717511575943"
     },
     "user_tz": 240
    },
    "id": "hQEt-v6EbTF6",
    "outputId": "43bc94c2-f3f6-4051-a16a-3dace031a5d1"
   },
   "outputs": [],
   "source": [
    "second_series = pd.Series(['lorem', 'ipsum'])\n",
    "print(second_series)"
   ]
  },
  {
   "cell_type": "markdown",
   "metadata": {
    "colab_type": "text",
    "id": "1NUIyglXbTF_"
   },
   "source": [
    "### DataFrames\n",
    "It's a two-dimensional tabular data structure in `Pandas` which helps in managing data in an orderly manner. The following are some key features of a  `Pandas DataFrame`:\n",
    "<ul>\n",
    "    <li>It has labelled axes\n",
    "    <li>It's size is mutable\n",
    "    <li>The columns may be of different datatypes\n",
    "</ul>\n",
    "An easy way to create a `DataFrame` is by passing a dictionary of objects."
   ]
  },
  {
   "cell_type": "code",
   "execution_count": null,
   "metadata": {
    "colab": {
     "base_uri": "https://localhost:8080/",
     "height": 141
    },
    "colab_type": "code",
    "executionInfo": {
     "elapsed": 298,
     "status": "ok",
     "timestamp": 1537910792133,
     "user": {
      "displayName": "Ethan Cohen",
      "photoUrl": "",
      "userId": "14664016717511575943"
     },
     "user_tz": 240
    },
    "id": "CWWumq8ebTGB",
    "outputId": "ca93376d-d9fc-401d-add9-3a6b91cb3ce5"
   },
   "outputs": [],
   "source": [
    "df = pd.DataFrame({\n",
    "                    'col1': pd.Series([10, 20, 30]),\n",
    "                    'col2': 'hello world',\n",
    "                    'col3': pd.Timestamp('20180101')\n",
    "                   })\n",
    "df"
   ]
  },
  {
   "cell_type": "code",
   "execution_count": null,
   "metadata": {
    "colab": {
     "base_uri": "https://localhost:8080/",
     "height": 355
    },
    "colab_type": "code",
    "executionInfo": {
     "elapsed": 490,
     "status": "ok",
     "timestamp": 1537910792820,
     "user": {
      "displayName": "Ethan Cohen",
      "photoUrl": "",
      "userId": "14664016717511575943"
     },
     "user_tz": 240
    },
    "id": "PXXwSA8bbTGG",
    "outputId": "740e71f1-de29-4edc-f2cb-40ef5507204c"
   },
   "outputs": [],
   "source": [
    "multBy2=[x*2 for x in range(0,10)]\n",
    "squared=[x**2 for x in range(0,10)]\n",
    "\n",
    "df = pd.DataFrame({\n",
    "                    'multiplyBy2': multBy2,\n",
    "                    'squared': squared\n",
    "                   })\n",
    "df"
   ]
  },
  {
   "cell_type": "markdown",
   "metadata": {
    "colab_type": "text",
    "id": "scoiqUO_bTGJ"
   },
   "source": [
    "## Playing with DataFrames\n",
    "`DataFrames` can also be created from pre-saved tables! A very common format for saving such tables is the .csv (which stands for comma-separated values) format. "
   ]
  },
  {
   "cell_type": "markdown",
   "metadata": {
    "colab_type": "text",
    "id": "RNmdmLGhbTGK"
   },
   "source": [
    "<b>Reading `DataFrames`</b>"
   ]
  },
  {
   "cell_type": "code",
   "execution_count": null,
   "metadata": {
    "colab": {},
    "colab_type": "code",
    "collapsed": true,
    "id": "tweRUcvdbTGK"
   },
   "outputs": [],
   "source": [
    "df=pd.read_csv('lecture2data.csv') #Titanic Dataset"
   ]
  },
  {
   "cell_type": "markdown",
   "metadata": {},
   "source": [
    "##### A Quick Side Note\n",
    "If you are interested in the dataset, or interested in exploring other datasets in your free time, here's where we got this datasets from: https://www.kaggle.com/c/titanic\n",
    "\n",
    "Kaggle is a online community which actively uploads datasets, hosts data science competitions, and overall a beginner-friendly place to learn about data science. They also offer a no-setup, online Jupyter Notebook environment for you to play around with their datasets. You don't need to download or setup anything - just create an account, and start exploring! \n",
    "\n",
    "If you're interested in seeing what an end-to-end data science project looks like, you can check out some of the data science projects other users have done on the datasets; just go to any dataset under \"Datasets\", click \"Kernel\", and you can follow along what other more experienced users have explored and posted on that dataset!\n",
    "\n",
    "Back to the lecture material:"
   ]
  },
  {
   "cell_type": "markdown",
   "metadata": {
    "colab_type": "text",
    "id": "JT9nPYvebTGO"
   },
   "source": [
    "<b>Viewing `DataFrames`</b>"
   ]
  },
  {
   "cell_type": "code",
   "execution_count": null,
   "metadata": {
    "colab": {},
    "colab_type": "code",
    "id": "JfuAYsHYbTGO",
    "outputId": "a819978b-8e1e-4f67-93ac-e7c54e5ddce6"
   },
   "outputs": [],
   "source": [
    "# Check the columns in your dataframe\n",
    "df.columns"
   ]
  },
  {
   "cell_type": "markdown",
   "metadata": {
    "colab_type": "text",
    "id": "gmnefv4LbTGR"
   },
   "source": [
    "An excellent way to peek at the first/last few rows of your `DataFrame` is the `head()` and `tail()` functions. Let's try them out:"
   ]
  },
  {
   "cell_type": "code",
   "execution_count": null,
   "metadata": {
    "colab": {},
    "colab_type": "code",
    "id": "VKVQIBO5bTGT",
    "outputId": "03f0548b-a4c2-499b-f69d-909654063e8e"
   },
   "outputs": [],
   "source": [
    "df.head(3) #df.tail() to see last few rows"
   ]
  },
  {
   "cell_type": "code",
   "execution_count": null,
   "metadata": {
    "colab": {},
    "colab_type": "code",
    "id": "3NScRhotbTGV",
    "outputId": "0b53fde1-8359-4f53-c6b8-68164d4fb5c2"
   },
   "outputs": [],
   "source": [
    "df['Age'].tail(5)#To get a specific column"
   ]
  },
  {
   "cell_type": "markdown",
   "metadata": {
    "colab_type": "text",
    "id": "47oq1I0GbTGa"
   },
   "source": [
    "#### Filtering Dataframe"
   ]
  },
  {
   "cell_type": "code",
   "execution_count": null,
   "metadata": {
    "colab": {},
    "colab_type": "code",
    "id": "ZVCAweLZbTGd",
    "outputId": "350b05ba-fad7-4a0a-de1a-2fee39b445a6"
   },
   "outputs": [],
   "source": [
    "# Filtering\n",
    "FareAbove20_OlderThan40=df.loc[(df['Fare']>20) & (df['Age']>40)]\n",
    "FareAbove20_OlderThan40.head(10)"
   ]
  },
  {
   "cell_type": "markdown",
   "metadata": {},
   "source": [
    "`.loc` is a useful function, but is often confused with `.iloc`. Check out this <a href=\"https://stackoverflow.com/questions/31593201/how-are-iloc-ix-and-loc-different\">Stack Overflow Post</a> to clarify the concept."
   ]
  },
  {
   "cell_type": "markdown",
   "metadata": {
    "colab_type": "text",
    "id": "87gVWpgRbTGi"
   },
   "source": [
    "#### Concatenating Dataframes"
   ]
  },
  {
   "cell_type": "code",
   "execution_count": null,
   "metadata": {
    "colab": {},
    "colab_type": "code",
    "id": "dhgGvN_2bTGj",
    "outputId": "ff28832f-6c64-4182-ceda-424e759699c7"
   },
   "outputs": [],
   "source": [
    "df1 = pd.DataFrame({'A': ['A0', 'A1', 'A2', 'A3'],\n",
    "                    'B': ['B0', 'B1', 'B2', 'B3'],\n",
    "                    'C': ['C0', 'C1', 'C2', 'C3'],\n",
    "                    'D': ['D0', 'D1', 'D2', 'D3']})\n",
    "df1"
   ]
  },
  {
   "cell_type": "code",
   "execution_count": null,
   "metadata": {
    "colab": {},
    "colab_type": "code",
    "id": "7EuV5mcSbTGn",
    "outputId": "09c00784-e231-484f-f44b-401f9703d4ff"
   },
   "outputs": [],
   "source": [
    "df2 = pd.DataFrame({'A': ['A4', 'A5', 'A6', 'A7'],\n",
    "                    'B': ['B4', 'B5', 'B6', 'B7'],\n",
    "                    'C': ['C4', 'C5', 'C6', 'C7'],\n",
    "                    'D': ['D4', 'D5', 'D6', 'D7']})\n",
    "df2"
   ]
  },
  {
   "cell_type": "code",
   "execution_count": null,
   "metadata": {
    "colab": {},
    "colab_type": "code",
    "id": "huQOS8_fbTGs",
    "outputId": "df7a702d-05cf-4251-d20c-2da4b95db6dd"
   },
   "outputs": [],
   "source": [
    "pd.concat([df1,df2])"
   ]
  },
  {
   "cell_type": "markdown",
   "metadata": {
    "colab_type": "text",
    "id": "sijjFCVBbTGx"
   },
   "source": [
    "<b>Summary Statistics</b>"
   ]
  },
  {
   "cell_type": "markdown",
   "metadata": {
    "colab_type": "text",
    "id": "omTtVZq9bTGy"
   },
   "source": [
    "We can check the statistics for individual columns by referring to the said column."
   ]
  },
  {
   "cell_type": "code",
   "execution_count": null,
   "metadata": {
    "colab": {},
    "colab_type": "code",
    "id": "eE0kx7kcbTGz",
    "outputId": "5228c201-f25a-4d3c-9cdc-ccf624767267"
   },
   "outputs": [],
   "source": [
    "df['Fare'].mean()"
   ]
  },
  {
   "cell_type": "code",
   "execution_count": null,
   "metadata": {
    "colab": {},
    "colab_type": "code",
    "id": "5o-awJPabTG3",
    "outputId": "099211d7-6d18-4752-8334-57e7719fb0c6"
   },
   "outputs": [],
   "source": [
    "df['Fare'].median()"
   ]
  },
  {
   "cell_type": "code",
   "execution_count": null,
   "metadata": {
    "colab": {},
    "colab_type": "code",
    "id": "0zc1WxShbTG8",
    "outputId": "e947201a-e731-4bb7-8039-8a895eeaba2c"
   },
   "outputs": [],
   "source": [
    "df['Cabin'].mode().iloc[0]"
   ]
  },
  {
   "cell_type": "markdown",
   "metadata": {
    "colab_type": "text",
    "id": "BkUCWQcpbTG_"
   },
   "source": [
    "A much easier way to skim through the statistics for all the columns, however, is by using the `describe()` function."
   ]
  },
  {
   "cell_type": "code",
   "execution_count": null,
   "metadata": {
    "colab": {},
    "colab_type": "code",
    "id": "94ePWDOBbTHA",
    "outputId": "01d3c12f-3980-4c8c-e979-83d9f5f4c5f9"
   },
   "outputs": [],
   "source": [
    "df.describe()"
   ]
  },
  {
   "cell_type": "markdown",
   "metadata": {
    "colab_type": "text",
    "id": "YviNBnvXbTHD"
   },
   "source": [
    "## Example 1:\n",
    "### A. Create a dataset, using the filtering technique, that includes only male survivors of the titanic and store it in a variable called 'male_survivors'."
   ]
  },
  {
   "cell_type": "code",
   "execution_count": null,
   "metadata": {
    "colab": {},
    "colab_type": "code",
    "id": "72-cRl-TbTHF",
    "outputId": "0fb0da38-1b0f-49ac-e6d4-7ed6d2e1e6c6"
   },
   "outputs": [],
   "source": []
  },
  {
   "cell_type": "markdown",
   "metadata": {
    "colab_type": "text",
    "id": "f5DJGmIybTHF"
   },
   "source": [
    "### B. Then determine the mean age of all these people and store them in a variable called 'mean_age_male_survivors'."
   ]
  },
  {
   "cell_type": "code",
   "execution_count": null,
   "metadata": {
    "colab": {},
    "colab_type": "code",
    "id": "TViI2nSWbTHI",
    "outputId": "c60d04f7-82e5-4a17-efdb-930e35be8fcf"
   },
   "outputs": [],
   "source": []
  },
  {
   "cell_type": "markdown",
   "metadata": {
    "colab_type": "text",
    "id": "_0auqoUvbTHK"
   },
   "source": [
    "## Data Imputation"
   ]
  },
  {
   "cell_type": "code",
   "execution_count": null,
   "metadata": {
    "colab": {},
    "colab_type": "code",
    "id": "pmH08QdCbTHL",
    "outputId": "24179394-10e0-430f-d5c2-5fc9a7467ccc"
   },
   "outputs": [],
   "source": [
    "df.head(4)"
   ]
  },
  {
   "cell_type": "code",
   "execution_count": null,
   "metadata": {
    "colab": {},
    "colab_type": "code",
    "collapsed": true,
    "id": "_S3VxiudbTHN"
   },
   "outputs": [],
   "source": [
    "df['Cabin']=df['Cabin'].fillna('Top Deck')"
   ]
  },
  {
   "cell_type": "code",
   "execution_count": null,
   "metadata": {
    "colab": {},
    "colab_type": "code",
    "id": "FuqT36e89-gE",
    "outputId": "40193473-726f-4856-f242-816e5fae6889"
   },
   "outputs": [],
   "source": [
    "df.head(3)"
   ]
  },
  {
   "cell_type": "code",
   "execution_count": null,
   "metadata": {
    "colab": {},
    "colab_type": "code",
    "id": "q56b47md9-gH",
    "outputId": "f9cd48ac-832d-4679-fbac-43df7e5b4c11"
   },
   "outputs": [],
   "source": [
    "#Dummy Encoding\n",
    "df['male']=0\n",
    "df['female']=0\n",
    "for x in range(0,len(df)):\n",
    "    if df['Sex'][x]=='male':\n",
    "        df['male'][x]=1\n",
    "    else:\n",
    "        df['female'][x]=1"
   ]
  },
  {
   "cell_type": "code",
   "execution_count": null,
   "metadata": {
    "colab": {},
    "colab_type": "code",
    "id": "EChOIG9p9-gJ",
    "outputId": "4f4899ac-718b-4179-fc55-33134c663ca8"
   },
   "outputs": [],
   "source": [
    "df"
   ]
  },
  {
   "cell_type": "markdown",
   "metadata": {
    "colab_type": "text",
    "id": "lItFG-kUbTHR"
   },
   "source": [
    "## Example 2: Impute the values that are NaN for the Fare column with the mean"
   ]
  },
  {
   "cell_type": "code",
   "execution_count": null,
   "metadata": {
    "colab": {},
    "colab_type": "code",
    "collapsed": true,
    "id": "4wzLbUgObTHR"
   },
   "outputs": [],
   "source": []
  },
  {
   "cell_type": "code",
   "execution_count": null,
   "metadata": {
    "colab": {},
    "colab_type": "code",
    "collapsed": true,
    "id": "q7Rx3-NEbTHV"
   },
   "outputs": [],
   "source": []
  },
  {
   "cell_type": "code",
   "execution_count": null,
   "metadata": {
    "colab": {},
    "colab_type": "code",
    "id": "0glBRJhtbTHW",
    "outputId": "b55a7d67-7295-4532-bedb-28fd26b385b6"
   },
   "outputs": [],
   "source": [
    "df.head(5)"
   ]
  },
  {
   "cell_type": "markdown",
   "metadata": {},
   "source": [
    "### But WAIT!\n",
    "\n",
    "How do you know what data to impute in any case? Here's a quick, high-level comparison of the different ways you can fill up missing data, along with their respective pros and cons: https://towardsdatascience.com/6-different-ways-to-compensate-for-missing-values-data-imputation-with-examples-6022d9ca0779\n",
    "\n",
    "You can try implementing the first three examples on your free time - the materials covered in this lecture should give you enough information on how to implement them! The fourth example we will actually cover in a later class, but feel free to also explore the source code provided under the github links."
   ]
  },
  {
   "cell_type": "markdown",
   "metadata": {
    "colab_type": "text",
    "id": "uksfBZOq9-gS"
   },
   "source": [
    "## Example 3: There are several rows with nan values for the age.\n",
    "### First fill all the nan values with the mean age of the passengers. Then create a new dummy variable/column named 'child' to the dataframe and insert a 1 or a 0 in each row (1 for child/under_18, 0 for non-child/18_or_older)."
   ]
  },
  {
   "cell_type": "code",
   "execution_count": null,
   "metadata": {
    "colab": {},
    "colab_type": "code",
    "collapsed": true,
    "id": "isCrNuuF9-gT"
   },
   "outputs": [],
   "source": []
  },
  {
   "cell_type": "code",
   "execution_count": null,
   "metadata": {
    "colab": {},
    "colab_type": "code",
    "id": "zEfstsU49-gU",
    "outputId": "ec8ae318-54dd-469e-dcd3-258895f030f7"
   },
   "outputs": [],
   "source": []
  },
  {
   "cell_type": "code",
   "execution_count": null,
   "metadata": {
    "colab": {},
    "colab_type": "code",
    "id": "_UYtqEUz9-gX",
    "outputId": "9aba93c8-3ef2-49a1-f143-6b26217bed8c"
   },
   "outputs": [],
   "source": []
  },
  {
   "cell_type": "markdown",
   "metadata": {},
   "source": [
    "### Parting Fun Facts:\n",
    "\n",
    "If you really like the resulting data frame you produced, and want to download it into a file to share with all your friends and family, you can do that! `to_csv()` or `to_excel()` allows you to save the dataframe locally.\n",
    "\n",
    "Congrats on finishing your second assignment, see you next week!"
   ]
  },
  {
   "cell_type": "markdown",
   "metadata": {
    "collapsed": true
   },
   "source": [
    "____"
   ]
  }
 ],
 "metadata": {
  "colab": {
   "name": "Lecture 2 Notes-Answers.ipynb",
   "provenance": [],
   "version": "0.3.2"
  },
  "kernelspec": {
   "display_name": "Python 3",
   "language": "python",
   "name": "python3"
  },
  "language_info": {
   "codemirror_mode": {
    "name": "ipython",
    "version": 3
   },
   "file_extension": ".py",
   "mimetype": "text/x-python",
   "name": "python",
   "nbconvert_exporter": "python",
   "pygments_lexer": "ipython3",
   "version": "3.7.6"
  }
 },
 "nbformat": 4,
 "nbformat_minor": 1
}
