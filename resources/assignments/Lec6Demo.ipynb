{
  "nbformat": 4,
  "nbformat_minor": 0,
  "metadata": {
    "colab": {
      "name": "Lec6Demo.ipynb",
      "provenance": []
    },
    "kernelspec": {
      "name": "python3",
      "display_name": "Python 3"
    },
    "language_info": {
      "name": "python"
    }
  },
  "cells": [
    {
      "cell_type": "code",
      "execution_count": null,
      "metadata": {
        "id": "9DHY9z0cMQmg"
      },
      "outputs": [],
      "source": [
        "import pandas as pd\n",
        "import numpy as np\n",
        "import matplotlib.pyplot as plt\n",
        "from sklearn.datasets import load_wine\n",
        "from sklearn.model_selection import train_test_split\n",
        "from sklearn.neighbors import KNeighborsClassifier\n",
        "from sklearn.metrics import accuracy_score"
      ]
    },
    {
      "cell_type": "code",
      "source": [
        "wine = load_wine()\n",
        "X = pd.DataFrame(data = wine.data, columns=wine.feature_names)\n",
        "Y = pd.DataFrame(data = wine.target, columns = ['target'])\n",
        "df = pd.concat([X,Y], axis=1)\n",
        "df"
      ],
      "metadata": {
        "id": "bR4X_uSQJ8oH"
      },
      "execution_count": null,
      "outputs": []
    },
    {
      "cell_type": "code",
      "source": [
        "df.corr()"
      ],
      "metadata": {
        "id": "4zATIWZTKXp6"
      },
      "execution_count": null,
      "outputs": []
    },
    {
      "cell_type": "code",
      "source": [
        "data = df[['proline','od280/od315_of_diluted_wines','target']]\n",
        "data"
      ],
      "metadata": {
        "id": "N0JLP8E0Oegg"
      },
      "execution_count": null,
      "outputs": []
    },
    {
      "cell_type": "code",
      "source": [
        "X = data[['proline','od280/od315_of_diluted_wines']]\n",
        "Y = data['target']\n",
        "\n",
        "x_train, x_test, y_train, y_test = train_test_split(X,Y,test_size = 0.2, random_state = 42)\n",
        "print(x_train)"
      ],
      "metadata": {
        "id": "lMTKR-9NTz65"
      },
      "execution_count": null,
      "outputs": []
    },
    {
      "cell_type": "code",
      "source": [
        "model = KNeighborsClassifier(1)\n",
        "\n",
        "model.fit(x_train, y_train)\n",
        "predictions = model.predict(x_test)"
      ],
      "metadata": {
        "id": "7E2ip3BSUfEw"
      },
      "execution_count": null,
      "outputs": []
    },
    {
      "cell_type": "code",
      "source": [
        "accuracy = accuracy_score(predictions, y_test)\n",
        "print('Accuracy Score: ', accuracy)"
      ],
      "metadata": {
        "id": "F-hmDzZaU3fk"
      },
      "execution_count": null,
      "outputs": []
    },
    {
      "cell_type": "code",
      "source": [
        "plt.scatter(data['proline'],data['od280/od315_of_diluted_wines'],c=data['target'].values.ravel())\n",
        "plt.xlim(0,2000)\n",
        "plt.ylim(0,2000)\n",
        "plt.show()"
      ],
      "metadata": {
        "id": "u3G1dssFPyJr"
      },
      "execution_count": null,
      "outputs": []
    },
    {
      "cell_type": "code",
      "source": [
        "scaled_data = data.copy()\n",
        "min_proline = scaled_data['proline'].min()\n",
        "max_proline = scaled_data['proline'].max()\n",
        "min_conc = scaled_data['od280/od315_of_diluted_wines'].min()\n",
        "max_conc = scaled_data['od280/od315_of_diluted_wines'].max()\n",
        "scaled_data['proline'] = (scaled_data['proline'] - min_proline)/(max_proline - min_proline)\n",
        "scaled_data['od280/od315_of_diluted_wines'] = (scaled_data['od280/od315_of_diluted_wines'] - min_conc)/(max_conc - min_conc)\n",
        "scaled_data"
      ],
      "metadata": {
        "id": "DYEzvXMaQZdU"
      },
      "execution_count": null,
      "outputs": []
    },
    {
      "cell_type": "code",
      "source": [
        "plt.scatter(scaled_data['proline'],scaled_data['od280/od315_of_diluted_wines'],c=scaled_data['target'].values.ravel())\n",
        "plt.xlim(0,1)\n",
        "plt.ylim(0,1)\n",
        "plt.show()"
      ],
      "metadata": {
        "id": "HRJGGNAiRTn7"
      },
      "execution_count": null,
      "outputs": []
    },
    {
      "cell_type": "code",
      "source": [
        "X = scaled_data[['proline','od280/od315_of_diluted_wines']]\n",
        "Y = scaled_data['target']\n",
        "\n",
        "x_train, x_test, y_train, y_test = train_test_split(X,Y,test_size = 0.2, random_state = 42)\n",
        "\n",
        "model = KNeighborsClassifier(1)\n",
        "\n",
        "model.fit(x_train, y_train)\n",
        "predictions = model.predict(x_test)\n",
        "\n",
        "scaled_accuracy = accuracy_score(predictions, y_test)\n",
        "print('Scaled Accuracy Score: ', scaled_accuracy)"
      ],
      "metadata": {
        "id": "fuGKIJPoR9UA"
      },
      "execution_count": null,
      "outputs": []
    },
    {
      "cell_type": "code",
      "source": [
        "from sklearn.preprocessing import StandardScaler\n",
        "\n",
        "scaler = StandardScaler().fit(data[['proline','od280/od315_of_diluted_wines']])\n",
        "standard_scaled_data = scaler.transform(data[['proline','od280/od315_of_diluted_wines']])\n",
        "standard_scaled_data = pd.DataFrame(standard_scaled_data, columns = ['proline','od280/od315_of_diluted_wines'])\n",
        "standard_scaled_data"
      ],
      "metadata": {
        "id": "xn5t1BEUVI8p"
      },
      "execution_count": null,
      "outputs": []
    },
    {
      "cell_type": "code",
      "source": [
        "plt.scatter(standard_scaled_data['proline'],standard_scaled_data['od280/od315_of_diluted_wines'],c=scaled_data['target'].values.ravel())\n",
        "plt.xlim(-3,3)\n",
        "plt.ylim(-3,3)\n",
        "plt.show()"
      ],
      "metadata": {
        "id": "-Ayj62dLNUET"
      },
      "execution_count": null,
      "outputs": []
    },
    {
      "cell_type": "code",
      "source": [
        "# Can do MinMaxScaler to replicate what we manually did above (0 = min, 1 = max)"
      ],
      "metadata": {
        "id": "0E18xPsaPk76"
      },
      "execution_count": null,
      "outputs": []
    },
    {
      "cell_type": "code",
      "source": [
        ""
      ],
      "metadata": {
        "id": "MnKEggkJOcNG"
      },
      "execution_count": null,
      "outputs": []
    }
  ]
}