{
  "cells": [
    {
      "cell_type": "code",
      "execution_count": null,
      "metadata": {
        "id": "K15X0B8sJuou"
      },
      "outputs": [],
      "source": [
        "# Imports!\n",
        "import numpy as np \n",
        "import pandas as pd\n",
        "import matplotlib.pyplot as plt\n",
        "%matplotlib inline\n",
        "\n",
        "# Import scikit-learn tools!\n",
        "from sklearn.model_selection import train_test_split\n",
        "from sklearn.linear_model import LinearRegression"
      ]
    },
    {
      "cell_type": "code",
      "execution_count": null,
      "metadata": {
        "id": "6_STFD8GJuov",
        "collapsed": true,
        "colab": {
          "base_uri": "https://localhost:8080/",
          "height": 206
        },
        "outputId": "fed75369-5871-4368-dcbd-c9c087a0c17d"
      },
      "outputs": [
        {
          "output_type": "execute_result",
          "data": {
            "text/plain": [
              "          X         Y\n",
              "0  0.559446  0.712223\n",
              "1  0.761492  0.193319\n",
              "2  0.244532  1.534062\n",
              "3  0.771689  0.495752\n",
              "4  0.354472  1.937421"
            ],
            "text/html": [
              "\n",
              "  <div id=\"df-5d684ad4-93c8-4138-b54c-b81d5073e100\">\n",
              "    <div class=\"colab-df-container\">\n",
              "      <div>\n",
              "<style scoped>\n",
              "    .dataframe tbody tr th:only-of-type {\n",
              "        vertical-align: middle;\n",
              "    }\n",
              "\n",
              "    .dataframe tbody tr th {\n",
              "        vertical-align: top;\n",
              "    }\n",
              "\n",
              "    .dataframe thead th {\n",
              "        text-align: right;\n",
              "    }\n",
              "</style>\n",
              "<table border=\"1\" class=\"dataframe\">\n",
              "  <thead>\n",
              "    <tr style=\"text-align: right;\">\n",
              "      <th></th>\n",
              "      <th>X</th>\n",
              "      <th>Y</th>\n",
              "    </tr>\n",
              "  </thead>\n",
              "  <tbody>\n",
              "    <tr>\n",
              "      <th>0</th>\n",
              "      <td>0.559446</td>\n",
              "      <td>0.712223</td>\n",
              "    </tr>\n",
              "    <tr>\n",
              "      <th>1</th>\n",
              "      <td>0.761492</td>\n",
              "      <td>0.193319</td>\n",
              "    </tr>\n",
              "    <tr>\n",
              "      <th>2</th>\n",
              "      <td>0.244532</td>\n",
              "      <td>1.534062</td>\n",
              "    </tr>\n",
              "    <tr>\n",
              "      <th>3</th>\n",
              "      <td>0.771689</td>\n",
              "      <td>0.495752</td>\n",
              "    </tr>\n",
              "    <tr>\n",
              "      <th>4</th>\n",
              "      <td>0.354472</td>\n",
              "      <td>1.937421</td>\n",
              "    </tr>\n",
              "  </tbody>\n",
              "</table>\n",
              "</div>\n",
              "      <button class=\"colab-df-convert\" onclick=\"convertToInteractive('df-5d684ad4-93c8-4138-b54c-b81d5073e100')\"\n",
              "              title=\"Convert this dataframe to an interactive table.\"\n",
              "              style=\"display:none;\">\n",
              "        \n",
              "  <svg xmlns=\"http://www.w3.org/2000/svg\" height=\"24px\"viewBox=\"0 0 24 24\"\n",
              "       width=\"24px\">\n",
              "    <path d=\"M0 0h24v24H0V0z\" fill=\"none\"/>\n",
              "    <path d=\"M18.56 5.44l.94 2.06.94-2.06 2.06-.94-2.06-.94-.94-2.06-.94 2.06-2.06.94zm-11 1L8.5 8.5l.94-2.06 2.06-.94-2.06-.94L8.5 2.5l-.94 2.06-2.06.94zm10 10l.94 2.06.94-2.06 2.06-.94-2.06-.94-.94-2.06-.94 2.06-2.06.94z\"/><path d=\"M17.41 7.96l-1.37-1.37c-.4-.4-.92-.59-1.43-.59-.52 0-1.04.2-1.43.59L10.3 9.45l-7.72 7.72c-.78.78-.78 2.05 0 2.83L4 21.41c.39.39.9.59 1.41.59.51 0 1.02-.2 1.41-.59l7.78-7.78 2.81-2.81c.8-.78.8-2.07 0-2.86zM5.41 20L4 18.59l7.72-7.72 1.47 1.35L5.41 20z\"/>\n",
              "  </svg>\n",
              "      </button>\n",
              "      \n",
              "  <style>\n",
              "    .colab-df-container {\n",
              "      display:flex;\n",
              "      flex-wrap:wrap;\n",
              "      gap: 12px;\n",
              "    }\n",
              "\n",
              "    .colab-df-convert {\n",
              "      background-color: #E8F0FE;\n",
              "      border: none;\n",
              "      border-radius: 50%;\n",
              "      cursor: pointer;\n",
              "      display: none;\n",
              "      fill: #1967D2;\n",
              "      height: 32px;\n",
              "      padding: 0 0 0 0;\n",
              "      width: 32px;\n",
              "    }\n",
              "\n",
              "    .colab-df-convert:hover {\n",
              "      background-color: #E2EBFA;\n",
              "      box-shadow: 0px 1px 2px rgba(60, 64, 67, 0.3), 0px 1px 3px 1px rgba(60, 64, 67, 0.15);\n",
              "      fill: #174EA6;\n",
              "    }\n",
              "\n",
              "    [theme=dark] .colab-df-convert {\n",
              "      background-color: #3B4455;\n",
              "      fill: #D2E3FC;\n",
              "    }\n",
              "\n",
              "    [theme=dark] .colab-df-convert:hover {\n",
              "      background-color: #434B5C;\n",
              "      box-shadow: 0px 1px 3px 1px rgba(0, 0, 0, 0.15);\n",
              "      filter: drop-shadow(0px 1px 2px rgba(0, 0, 0, 0.3));\n",
              "      fill: #FFFFFF;\n",
              "    }\n",
              "  </style>\n",
              "\n",
              "      <script>\n",
              "        const buttonEl =\n",
              "          document.querySelector('#df-5d684ad4-93c8-4138-b54c-b81d5073e100 button.colab-df-convert');\n",
              "        buttonEl.style.display =\n",
              "          google.colab.kernel.accessAllowed ? 'block' : 'none';\n",
              "\n",
              "        async function convertToInteractive(key) {\n",
              "          const element = document.querySelector('#df-5d684ad4-93c8-4138-b54c-b81d5073e100');\n",
              "          const dataTable =\n",
              "            await google.colab.kernel.invokeFunction('convertToInteractive',\n",
              "                                                     [key], {});\n",
              "          if (!dataTable) return;\n",
              "\n",
              "          const docLinkHtml = 'Like what you see? Visit the ' +\n",
              "            '<a target=\"_blank\" href=https://colab.research.google.com/notebooks/data_table.ipynb>data table notebook</a>'\n",
              "            + ' to learn more about interactive tables.';\n",
              "          element.innerHTML = '';\n",
              "          dataTable['output_type'] = 'display_data';\n",
              "          await google.colab.output.renderOutput(dataTable, element);\n",
              "          const docLink = document.createElement('div');\n",
              "          docLink.innerHTML = docLinkHtml;\n",
              "          element.appendChild(docLink);\n",
              "        }\n",
              "      </script>\n",
              "    </div>\n",
              "  </div>\n",
              "  "
            ]
          },
          "metadata": {},
          "execution_count": 4
        }
      ],
      "source": [
        "# Specify a seed so the numbers can be reproduced\n",
        "np.random.seed(1998)\n",
        "\n",
        "# Specify size of dataset, randomly generate points\n",
        "n = 100\n",
        "x = np.array([np.random.random() for a in range(100)] )\n",
        "\n",
        "# Generate the true Y model with (normally distributed) noise (Y = -pi*x + e)\n",
        "y = -np.pi * x + np.e\n",
        "noise = np.random.normal(0,0.25,n)\n",
        "y+=noise\n",
        "\n",
        "# Convert data into dataframe\n",
        "df = pd.DataFrame({'X':x, 'Y':y})\n",
        "df.head()\n"
      ]
    },
    {
      "cell_type": "code",
      "source": [
        "# Let's plot the data!\n",
        "\n",
        "plt.scatter(df['X'], df['Y'])\n",
        "plt.title('Y vs X')\n",
        "plt.xlabel('X')\n",
        "plt.ylabel('Y')\n",
        "plt.show()"
      ],
      "metadata": {
        "id": "p4pDM3PYCxv6",
        "collapsed": true,
        "colab": {
          "base_uri": "https://localhost:8080/",
          "height": 295
        },
        "outputId": "1ece7cd7-b2e0-4c0a-c30f-7196325d630e"
      },
      "execution_count": null,
      "outputs": [
        {
          "output_type": "display_data",
          "data": {
            "text/plain": [
              "<Figure size 432x288 with 1 Axes>"
            ],
            "image/png": "[encoded data removed]"
          },
          "metadata": {
            "needs_background": "light"
          }
        }
      ]
    },
    {
      "cell_type": "markdown",
      "source": [
        "## The Sklearn Pipeline\n",
        "\n",
        "1. Extract features + target\n",
        "\n",
        "2. Perform train-test split\n",
        "\n",
        "3. Instantiate your model\n",
        "\n",
        "4. Fit your model to the training data (model training)\n",
        "\n",
        "5. (Optional) Save your predictions -- useful if you need some accuracy metric against the known outputs\n",
        "\n",
        "6. Check accuracy"
      ],
      "metadata": {
        "id": "fmH3Uy_iQuvx"
      }
    },
    {
      "cell_type": "code",
      "execution_count": null,
      "metadata": {
        "id": "f5OnoOcfJuox",
        "collapsed": true,
        "colab": {
          "base_uri": "https://localhost:8080/"
        },
        "outputId": "5b3813e0-4e10-4d99-c9fe-f1b179181f73"
      },
      "outputs": [
        {
          "output_type": "stream",
          "name": "stdout",
          "text": [
            "Score:  0.9415613958757892\n"
          ]
        }
      ],
      "source": [
        "# Now let's train a linear regression model on our data (for now we will only train once, so we won't have a validation set)\n",
        "X = df[['X']]\n",
        "Y = df['Y']\n",
        "\n",
        "# Split the data into a training set and test set using train_test_split\n",
        "train_x, test_x, train_y, test_y = train_test_split(X,Y, test_size = 0.2, random_state=42)\n",
        "\n",
        "# Instantiate linear regression model\n",
        "model = LinearRegression()\n",
        "\n",
        "# Fit the linear regression model to our data\n",
        "model.fit(train_x, train_y)\n",
        "\n",
        "# Save test set predictions\n",
        "predictions = model.predict(test_x)\n",
        "\n",
        "# Print the R^2 value (how accurate was our model in predicting the y-values)?\n",
        "print(\"Score: \", model.score(test_x,test_y))"
      ]
    },
    {
      "cell_type": "code",
      "source": [
        "# Look at the output of our linear regression model vs the actual data (test set)\n",
        "\n",
        "# Plot Predictions\n",
        "plt.plot(test_x, predictions, c = 'black')\n",
        "\n",
        "# Plot Actual Data\n",
        "plt.scatter(test_x,test_y)\n",
        "plt.title('Linear Regression Model')\n",
        "plt.xlabel('Test X values')\n",
        "plt.ylabel('Y values with LinReg line')\n",
        "\n",
        "plt.show()\n"
      ],
      "metadata": {
        "id": "qVSy0s6IwguT",
        "colab": {
          "base_uri": "https://localhost:8080/",
          "height": 295
        },
        "outputId": "8ed4d312-5a35-499d-9f7b-3b30157a2050"
      },
      "execution_count": null,
      "outputs": [
        {
          "output_type": "display_data",
          "data": {
            "text/plain": [
              "<Figure size 432x288 with 1 Axes>"
            ],
            "image/png": "[encoded data removed]"
          },
          "metadata": {
            "needs_background": "light"
          }
        }
      ]
    },
    {
      "cell_type": "code",
      "execution_count": null,
      "metadata": {
        "id": "qCBvfUYhJuoy",
        "collapsed": true,
        "colab": {
          "base_uri": "https://localhost:8080/"
        },
        "outputId": "0604b5af-e329-449e-da78-92bd7d520fa8"
      },
      "outputs": [
        {
          "output_type": "stream",
          "name": "stdout",
          "text": [
            "predicted slope: -3.1772421333971423\n",
            "actual slope: -3.141592653589793\n"
          ]
        }
      ],
      "source": [
        "# Look at the slope of our linear model vs the actual slope\n",
        "\n",
        "print(\"predicted slope: \" + str(model.coef_[0]))\n",
        "print(\"actual slope: \" + str(-np.pi))"
      ]
    },
    {
      "cell_type": "code",
      "execution_count": null,
      "metadata": {
        "id": "N0YrwHi_Juoy",
        "collapsed": true,
        "colab": {
          "base_uri": "https://localhost:8080/"
        },
        "outputId": "f8c7376c-f147-476f-ae34-8a80de35379a"
      },
      "outputs": [
        {
          "output_type": "stream",
          "name": "stdout",
          "text": [
            "predicted slope: 2.728412528588952\n",
            "actual slope: 2.718281828459045\n"
          ]
        }
      ],
      "source": [
        "# Look at the y-intercept of our model vs the actual intercept\n",
        "print(\"predicted slope: \" + str(model.intercept_))\n",
        "print(\"actual slope: \" + str(np.e))"
      ]
    },
    {
      "cell_type": "code",
      "execution_count": null,
      "metadata": {
        "id": "kFmLuKC5Juox"
      },
      "outputs": [],
      "source": [
        "# In the future: how to create a validation set (useful for the HW)\n",
        "not_testx, test_x, not_testy, test_y = train_test_split(df[['X']], df['Y'], test_size = 0.2, random_state = 42)\n",
        "train_x, valid_x, train_y, valid_y = train_test_split(not_testx, not_testy, test_size = 0.2, random_state = 42)"
      ]
    },
    {
      "cell_type": "code",
      "source": [],
      "metadata": {
        "id": "go5YdNYYBgYh"
      },
      "execution_count": null,
      "outputs": []
    }
  ],
  "metadata": {
    "kernelspec": {
      "display_name": "Python 3",
      "language": "python",
      "name": "python3"
    },
    "language_info": {
      "codemirror_mode": {
        "name": "ipython",
        "version": 3
      },
      "file_extension": ".py",
      "mimetype": "text/x-python",
      "name": "python",
      "nbconvert_exporter": "python",
      "pygments_lexer": "ipython3",
      "version": "3.6.5"
    },
    "colab": {
      "provenance": []
    }
  },
  "nbformat": 4,
  "nbformat_minor": 0
}