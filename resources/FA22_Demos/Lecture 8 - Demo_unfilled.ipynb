{
 "cells": [
  {
   "cell_type": "markdown",
   "metadata": {
    "id": "CwcE-p0xeMAr"
   },
   "source": [
    "## General Links to Documentation"
   ]
  },
  {
   "cell_type": "markdown",
   "metadata": {
    "id": "TRNGQmbDeMAv"
   },
   "source": [
    "https://scikit-learn.org/stable/modules/generated/sklearn.linear_model.Perceptron.html - Documentation that could help if you're stuck on the first example specifically. \n",
    "\n",
    "### Anything with scikit-learn.org is a good place to be for checking documentation.\n",
    "\n",
    "We've provided some documentation links on the homework for you all to see."
   ]
  },
  {
   "cell_type": "markdown",
   "metadata": {
    "id": "F2Ya0knveMAw"
   },
   "source": [
    "## Perceptron Demo"
   ]
  },
  {
   "cell_type": "markdown",
   "metadata": {
    "id": "wtEBEa1FeMAx"
   },
   "source": [
    "## SVM Demo"
   ]
  },
  {
   "cell_type": "code",
   "execution_count": null,
   "metadata": {
    "executionInfo": {
     "elapsed": 1494,
     "status": "ok",
     "timestamp": 1667059232677,
     "user": {
      "displayName": "Kevin Jiang",
      "userId": "02309180567779424994"
     },
     "user_tz": 240
    },
    "id": "gcikKtrxeMAx"
   },
   "outputs": [],
   "source": [
    "import pandas as pd\n",
    "import numpy as np\n",
    "import matplotlib.pyplot as plt\n",
    "from sklearn.svm import SVC\n",
    "from sklearn.model_selection import train_test_split\n",
    "%matplotlib inline"
   ]
  },
  {
   "cell_type": "code",
   "execution_count": null,
   "metadata": {
    "colab": {
     "base_uri": "https://localhost:8080/",
     "height": 279
    },
    "executionInfo": {
     "elapsed": 472,
     "status": "ok",
     "timestamp": 1667059235195,
     "user": {
      "displayName": "Kevin Jiang",
      "userId": "02309180567779424994"
     },
     "user_tz": 240
    },
    "id": "Gp2MMTj0eMAz",
    "outputId": "df11b39c-6c6c-4f75-8960-d9d3a2df50b0"
   },
   "outputs": [],
   "source": [
    "data = []\n",
    "for i in range(0,1000):\n",
    "    point = [np.random.uniform(-5,5),np.random.uniform(-5,5)]\n",
    "    if point[0]**2 + point[1]**2 < 5:\n",
    "        point.append(0)\n",
    "    else:\n",
    "        point.append(1)\n",
    "    data.append(point)\n",
    "\n",
    "data = np.asarray(data)\n",
    "plt.scatter(data[:,0],data[:,1],c=data[:,2])\n",
    "plt.xlabel('x'); plt.ylabel('y')\n",
    "plt.vlines(0,-5,5,alpha=0.5); plt.hlines(0,-5,5,alpha=0.5)\n",
    "plt.show()"
   ]
  },
  {
   "cell_type": "code",
   "execution_count": null,
   "metadata": {
    "colab": {
     "base_uri": "https://localhost:8080/",
     "height": 279
    },
    "executionInfo": {
     "elapsed": 8396,
     "status": "ok",
     "timestamp": 1667059244865,
     "user": {
      "displayName": "Kevin Jiang",
      "userId": "02309180567779424994"
     },
     "user_tz": 240
    },
    "id": "FZmKDdDoeMA0",
    "outputId": "ec33e8c5-53bb-4835-b803-ea6fc5dc36d9"
   },
   "outputs": [],
   "source": [
    "X = \n",
    "y = \n",
    "h = .02\n",
    "X_train, X_test, y_train, y_test = train_test_split(X, y, test_size = 0.40)\n",
    "classifier = SVC(kernel = 'rbf', gamma = 1)\n",
    "classifier.fit(X_train, y_train)\n",
    "\n",
    "x_min, x_max = X[:, 0].min() - 1, X[:, 0].max() + 1\n",
    "y_min, y_max = X[:, 1].min() - 1, X[:, 1].max() + 1\n",
    "xx, yy = \n",
    "Z = \n",
    "\n",
    "# Put the result into a color plot\n",
    "Z = Z.reshape(xx.shape)\n",
    "plt.contourf(xx, yy, Z, cmap=plt.cm.coolwarm, alpha=0.8)\n",
    "plt.scatter(data[:,0],data[:,1],c=data[:,2])\n",
    "plt.xlabel('x'); plt.ylabel('y')\n",
    "plt.xlim(xx.min(), xx.max())\n",
    "plt.ylim(yy.min(), yy.max())\n",
    "plt.show()"
   ]
  },
  {
   "cell_type": "code",
   "execution_count": null,
   "metadata": {
    "colab": {
     "base_uri": "https://localhost:8080/",
     "height": 279
    },
    "executionInfo": {
     "elapsed": 12632,
     "status": "ok",
     "timestamp": 1667059259712,
     "user": {
      "displayName": "Kevin Jiang",
      "userId": "02309180567779424994"
     },
     "user_tz": 240
    },
    "id": "UZ-9qBoieMA1",
    "outputId": "db2ccc04-8dd4-47c5-9337-85ab7ad070ff",
    "scrolled": true
   },
   "outputs": [],
   "source": [
    "# Change gamma to 7\n",
    "\n"
   ]
  },
  {
   "cell_type": "markdown",
   "metadata": {
    "id": "lX29zGAieMA2"
   },
   "source": [
    "https://scikit-learn.org/stable/auto_examples/svm/plot_rbf_parameters.html - understand gammas better"
   ]
  },
  {
   "cell_type": "code",
   "execution_count": null,
   "metadata": {
    "colab": {
     "base_uri": "https://localhost:8080/",
     "height": 279
    },
    "executionInfo": {
     "elapsed": 1950,
     "status": "ok",
     "timestamp": 1667059264011,
     "user": {
      "displayName": "Kevin Jiang",
      "userId": "02309180567779424994"
     },
     "user_tz": 240
    },
    "id": "wliFUvwCeMA3",
    "outputId": "088e0d65-bc89-4128-a58a-a8eca202f397"
   },
   "outputs": [],
   "source": [
    "# use linear classifier\n",
    "classifier = \n",
    "# fit the data\n",
    "\n",
    "\n",
    "# classify\n",
    "x_min, x_max = X[:, 0].min() - 1, X[:, 0].max() + 1\n",
    "y_min, y_max = X[:, 1].min() - 1, X[:, 1].max() + 1\n",
    "xx, yy = np.meshgrid(np.arange(x_min, x_max, h),np.arange(y_min, y_max, h))\n",
    "Z = classifier.predict(np.c_[xx.ravel(), yy.ravel()])\n",
    "\n",
    "# Put the result into a color plot\n",
    "Z = Z.reshape(xx.shape)\n",
    "plt.contourf(xx, yy, Z, cmap=plt.cm.coolwarm, alpha=0.8)\n",
    "plt.scatter(data[:,0],data[:,1],c=data[:,2])\n",
    "plt.xlabel('x'); plt.ylabel('y')\n",
    "plt.show()"
   ]
  },
  {
   "cell_type": "markdown",
   "metadata": {
    "id": "s8VzW34YeMA4"
   },
   "source": [
    "https://chrisalbon.com/code/machine_learning/support_vector_machines/svc_parameters_using_rbf_kernel/ Nice blog post with effect of C and gamma on a different dataset "
   ]
  },
  {
   "cell_type": "markdown",
   "metadata": {
    "id": "_sX1b4dHeMA5"
   },
   "source": [
    "## Gridsearchcv\n",
    "\n",
    "![image.png](attachment:image.png)"
   ]
  },
  {
   "cell_type": "markdown",
   "metadata": {
    "id": "YbraUmzoeMA5"
   },
   "source": [
    "--------------------------------------"
   ]
  },
  {
   "cell_type": "markdown",
   "metadata": {
    "id": "jfNcnFrLeMA5"
   },
   "source": [
    "We'll be using this dataset: https://www.kaggle.com/akram24/social-network-ads \n",
    "Download the dataset"
   ]
  },
  {
   "cell_type": "code",
   "execution_count": null,
   "metadata": {
    "id": "GFd8GgTBeMA5",
    "outputId": "bc255ca8-9911-4332-ed04-b1a79c1c3cd5"
   },
   "outputs": [],
   "source": [
    "df = pd.read_csv('Social_Network_Ads.csv')\n",
    "df.head()"
   ]
  },
  {
   "cell_type": "code",
   "execution_count": null,
   "metadata": {
    "id": "-5Ei1k3CeMA6",
    "outputId": "61d12f36-e855-42d6-a359-f11d0990c557"
   },
   "outputs": [],
   "source": [
    "plt.scatter(df.iloc[:,2], df.iloc[:,3],c=df.iloc[:,-1])\n",
    "plt.xlabel('Age')\n",
    "plt.ylabel('EstimatedSalary')\n",
    "plt.show()"
   ]
  },
  {
   "cell_type": "code",
   "execution_count": null,
   "metadata": {
    "id": "qC0sOMMHeMA6",
    "scrolled": true
   },
   "outputs": [],
   "source": [
    "from sklearn.tree import DecisionTreeClassifier\n",
    "X = df.iloc[:, 1:4]\n",
    "for index, row in X.iterrows():\n",
    "    if row['Gender'] == 'Male':\n",
    "        X.loc[index, 'Gender'] = 0\n",
    "    else:\n",
    "        X.loc[index, 'Gender'] = 1\n",
    "        \n",
    "y = df.iloc[:, 4]\n",
    "X_train, X_test, y_train, y_test = train_test_split(X, y, test_size = 0.10, random_state = 1998)\n",
    "df_train = pd.concat([X_train, y_train], axis=1)\n",
    "\n",
    "predictions = []\n",
    "accuracies = []\n",
    "m = 100\n",
    "for i in range(m):\n",
    "    # sample from the dataset\n",
    "    df_bootstrap = \n",
    "\n",
    "    \n",
    "    \n",
    "    \n",
    "    "
   ]
  },
  {
   "cell_type": "code",
   "execution_count": null,
   "metadata": {
    "id": "yCm2-KiJeMA8"
   },
   "outputs": [],
   "source": []
  }
 ],
 "metadata": {
  "colab": {
   "provenance": []
  },
  "kernelspec": {
   "display_name": "Python 3",
   "language": "python",
   "name": "python3"
  },
  "language_info": {
   "codemirror_mode": {
    "name": "ipython",
    "version": 3
   },
   "file_extension": ".py",
   "mimetype": "text/x-python",
   "name": "python",
   "nbconvert_exporter": "python",
   "pygments_lexer": "ipython3",
   "version": "3.8.8"
  },
  "toc": {
   "base_numbering": 1,
   "nav_menu": {},
   "number_sections": true,
   "sideBar": true,
   "skip_h1_title": false,
   "title_cell": "Table of Contents",
   "title_sidebar": "Contents",
   "toc_cell": false,
   "toc_position": {},
   "toc_section_display": true,
   "toc_window_display": false
  },
  "varInspector": {
   "cols": {
    "lenName": 16,
    "lenType": 16,
    "lenVar": 40
   },
   "kernels_config": {
    "python": {
     "delete_cmd_postfix": "",
     "delete_cmd_prefix": "del ",
     "library": "var_list.py",
     "varRefreshCmd": "print(var_dic_list())"
    },
    "r": {
     "delete_cmd_postfix": ") ",
     "delete_cmd_prefix": "rm(",
     "library": "var_list.r",
     "varRefreshCmd": "cat(var_dic_list()) "
    }
   },
   "types_to_exclude": [
    "module",
    "function",
    "builtin_function_or_method",
    "instance",
    "_Feature"
   ],
   "window_display": false
  }
 },
 "nbformat": 4,
 "nbformat_minor": 1
}
