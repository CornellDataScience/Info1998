{
 "cells": [
  {
   "cell_type": "markdown",
   "metadata": {
    "id": "79rWt21wd_5Z"
   },
   "source": [
    "The decision tree algorithm can be used to do both classification as well as regression and has the advantage of not assuming a linear model. Decisions trees are usually easy to represent visually which makes it easy to understand how the model actually works. "
   ]
  },
  {
   "cell_type": "markdown",
   "metadata": {
    "id": "e2ipLHcwd_5Z"
   },
   "source": [
    "### Geometric Intuition\n",
    "![image](https://docs.microsoft.com/en-us/azure/machine-learning/studio/media/algorithm-choice/image5.png)"
   ]
  },
  {
   "cell_type": "code",
   "execution_count": null,
   "metadata": {
    "id": "eGym5xlHd_5c"
   },
   "outputs": [],
   "source": [
    "# import necessary packages\n",
    "import pandas as pd\n",
    "import numpy as np\n",
    "from sklearn.metrics import accuracy_score\n",
    "from sklearn.model_selection import train_test_split\n",
    "from sklearn.tree import DecisionTreeClassifier\n",
    "from sklearn import tree\n",
    "from sklearn import datasets"
   ]
  },
  {
   "cell_type": "code",
   "execution_count": null,
   "metadata": {
    "id": "_gf8r9z8d_5f",
    "outputId": "cbb0644d-2b2a-4627-b1ad-ba159a2651c6"
   },
   "outputs": [],
   "source": [
    "df = pd.read_csv('lecture7example.csv')\n",
    "X=df.drop(['id', 'diagnosis', 'Unnamed: 32'], axis=1)\n",
    "Y=df['diagnosis']\n",
    "df.head()\n"
   ]
  },
  {
   "cell_type": "markdown",
   "metadata": {
    "id": "JOYI2tFu4ZKE"
   },
   "source": [
    "# Decision Tree with Ordinary Train Test Split"
   ]
  },
  {
   "cell_type": "code",
   "execution_count": null,
   "metadata": {
    "id": "xJUqYe9md_5h"
   },
   "outputs": [],
   "source": [
    "X_train, X_test, Y_train, Y_test = train_test_split(X, Y, test_size=0.33, random_state=1998)"
   ]
  },
  {
   "cell_type": "code",
   "execution_count": null,
   "metadata": {
    "id": "7xSPG4FId_5j",
    "outputId": "6d1050c6-fe48-4537-dab1-d64ee9f40093"
   },
   "outputs": [],
   "source": [
    "# Creates the Decision Tree Classifier\n",
    "\n",
    "#TODO: train the model\n",
    "\n",
    "#TODO: Calculate the training and testing accuracy"
   ]
  },
  {
   "cell_type": "markdown",
   "metadata": {
    "id": "zBHK8Coy4ZKH"
   },
   "source": [
    "# Decision Tree with K-Fold Cross Validation"
   ]
  },
  {
   "cell_type": "code",
   "execution_count": null,
   "metadata": {
    "id": "s8p7ER1rd_5o",
    "outputId": "24402880-4ba1-4a5a-bb45-b2ce50e55658",
    "scrolled": true
   },
   "outputs": [],
   "source": [
    "from sklearn.model_selection import KFold"
   ]
  },
  {
   "cell_type": "markdown",
   "metadata": {
    "id": "wheZI5Dad_5q"
   },
   "source": [
    "# Logistic Regression Classifier"
   ]
  },
  {
   "cell_type": "code",
   "execution_count": null,
   "metadata": {
    "id": "I33OQQAU4ZKK",
    "outputId": "0a688d91-de15-40c7-fcc3-94eacec2d495"
   },
   "outputs": [],
   "source": [
    "from sklearn.linear_model import LogisticRegression"
   ]
  }
 ],
 "metadata": {
  "colab": {
   "provenance": []
  },
  "kernelspec": {
   "display_name": "Python 3",
   "language": "python",
   "name": "python3"
  },
  "language_info": {
   "codemirror_mode": {
    "name": "ipython",
    "version": 3
   },
   "file_extension": ".py",
   "mimetype": "text/x-python",
   "name": "python",
   "nbconvert_exporter": "python",
   "pygments_lexer": "ipython3",
   "version": "3.8.3"
  },
  "notebookId": "^EG=G=gSDql5SN"
 },
 "nbformat": 4,
 "nbformat_minor": 1
}
