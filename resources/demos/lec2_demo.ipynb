{
 "cells": [
  {
   "cell_type": "code",
   "execution_count": 1,
   "id": "d6b84365",
   "metadata": {
    "id": "d6b84365"
   },
   "outputs": [
    {
     "name": "stdout",
     "output_type": "stream",
     "text": [
      "Intel MKL WARNING: Support of Intel(R) Streaming SIMD Extensions 4.2 (Intel(R) SSE4.2) enabled only processors has been deprecated. Intel oneAPI Math Kernel Library 2025.0 will require Intel(R) Advanced Vector Extensions (Intel(R) AVX) instructions.\n",
      "Intel MKL WARNING: Support of Intel(R) Streaming SIMD Extensions 4.2 (Intel(R) SSE4.2) enabled only processors has been deprecated. Intel oneAPI Math Kernel Library 2025.0 will require Intel(R) Advanced Vector Extensions (Intel(R) AVX) instructions.\n"
     ]
    }
   ],
   "source": [
    "# importing relevant libraries\n",
    "import pandas as pd\n",
    "import numpy as np"
   ]
  },
  {
   "cell_type": "code",
   "execution_count": 2,
   "id": "2fef217e",
   "metadata": {
    "id": "2fef217e"
   },
   "outputs": [],
   "source": [
    "#Open Lecture 2 Dataframe, print df and head\n",
    "df=pd.read_csv('lecture2data.csv')"
   ]
  },
  {
   "cell_type": "code",
   "execution_count": 3,
   "id": "949664fb",
   "metadata": {
    "id": "949664fb",
    "outputId": "faa315d8-cc88-45f3-9fa1-f04974ec3dbe"
   },
   "outputs": [
    {
     "data": {
      "text/plain": [
       "Index(['PassengerId', 'Survived', 'Class', 'Name', 'Sex', 'Age', 'Ticket',\n",
       "       'Fare', 'Cabin', 'Port'],\n",
       "      dtype='object')"
      ]
     },
     "execution_count": 3,
     "metadata": {},
     "output_type": "execute_result"
    }
   ],
   "source": [
    "#Look at columns in Dataframe\n",
    "df.columns"
   ]
  },
  {
   "cell_type": "code",
   "execution_count": null,
   "id": "014093eb",
   "metadata": {
    "id": "014093eb"
   },
   "outputs": [],
   "source": [
    "#Look at certain column "
   ]
  },
  {
   "cell_type": "code",
   "execution_count": null,
   "id": "29a1b3ac",
   "metadata": {
    "id": "29a1b3ac"
   },
   "outputs": [],
   "source": [
    "# Filtering\n",
    "# Access a group of rows and columns by label(s) or a boolean array.\n",
    "FareAbove20_OlderThan40=..."
   ]
  },
  {
   "cell_type": "code",
   "execution_count": null,
   "id": "20d45264",
   "metadata": {
    "id": "20d45264"
   },
   "outputs": [],
   "source": [
    "#Find mean of a column"
   ]
  },
  {
   "cell_type": "code",
   "execution_count": null,
   "id": "3076d026",
   "metadata": {
    "id": "3076d026"
   },
   "outputs": [],
   "source": [
    "#Fillna"
   ]
  },
  {
   "cell_type": "code",
   "execution_count": null,
   "id": "3fc38563",
   "metadata": {
    "id": "3fc38563"
   },
   "outputs": [],
   "source": [
    "#Dummy Encoding \n",
    "df['male']=0\n",
    "df['female']=0\n",
    "df"
   ]
  },
  {
   "cell_type": "code",
   "execution_count": null,
   "id": "db596152",
   "metadata": {
    "id": "db596152"
   },
   "outputs": [],
   "source": [
    "#Fill in columns correctly"
   ]
  },
  {
   "cell_type": "code",
   "execution_count": null,
   "id": "8a7eca81",
   "metadata": {
    "id": "8a7eca81"
   },
   "outputs": [],
   "source": []
  }
 ],
 "metadata": {
  "colab": {
   "provenance": []
  },
  "kernelspec": {
   "display_name": "Python 3 (ipykernel)",
   "language": "python",
   "name": "python3"
  },
  "language_info": {
   "codemirror_mode": {
    "name": "ipython",
    "version": 3
   },
   "file_extension": ".py",
   "mimetype": "text/x-python",
   "name": "python",
   "nbconvert_exporter": "python",
   "pygments_lexer": "ipython3",
   "version": "3.11.5"
  }
 },
 "nbformat": 4,
 "nbformat_minor": 5
}
