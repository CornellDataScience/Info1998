{
  "cells": [
    {
      "cell_type": "code",
      "execution_count": null,
      "metadata": {
        "id": "93fKxInoTzqk"
      },
      "outputs": [],
      "source": [
        "import requests as rq\n",
        "from bs4 import BeautifulSoup as bs\n",
        "import lxml as lxml\n",
        "import pandas as pd"
      ]
    },
    {
      "cell_type": "code",
      "execution_count": null,
      "metadata": {
        "id": "h0IZdXHIT9Sh"
      },
      "outputs": [],
      "source": [
        "base_url = \"https://weather.com/weather/hourbyhour/l/a7728cedd4dfc3c22a182fa00be4cd3826e62adb314498d4dc714c94e5fa09fb\""
      ]
    },
    {
      "cell_type": "code",
      "execution_count": null,
      "metadata": {
        "id": "1kcwaN7vUh0Q"
      },
      "outputs": [],
      "source": [
        "response = rq.get(base_url)"
      ]
    },
    {
      "cell_type": "code",
      "execution_count": null,
      "metadata": {
        "id": "GcPvxNRWU6hx"
      },
      "outputs": [],
      "source": [
        "soup = bs(response.content, 'html.parser')\n",
        "\n",
        "#getting the tags that contain the temperature and forecast\n",
        "detailsTags = soup.findAll('details')\n",
        "\n",
        "#getting rid of the extra tags at the beginning that correspond to other parts of the page\n",
        "detailsTags = detailsTags[5:]\n",
        "\n",
        "#getting the tags that contain the date and time\n",
        "h2Tags = soup.findAll('h2')\n",
        "date = []\n",
        "time = []\n",
        "currentDay = \"\"\n",
        "\n",
        "#parse through the h2 tags\n",
        "for header in h2Tags:\n",
        "    if header.has_attr('id') and \"currentDateId\" in header['id']:\n",
        "      currentDay = header.text\n",
        "    if header.has_attr('data-testid'):\n",
        "      date.append(currentDay)\n",
        "      time.append(header.text)\n",
        "date = date[1:]\n",
        "time = time[1:]\n",
        "\n",
        "forecast = []\n",
        "temperature = []\n",
        "\n",
        "#parse through the details\n",
        "for detail in detailsTags:\n",
        "  li_element = detail.find('li')\n",
        "  temp = li_element.find('span', {'data-testid': 'TemperatureValue'})\n",
        "  if temp:\n",
        "    temperature.append(temp.text)\n",
        "  forecast.append(detail.title.text)\n",
        "h2Tags"
      ]
    },
    {
      "cell_type": "code",
      "execution_count": null,
      "metadata": {
        "id": "plXQ8n9pYutd"
      },
      "outputs": [],
      "source": [
        "#creating a dataframe\n",
        "df = pd.DataFrame({\n",
        "    'Date': date,\n",
        "    'Time' : time,\n",
        "    'Forecast': forecast,\n",
        "    'Temperature': temperature\n",
        "})\n"
      ]
    }
  ],
  "metadata": {
    "colab": {
      "provenance": []
    },
    "kernelspec": {
      "display_name": "Python 3",
      "name": "python3"
    },
    "language_info": {
      "name": "python"
    }
  },
  "nbformat": 4,
  "nbformat_minor": 0
}
